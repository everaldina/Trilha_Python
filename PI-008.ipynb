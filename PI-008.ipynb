{
 "cells": [
  {
   "cell_type": "markdown",
   "metadata": {},
   "source": [
    "# INSTRUÇÃO PRÁTICA - IP-P008\n",
    "## Revisao e consolidaçao do conteúdo de __Pandas__ avançado.\n",
    "Dados de estações metereologicas de Salvador dos anos de 2003, 2013 e 2023, diponiveis em: [Instituto Nacional de Meteorologia](https://portal.inmet.gov.br/dadoshistoricos). \n",
    "\n",
    "### Exercicio 1: Tratando series temporais por tempos\n",
    "1. Carregando dados utilizando `DatetimeIndex`"
   ]
  },
  {
   "cell_type": "code",
   "execution_count": 32,
   "metadata": {},
   "outputs": [],
   "source": [
    "import pandas as pd\n",
    "import numpy as np\n",
    "\n",
    "estacao_ssa_2003 = pd.read_csv('datasets/tratados/estacao_Salvador_2003.pkl', sep=\",\", encoding='latin-1')\n",
    "estacao_ssa_2013 = pd.read_csv('datasets/tratados/estacao_Salvador_2013.pkl', sep=\",\", encoding='utf-8')\n",
    "estacao_ssa_2023 = pd.read_csv('datasets/tratados/estacao_Salvador_2023.pkl', sep=\",\", encoding='latin-1')"
   ]
  },
  {
   "cell_type": "code",
   "execution_count": 33,
   "metadata": {},
   "outputs": [],
   "source": [
    "# Cria o DateTimeIndex a partir da coluna DATA (YYYY-MM-DD) e HORA (UTC)\n",
    "estacao_ssa_2003_index = pd.to_datetime(estacao_ssa_2003['DATA (YYYY-MM-DD)'] + ' ' + estacao_ssa_2003['HORA (UTC)'])\n",
    "estacao_ssa_2013_index = pd.to_datetime(estacao_ssa_2013['DATA (YYYY-MM-DD)'] + ' ' + estacao_ssa_2013['HORA (UTC)'])\n",
    "estacao_ssa_2023_index = pd.to_datetime(estacao_ssa_2023['Data'] + ' ' + estacao_ssa_2023['Hora UTC'])\n",
    "\n",
    "# Remova as colunas originais DATA (YYYY-MM-DD) e HORA (UTC)\n",
    "estacao_ssa_2003.drop(['DATA (YYYY-MM-DD)', 'HORA (UTC)'], axis=1, inplace=True)\n",
    "estacao_ssa_2013.drop(['DATA (YYYY-MM-DD)', 'HORA (UTC)'], axis=1, inplace=True)\n",
    "estacao_ssa_2023.drop(['Data', 'Hora UTC'], axis=1, inplace=True)\n",
    "\n",
    "# Define a coluna DATA HORA como índice\n",
    "estacao_ssa_2003.index = estacao_ssa_2003_index\n",
    "estacao_ssa_2013.index = estacao_ssa_2013_index\n",
    "estacao_ssa_2023.index = estacao_ssa_2023_index"
   ]
  },
  {
   "cell_type": "markdown",
   "metadata": {},
   "source": [
    "2. Juntando os dois datasets em um só"
   ]
  },
  {
   "cell_type": "code",
   "execution_count": 35,
   "metadata": {},
   "outputs": [],
   "source": [
    "estacao_ssa = pd.concat([estacao_ssa_2003, estacao_ssa_2013, estacao_ssa_2023])"
   ]
  },
  {
   "cell_type": "markdown",
   "metadata": {},
   "source": [
    "3. Analisando os dataframes"
   ]
  },
  {
   "cell_type": "code",
   "execution_count": 36,
   "metadata": {},
   "outputs": [],
   "source": [
    "estacao_ssa.replace(['-9999', -9999, -9999.0, '-9999.0'], value= np.nan, inplace=True)"
   ]
  },
  {
   "cell_type": "code",
   "execution_count": 38,
   "metadata": {},
   "outputs": [
    {
     "name": "stdout",
     "output_type": "stream",
     "text": [
      "[nan '0' ',2' '6' ',4' '4,8' '6,4' '1,4' '2,4' '1' ',6' '3' '21,8' '2,2'\n",
      " '6,8' ',8' '2,6' '4,6' '3,4' '8,4' '1,2' '1,8' '15,8' '12,4' '13,8' '4'\n",
      " '10,2' '2' '7,6' '1,6' '3,6' '3,2' '3,8' '4,2' '5,2' '5,8' '10,6' '6,2'\n",
      " '5,6' '9,6' '18,4' '7,4' '18' '16,2' '2,8' '5' '11,6' '10,4' '14,4' '52'\n",
      " '19' '24,4' '13' '21,6' '12,8' '17,6' '18,2' '11,8' '9' '9,4' '8,8' '22'\n",
      " '7,8' '8' '10' '11,2' '5,4' '12,2' '14,6' '7' '4,4' '12' '6,6' '15,2'\n",
      " '9,2' '13,2' '29,4' '7,2' '13,6' '0,8' '0,2' '0,4' '0,6' '9,8' '32,4'\n",
      " '20,6' '8,6' '16,6' '23,8' '14,2' '32,8' '12,6' '13,4' '11' '17' '15,6'\n",
      " '20,4' '17,2' '44,4' '16' '25' '16,8' '14' '8,2' '31,6' '24,2' '22,4'\n",
      " '16,4' '27,6' '38,4']\n"
     ]
    }
   ],
   "source": [
    "# tratando precipitacao\n",
    "print(estacao_ssa['PRECIPITAÇÃO TOTAL, HORÁRIO (mm)'].unique())\n",
    "\n",
    "# substiduindo valores , por .\n",
    "estacao_ssa.loc[:, ('PRECIPITAÇÃO TOTAL, HORÁRIO (mm)')].replace(',', '.', regex=True, inplace=True)\n",
    "\n",
    "# convertendo para float\n",
    "estacao_ssa['PRECIPITAÇÃO TOTAL, HORÁRIO (mm)'] = estacao_ssa['PRECIPITAÇÃO TOTAL, HORÁRIO (mm)'].astype('float64')\n",
    "\n",
    "# preenchendo valores NaN com valor anteriores\n",
    "estacao_ssa.loc[:, ('PRECIPITAÇÃO TOTAL, HORÁRIO (mm)')].ffill(inplace=True)"
   ]
  },
  {
   "cell_type": "code",
   "execution_count": null,
   "metadata": {},
   "outputs": [],
   "source": [
    "# tratando temperaturas\n",
    "print(np.unique(estacao_ssa['temperatura'].values.astype('str')))\n",
    "colunas = estacao_ssa['temperatura'].columns.values.tolist()\n",
    "\n",
    "# substiduindo valores , por .\n",
    "for coluna in colunas:\n",
    "    estacao_ssa.loc[:, ('temperatura', coluna)].replace(',', '.', regex=True, inplace=True)\n",
    "\n",
    "# convertendo para float\n",
    "estacao_ssa['temperatura'] = estacao_ssa['temperatura'].astype('float64')\n",
    "\n",
    "# preenchendo valores NaN com valor anteriores\n",
    "for coluna in colunas:\n",
    "    estacao_ssa.loc[:, ('temperatura', coluna)].ffill(inplace=True)"
   ]
  },
  {
   "cell_type": "markdown",
   "metadata": {},
   "source": [
    "### Exercicio 2: Utilizando eval() e query()\n",
    "1. Comparação de desempenho"
   ]
  },
  {
   "cell_type": "code",
   "execution_count": null,
   "metadata": {},
   "outputs": [],
   "source": []
  }
 ],
 "metadata": {
  "kernelspec": {
   "display_name": "trilhaPython",
   "language": "python",
   "name": "python3"
  },
  "language_info": {
   "codemirror_mode": {
    "name": "ipython",
    "version": 3
   },
   "file_extension": ".py",
   "mimetype": "text/x-python",
   "name": "python",
   "nbconvert_exporter": "python",
   "pygments_lexer": "ipython3",
   "version": "3.11.5"
  }
 },
 "nbformat": 4,
 "nbformat_minor": 2
}
