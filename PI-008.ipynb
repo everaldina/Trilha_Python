{
 "cells": [
  {
   "cell_type": "markdown",
   "metadata": {},
   "source": [
    "# INSTRUÇÃO PRÁTICA - IP-P008\n",
    "## Revisao e consolidaçao do conteúdo de __Pandas__ avançado.\n",
    "Dados de estações metereologicas de Salvador dos anos de 2003, 2013 e 2023, diponiveis em: [Instituto Nacional de Meteorologia](https://portal.inmet.gov.br/dadoshistoricos). \n",
    "\n",
    "### Exercicio 1: Tratando series temporais por tempos\n",
    "1. Carregando dados utilizando `DatetimeIndex`"
   ]
  },
  {
   "cell_type": "code",
   "execution_count": 44,
   "metadata": {},
   "outputs": [],
   "source": [
    "import pandas as pd\n",
    "import numpy as np\n",
    "\n",
    "estacao_ssa_2003 = pd.read_pickle('datasets/tratados/estacao_Salvador_2003.pkl')\n",
    "estacao_ssa_2013 = pd.read_pickle('datasets/tratados/estacao_Salvador_2013.pkl')\n",
    "estacao_ssa_2023 = pd.read_pickle('datasets/tratados/estacao_Salvador_2023.pkl')"
   ]
  },
  {
   "cell_type": "code",
   "execution_count": 45,
   "metadata": {},
   "outputs": [],
   "source": [
    "# Cria o DateTimeIndex a partir da coluna DATA (YYYY-MM-DD) e HORA (UTC)\n",
    "estacao_ssa_2003_index = pd.to_datetime(estacao_ssa_2003['DATA (YYYY-MM-DD)'] + ' ' + estacao_ssa_2003['HORA (UTC)'])\n",
    "estacao_ssa_2013_index = pd.to_datetime(estacao_ssa_2013['DATA (YYYY-MM-DD)'] + ' ' + estacao_ssa_2013['HORA (UTC)'])\n",
    "estacao_ssa_2023_index = pd.to_datetime(estacao_ssa_2023['Data'] + ' ' + estacao_ssa_2023['Hora UTC'])\n",
    "\n",
    "# Remova as colunas originais DATA (YYYY-MM-DD) e HORA (UTC)\n",
    "estacao_ssa_2003.drop(['DATA (YYYY-MM-DD)', 'HORA (UTC)'], axis=1, inplace=True)\n",
    "estacao_ssa_2013.drop(['DATA (YYYY-MM-DD)', 'HORA (UTC)'], axis=1, inplace=True)\n",
    "estacao_ssa_2023.drop(['Data', 'Hora UTC'], axis=1, inplace=True)\n",
    "\n",
    "# Define a coluna DATA HORA como índice\n",
    "estacao_ssa_2003.index = estacao_ssa_2003_index\n",
    "estacao_ssa_2013.index = estacao_ssa_2013_index\n",
    "estacao_ssa_2023.index = estacao_ssa_2023_index"
   ]
  },
  {
   "cell_type": "markdown",
   "metadata": {},
   "source": [
    "2. Juntando os dois datasets em um só"
   ]
  },
  {
   "cell_type": "code",
   "execution_count": 46,
   "metadata": {},
   "outputs": [],
   "source": [
    "estacao_ssa = pd.concat([estacao_ssa_2003, estacao_ssa_2013, estacao_ssa_2023])"
   ]
  },
  {
   "cell_type": "markdown",
   "metadata": {},
   "source": [
    "3. Analisando os dataframes"
   ]
  },
  {
   "cell_type": "code",
   "execution_count": null,
   "metadata": {},
   "outputs": [],
   "source": []
  },
  {
   "cell_type": "markdown",
   "metadata": {},
   "source": [
    "### Exercicio 2: Utilizando eval() e query()\n",
    "1. Comparação de desempenho"
   ]
  },
  {
   "cell_type": "code",
   "execution_count": null,
   "metadata": {},
   "outputs": [],
   "source": []
  }
 ],
 "metadata": {
  "kernelspec": {
   "display_name": "trilhaPython",
   "language": "python",
   "name": "python3"
  },
  "language_info": {
   "codemirror_mode": {
    "name": "ipython",
    "version": 3
   },
   "file_extension": ".py",
   "mimetype": "text/x-python",
   "name": "python",
   "nbconvert_exporter": "python",
   "pygments_lexer": "ipython3",
   "version": "3.11.5"
  }
 },
 "nbformat": 4,
 "nbformat_minor": 2
}
