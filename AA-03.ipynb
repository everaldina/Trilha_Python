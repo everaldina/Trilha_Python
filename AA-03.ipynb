{
 "cells": [
  {
   "cell_type": "markdown",
   "metadata": {},
   "source": [
    "# Segunda Avaliação Parcial\n",
    "\n",
    "Neste módulo trabalhamos a visualização de dados, assim como as técnicas para acessar estes dados da internet. As técnicas de web scraping que estudamos, usando __Requests__, __Beautiful Soup__ e __Selenium__, permitem implementar aplicações que processam informação diretamente da rede.  \n",
    "\n",
    "Desde a Instrução prática 7, por exemplo, estamos trabalhando com dados que baixamos do [Instituto Nacional de Meteorologia](https://portal.inmet.gov.br/dadoshistoricos).  \n",
    "\n",
    "Aprendemos também como implementar uma aplicação com GUI utilizando o __TK Inter__. \n",
    "\n",
    "Neste contexto vamos implementar uma aplicação que, a traves de uma GUI, permita gerar gráficos de precipitações e temperaturas medias mensais de um determinado ano, para uma estação meteorológica. A atividade deve ser organizada da seguinte forma."
   ]
  },
  {
   "cell_type": "markdown",
   "metadata": {},
   "source": [
    "## Exercício 1\n",
    "\n",
    "__Primeiro protótipo__: Desenvolva uma interface gráfica que pegue, em tempo real, as informações sobre os dados de quais anos estão disponíveis no site do [Instituto Nacional de Meteorologia](https://portal.inmet.gov.br/dadoshistoricos). Os anos disponíveis devem ser apresentados utilizando um widget apropriado que permita selecionar um, e apenas um ano. Se não tiver conexão a Internet ou se o site não estiver disponível o aplicativo deve mostrar uma mensagem de erro na interface.\n"
   ]
  },
  {
   "cell_type": "code",
   "execution_count": null,
   "metadata": {},
   "outputs": [],
   "source": [
    "# fazendo a requisicao\n",
    "link = 'https://portal.inmet.gov.br/dadoshistoricos'\n",
    "headers = {'User-Agent': 'Mozilla/5.0 (Windows NT 10.0; Win64; x64) AppleWebKit/537.36 (KHTML, like Gecko) Chrome/58.0.3029.110 Safari/537.3'}\n",
    "\n",
    "try:\n",
    "    requisicao = requests.get(link, headers=headers)\n",
    "except ConnectionError:\n",
    "    requisicao = None\n",
    "    resposta = None\n",
    "    raise Exception('Requisição não foi bem sucedida')\n",
    "except Exception as e:\n",
    "    requisicao = None\n",
    "    resposta = None\n",
    "    raise e\n",
    "if requisicao:\n",
    "    resposta = bs4.BeautifulSoup(requisicao.text, 'html.parser')\n",
    "else:\n",
    "    resposta = None"
   ]
  },
  {
   "cell_type": "code",
   "execution_count": null,
   "metadata": {},
   "outputs": [],
   "source": [
    "# pegando anos e links\n",
    "if resposta:\n",
    "    lista_anos = {}\n",
    "    lita_links = resposta.find('div', attrs={'id': 'main'}).find_all('a')\n",
    "    for item in lita_links:\n",
    "        link = item.attrs['href']\n",
    "        ano = link.split('/')[-1]\n",
    "        lista_anos[ano[:-4]] =  link \n",
    "    #return lista_anos\n",
    "else:\n",
    "    raise Exception('Requisição não foi bem sucedida')"
   ]
  },
  {
   "cell_type": "code",
   "execution_count": null,
   "metadata": {},
   "outputs": [],
   "source": [
    "# Widget combobox\n",
    "frameEstacao.inpAnos = Combobox(values=[], state='readonly')\n",
    "\n",
    "anos = get_anos() # retorna um dicionario com os anos e links\n",
    "anosList = list(anos.keys())\n",
    "anosList.insert(0, '')\n",
    "frameEstacao.inpAnos['values'] = anosList"
   ]
  },
  {
   "cell_type": "markdown",
   "metadata": {},
   "source": [
    "## Exercício 2\n",
    "\n",
    "__Segundo protótipo__: Com base no ano escolhido sua aplicação deve baixar o arquivo compactado, com os dados de todas as estações, descompactar ele numa pasta temporária e mostrar em um outro widget a lista de estações disponíveis para selecionar uma e apenas uma delas. O widget do protótipo anterior deve ficar disponível para que o usuário possa trocar o ano se desejar. Nesse caso um novo arquivo será baixado e descompactado e as estações disponíveis exibidas para seleção."
   ]
  },
  {
   "cell_type": "code",
   "execution_count": null,
   "metadata": {},
   "outputs": [],
   "source": [
    "# baixar e descompactar zip\n",
    "def carregar_estacoes(self, link_ano: str) -> None:\n",
    "    nome = link_ano.split('/')[-1]\n",
    "    requisicao = requests.get(link_ano, headers=self.headers)\n",
    "    \n",
    "    if requisicao.status_code == 200:\n",
    "        with open(link_ano.split('/')[-1], 'wb') as f:\n",
    "            f.write(requisicao.content)\n",
    "    else:\n",
    "        raise Exception('Erro ao salvar o arquivo')\n",
    "    \n",
    "    with zipfile.ZipFile(nome, 'r') as zip_ref:\n",
    "        self.pasta_ano = nome[:-4]\n",
    "        zip_ref.extractall(self.pasta_ano)\n",
    "    \n",
    "    os.remove(nome)"
   ]
  },
  {
   "cell_type": "code",
   "execution_count": null,
   "metadata": {},
   "outputs": [],
   "source": [
    "# pegar lista de estacoes de um ano\n",
    "def get_estacoes(self) -> dict:\n",
    "    estacoes={}\n",
    "\n",
    "    if not os.path.exists(self.pasta_ano):\n",
    "        raise Exception('Pasta não existe')\n",
    "\n",
    "    for root, dirs, files in os.walk(f'{self.pasta_ano}'):\n",
    "        for file in files:\n",
    "            if file.endswith('.CSV') or file.endswith('.csv'):\n",
    "                estacoes[file.split('_')[4]] = os.path.join(root, file)\n",
    "    \n",
    "    return estacoes"
   ]
  },
  {
   "cell_type": "code",
   "execution_count": null,
   "metadata": {},
   "outputs": [],
   "source": [
    "# colocando na combobox\n",
    "frameEstacao.inpEstacoes = Combobox(values=[], state='readonly')\n",
    "\n",
    "estacaoes = get_estacoes() # retorna um dicionario com os anos e links\n",
    "estacaoesList = list(anos.keys())\n",
    "frameEstacao.inpEstacoes['values'] = estacaoesList"
   ]
  },
  {
   "cell_type": "markdown",
   "metadata": {},
   "source": [
    "# Exercício 3\n",
    "\n",
    "__Terceiro protótipo__: Com base na estação selecionada gere e exiba dentro da aplicação os gráficos de precipitações e temperaturas medias mensais para a estação selecionada. A interface deve permitir que o usuário troque a estação selecionada a qualquer momento, assim como foi feito co o ano, gerando novos gráficos.   "
   ]
  },
  {
   "cell_type": "code",
   "execution_count": null,
   "metadata": {},
   "outputs": [],
   "source": [
    "df_tratado = plot.trata_dados(caminho_arquivo)"
   ]
  },
  {
   "cell_type": "code",
   "execution_count": null,
   "metadata": {},
   "outputs": [],
   "source": [
    "# criar grafico\n",
    "def get_plot(caminho_arquivo: str) -> plt.Figure:\n",
    "    df = trata_dados(caminho_arquivo)\n",
    "    \n",
    "    fig, ax = plt.subplots(2, 1, figsize=(12, 6))\n",
    "    \n",
    "    acumulado_precipitacao = df.resample('ME')['PRECIPITAÇÃO TOTAL, HORÁRIO (mm)'].sum()\n",
    "    media_temperatura = df.groupby(df.index.month)['TEMPERATURA DO AR - BULBO SECO, HORARIA (°C)'].mean()\n",
    "    meses = df.index.month.unique()\n",
    "    \n",
    "    dict_meses = {1: 'Jan', 2: 'Fev', 3: 'Mar', \n",
    "                  4: 'Abr', 5: 'Mai', 6: 'Jun', \n",
    "                  7: 'Jul', 8: 'Ago', 9: 'Set', \n",
    "                  10: 'Out', 11: 'Nov', 12: 'Dez'}\n",
    "    \n",
    "    meses = [dict_meses[mes] for mes in meses]\n",
    "    \n",
    "    ax[0].plot(meses, acumulado_precipitacao, marker='o')\n",
    "    ax[0].set_title('Acumulado de precipitação no mês')\n",
    "    ax[0].set_xlabel('Mês')\n",
    "    ax[0].set_ylabel('Precipitação (mm)')\n",
    "    ax[0].grid(True)\n",
    "    \n",
    "    ax[1].plot(meses, media_temperatura, marker='o')\n",
    "    ax[1].set_title('Temperatura Média por mês')\n",
    "    ax[1].set_xlabel('Mês')\n",
    "    ax[1].set_ylabel('Temperatura (°C)')\n",
    "    ax[1].grid(True)\n",
    "    \n",
    "    fig.tight_layout()\n",
    "    \n",
    "    return fig"
   ]
  },
  {
   "cell_type": "code",
   "execution_count": null,
   "metadata": {},
   "outputs": [],
   "source": [
    "# mostrar grafico na tela\n",
    "def mostrar_grafico(self):\n",
    "    self.janelaGraficos = tk.Toplevel(self)\n",
    "    self.janelaGraficos.title('Gráficos')\n",
    "    \n",
    "    self.janelaGraficos.protocol(\"WM_DELETE_WINDOW\", self.janelaGraficos.destroy)\n",
    "    \n",
    "    # um dicionario com key = ano e value = caminho\n",
    "    caminho = self.estacoes[self.estacaoSelecionada.get()]\n",
    "    \n",
    "    try:\n",
    "        self.fig = get_plot(caminho)\n",
    "        \n",
    "        self.canvas = FigureCanvasTkAgg(self.fig, master=self.janelaGraficos)\n",
    "        self.canvas.draw()\n",
    "        self.canvas.get_tk_widget().pack(side=tk.TOP, fill=tk.BOTH, expand=1)\n",
    "    except Exception as e:\n",
    "        print(f'Erro: {e}')\n"
   ]
  },
  {
   "cell_type": "markdown",
   "metadata": {},
   "source": [
    "## Respostas\n",
    "\n",
    "Implemente sua aplicação como um pacote __Python__ e disponibilize neste __Notebook__ um explicação dos principais pontos da implementação. Utilize o comando mágico ``%run`` para executar o aplicativo desenvolvido.  Envie o __Notebook__ via __Moodle__ assim como o repositório com a implementação do aplicativo até o final do prazo. "
   ]
  }
 ],
 "metadata": {
  "kernelspec": {
   "display_name": "Python 3 (ipykernel)",
   "language": "python",
   "name": "python3"
  },
  "language_info": {
   "codemirror_mode": {
    "name": "ipython",
    "version": 3
   },
   "file_extension": ".py",
   "mimetype": "text/x-python",
   "name": "python",
   "nbconvert_exporter": "python",
   "pygments_lexer": "ipython3",
   "version": "3.9.18"
  }
 },
 "nbformat": 4,
 "nbformat_minor": 2
}
