{
 "cells": [
  {
   "cell_type": "markdown",
   "metadata": {},
   "source": [
    "# INSTRUÇÃO PRÁTICA 009\n",
    "## Revisao e consolidaçao do conteúdo de __Pandas__ avançado.\n",
    "Para a pratica serão utilizados dados de estações metereologicas de Salvador dos anos de 2003, 2013 e 2023, diponiveis em: [Instituto Nacional de Meteorologia](https://portal.inmet.gov.br/dadoshistoricos). \n",
    "\n",
    "Os dados foram limpos e unidos em um unico DataFrama, com MultiIndex para colunas e indexadas por um DateTimeIndex."
   ]
  },
  {
   "cell_type": "markdown",
   "metadata": {},
   "source": [
    "### Carregando os dados"
   ]
  },
  {
   "cell_type": "code",
   "execution_count": 787,
   "metadata": {},
   "outputs": [
    {
     "name": "stdout",
     "output_type": "stream",
     "text": [
      "\n"
     ]
    }
   ],
   "source": [
    "import pandas as pd\n",
    "\n",
    "estacao_ssa_2003 = pd.read_csv('./datasets/estacao_Salvador_2003.CSV', header=8, sep=';', encoding='latin-1')\n",
    "estacao_ssa_2013 = pd.read_csv('./datasets/estacao_Salvador_2013.CSV', header=8, sep=',', encoding='utf-8')\n",
    "estacao_ssa_2023 = pd.read_csv('./datasets/estacao_Salvador_2023.CSV', header=8, sep=';', encoding='latin-1')\n",
    "print()"
   ]
  },
  {
   "cell_type": "markdown",
   "metadata": {},
   "source": [
    "### Tratamento de dados"
   ]
  },
  {
   "cell_type": "markdown",
   "metadata": {},
   "source": [
    "1. Removendo coluna extra unnamed"
   ]
  },
  {
   "cell_type": "code",
   "execution_count": 788,
   "metadata": {},
   "outputs": [],
   "source": [
    "estacao_ssa_2003.drop(columns=['Unnamed: 19'], inplace=True)\n",
    "estacao_ssa_2023.drop(columns=['Unnamed: 19'], inplace=True)"
   ]
  },
  {
   "cell_type": "markdown",
   "metadata": {},
   "source": [
    "2. Unificando nomes de colunas"
   ]
  },
  {
   "cell_type": "code",
   "execution_count": 789,
   "metadata": {},
   "outputs": [],
   "source": [
    "# pegando lista de nomes de colunas de cada dataframe\n",
    "colunas_2003 = estacao_ssa_2003.columns.values.tolist() \n",
    "colunas_2013 = estacao_ssa_2013.columns.values.tolist()\n",
    "colunas_2023 = estacao_ssa_2023.columns.values.tolist()\n",
    "\n",
    "# renomeando colunas diferentes para o nome da coluna do dataframe de 2003\n",
    "for c_2003, c_2013, c_2023 in zip(colunas_2003, colunas_2013, colunas_2023):\n",
    "    if c_2003 != c_2013 or c_2003 != c_2023:\n",
    "        estacao_ssa_2013.rename(columns={c_2013: c_2003}, inplace=True)\n",
    "        estacao_ssa_2023.rename(columns={c_2023: c_2003}, inplace=True)\n",
    "        \n",
    "\n",
    "# concatenando os dataframes\n",
    "estacao_ssa = pd.concat([estacao_ssa_2003, estacao_ssa_2013, estacao_ssa_2023], ignore_index=True)"
   ]
  },
  {
   "cell_type": "markdown",
   "metadata": {},
   "source": [
    "3. Criando DateTimeIndex"
   ]
  },
  {
   "cell_type": "code",
   "execution_count": 790,
   "metadata": {},
   "outputs": [],
   "source": [
    "# tratando coluna hora\n",
    "mask_utc = estacao_ssa['HORA (UTC)'].str.contains('UTC')  # mascara para pegar apenas os dados com UTC\n",
    "\n",
    "# trantando dados utc\n",
    "dados_utc = estacao_ssa.loc[mask_utc, 'HORA (UTC)']\n",
    "dados_utc = dados_utc.replace(' UTC', '', regex=True) # removendo UTC\n",
    "dados_utc = dados_utc.str[0:2] + ':00' # pegando apenas a hora\n",
    "\n",
    "# colocando os dados tratados no dataframe\n",
    "estacao_ssa.loc[mask_utc, 'HORA (UTC)'] = dados_utc.values"
   ]
  },
  {
   "cell_type": "code",
   "execution_count": 791,
   "metadata": {},
   "outputs": [],
   "source": [
    "# tratando coluna data\n",
    "estacao_ssa['DATA (YYYY-MM-DD)'] = estacao_ssa['DATA (YYYY-MM-DD)'].str.replace('/', '-')"
   ]
  },
  {
   "cell_type": "code",
   "execution_count": 792,
   "metadata": {},
   "outputs": [],
   "source": [
    "# criando DateTimeIndex a partir da coluna DATA (YYYY-MM-DD) e HORA (UTC)\n",
    "estacao_ssa_index = pd.to_datetime(estacao_ssa['DATA (YYYY-MM-DD)'] + ' ' + estacao_ssa['HORA (UTC)'])\n",
    "\n",
    "# removendo as colunas originais DATA (YYYY-MM-DD) e HORA (UTC)\n",
    "estacao_ssa.drop(['DATA (YYYY-MM-DD)', 'HORA (UTC)'], axis=1, inplace=True)\n",
    "\n",
    "# Define a coluna DATA HORA como índice\n",
    "estacao_ssa.set_index(estacao_ssa_index, inplace=True)"
   ]
  },
  {
   "cell_type": "markdown",
   "metadata": {},
   "source": [
    "4. Criando MultiIndex para colunas"
   ]
  },
  {
   "cell_type": "code",
   "execution_count": 793,
   "metadata": {},
   "outputs": [],
   "source": [
    "# agrupando parametros de medição\n",
    "nivel_1 = ['precipitacao'] + ['pressao']*3 + ['radiacao'] + ['temperatura']*6 + ['umidade']*3 + ['velocidade do vento']*3\n",
    "nivel_2 = colunas_2003[2:]\n",
    "\n",
    "# definindo multiindex para as colunas\n",
    "index_col = pd.MultiIndex.from_arrays([nivel_1, nivel_2], names=['medicao', 'tipo'])\n",
    "\n",
    "estacao_ssa.columns = index_col"
   ]
  },
  {
   "cell_type": "markdown",
   "metadata": {},
   "source": [
    "5. Removendo colunas desnecessárias"
   ]
  },
  {
   "cell_type": "code",
   "execution_count": 794,
   "metadata": {},
   "outputs": [],
   "source": [
    "estacao_ssa.drop(['pressao', 'radiacao', 'umidade', 'velocidade do vento'], axis=1, inplace=True)"
   ]
  },
  {
   "cell_type": "markdown",
   "metadata": {},
   "source": [
    "6. Transformando colunas de string para float"
   ]
  },
  {
   "cell_type": "code",
   "execution_count": 795,
   "metadata": {},
   "outputs": [],
   "source": [
    "# substiduindo valores , por .\n",
    "estacao_ssa.replace(',', '.', regex=True, inplace=True)\n",
    "\n",
    "# convertendo para float\n",
    "estacao_ssa = estacao_ssa.astype('float64')"
   ]
  },
  {
   "cell_type": "markdown",
   "metadata": {},
   "source": [
    "7. Tratando valores nulos"
   ]
  },
  {
   "cell_type": "code",
   "execution_count": 796,
   "metadata": {},
   "outputs": [],
   "source": [
    "# tiranddo todos os possiveis valores nulos\n",
    "estacao_ssa.replace(['-9999', -9999, -9999.0, '-9999.0'], value= None, inplace=True)\n",
    "\n",
    "# preenchendo valores nulos\n",
    "estacao_ssa.bfill(inplace=True)"
   ]
  },
  {
   "cell_type": "markdown",
   "metadata": {},
   "source": [
    "### DataFrame final"
   ]
  },
  {
   "cell_type": "code",
   "execution_count": 797,
   "metadata": {},
   "outputs": [
    {
     "data": {
      "text/html": [
       "<div>\n",
       "<style scoped>\n",
       "    .dataframe tbody tr th:only-of-type {\n",
       "        vertical-align: middle;\n",
       "    }\n",
       "\n",
       "    .dataframe tbody tr th {\n",
       "        vertical-align: top;\n",
       "    }\n",
       "\n",
       "    .dataframe thead tr th {\n",
       "        text-align: left;\n",
       "    }\n",
       "</style>\n",
       "<table border=\"1\" class=\"dataframe\">\n",
       "  <thead>\n",
       "    <tr>\n",
       "      <th>medicao</th>\n",
       "      <th>precipitacao</th>\n",
       "      <th colspan=\"6\" halign=\"left\">temperatura</th>\n",
       "    </tr>\n",
       "    <tr>\n",
       "      <th>tipo</th>\n",
       "      <th>PRECIPITAÇÃO TOTAL, HORÁRIO (mm)</th>\n",
       "      <th>TEMPERATURA DO AR - BULBO SECO, HORARIA (°C)</th>\n",
       "      <th>TEMPERATURA DO PONTO DE ORVALHO (°C)</th>\n",
       "      <th>TEMPERATURA MÁXIMA NA HORA ANT. (AUT) (°C)</th>\n",
       "      <th>TEMPERATURA MÍNIMA NA HORA ANT. (AUT) (°C)</th>\n",
       "      <th>TEMPERATURA ORVALHO MAX. NA HORA ANT. (AUT) (°C)</th>\n",
       "      <th>TEMPERATURA ORVALHO MIN. NA HORA ANT. (AUT) (°C)</th>\n",
       "    </tr>\n",
       "  </thead>\n",
       "  <tbody>\n",
       "    <tr>\n",
       "      <th>2003-01-01 00:00:00</th>\n",
       "      <td>0.0</td>\n",
       "      <td>26.4</td>\n",
       "      <td>22.0</td>\n",
       "      <td>27.2</td>\n",
       "      <td>26.3</td>\n",
       "      <td>22.6</td>\n",
       "      <td>21.0</td>\n",
       "    </tr>\n",
       "    <tr>\n",
       "      <th>2003-01-01 01:00:00</th>\n",
       "      <td>0.0</td>\n",
       "      <td>26.4</td>\n",
       "      <td>22.0</td>\n",
       "      <td>27.2</td>\n",
       "      <td>26.3</td>\n",
       "      <td>22.6</td>\n",
       "      <td>21.0</td>\n",
       "    </tr>\n",
       "    <tr>\n",
       "      <th>2003-01-01 02:00:00</th>\n",
       "      <td>0.0</td>\n",
       "      <td>26.4</td>\n",
       "      <td>22.0</td>\n",
       "      <td>27.2</td>\n",
       "      <td>26.3</td>\n",
       "      <td>22.6</td>\n",
       "      <td>21.0</td>\n",
       "    </tr>\n",
       "    <tr>\n",
       "      <th>2003-01-01 03:00:00</th>\n",
       "      <td>0.0</td>\n",
       "      <td>26.4</td>\n",
       "      <td>22.0</td>\n",
       "      <td>27.2</td>\n",
       "      <td>26.3</td>\n",
       "      <td>22.6</td>\n",
       "      <td>21.0</td>\n",
       "    </tr>\n",
       "    <tr>\n",
       "      <th>2003-01-01 04:00:00</th>\n",
       "      <td>0.0</td>\n",
       "      <td>26.4</td>\n",
       "      <td>22.0</td>\n",
       "      <td>27.2</td>\n",
       "      <td>26.3</td>\n",
       "      <td>22.6</td>\n",
       "      <td>21.0</td>\n",
       "    </tr>\n",
       "  </tbody>\n",
       "</table>\n",
       "</div>"
      ],
      "text/plain": [
       "medicao                                 precipitacao   \n",
       "tipo                PRECIPITAÇÃO TOTAL, HORÁRIO (mm)   \n",
       "2003-01-01 00:00:00                              0.0  \\\n",
       "2003-01-01 01:00:00                              0.0   \n",
       "2003-01-01 02:00:00                              0.0   \n",
       "2003-01-01 03:00:00                              0.0   \n",
       "2003-01-01 04:00:00                              0.0   \n",
       "\n",
       "medicao                                              temperatura   \n",
       "tipo                TEMPERATURA DO AR - BULBO SECO, HORARIA (°C)   \n",
       "2003-01-01 00:00:00                                         26.4  \\\n",
       "2003-01-01 01:00:00                                         26.4   \n",
       "2003-01-01 02:00:00                                         26.4   \n",
       "2003-01-01 03:00:00                                         26.4   \n",
       "2003-01-01 04:00:00                                         26.4   \n",
       "\n",
       "medicao                                                    \n",
       "tipo                TEMPERATURA DO PONTO DE ORVALHO (°C)   \n",
       "2003-01-01 00:00:00                                 22.0  \\\n",
       "2003-01-01 01:00:00                                 22.0   \n",
       "2003-01-01 02:00:00                                 22.0   \n",
       "2003-01-01 03:00:00                                 22.0   \n",
       "2003-01-01 04:00:00                                 22.0   \n",
       "\n",
       "medicao                                                          \n",
       "tipo                TEMPERATURA MÁXIMA NA HORA ANT. (AUT) (°C)   \n",
       "2003-01-01 00:00:00                                       27.2  \\\n",
       "2003-01-01 01:00:00                                       27.2   \n",
       "2003-01-01 02:00:00                                       27.2   \n",
       "2003-01-01 03:00:00                                       27.2   \n",
       "2003-01-01 04:00:00                                       27.2   \n",
       "\n",
       "medicao                                                          \n",
       "tipo                TEMPERATURA MÍNIMA NA HORA ANT. (AUT) (°C)   \n",
       "2003-01-01 00:00:00                                       26.3  \\\n",
       "2003-01-01 01:00:00                                       26.3   \n",
       "2003-01-01 02:00:00                                       26.3   \n",
       "2003-01-01 03:00:00                                       26.3   \n",
       "2003-01-01 04:00:00                                       26.3   \n",
       "\n",
       "medicao                                                                \n",
       "tipo                TEMPERATURA ORVALHO MAX. NA HORA ANT. (AUT) (°C)   \n",
       "2003-01-01 00:00:00                                             22.6  \\\n",
       "2003-01-01 01:00:00                                             22.6   \n",
       "2003-01-01 02:00:00                                             22.6   \n",
       "2003-01-01 03:00:00                                             22.6   \n",
       "2003-01-01 04:00:00                                             22.6   \n",
       "\n",
       "medicao                                                               \n",
       "tipo                TEMPERATURA ORVALHO MIN. NA HORA ANT. (AUT) (°C)  \n",
       "2003-01-01 00:00:00                                             21.0  \n",
       "2003-01-01 01:00:00                                             21.0  \n",
       "2003-01-01 02:00:00                                             21.0  \n",
       "2003-01-01 03:00:00                                             21.0  \n",
       "2003-01-01 04:00:00                                             21.0  "
      ]
     },
     "execution_count": 797,
     "metadata": {},
     "output_type": "execute_result"
    }
   ],
   "source": [
    "estacao_ssa.head()"
   ]
  },
  {
   "cell_type": "code",
   "execution_count": 798,
   "metadata": {},
   "outputs": [
    {
     "name": "stdout",
     "output_type": "stream",
     "text": [
      "<class 'pandas.core.frame.DataFrame'>\n",
      "DatetimeIndex: 26280 entries, 2003-01-01 00:00:00 to 2023-12-31 23:00:00\n",
      "Data columns (total 7 columns):\n",
      " #   Column                                                           Non-Null Count  Dtype  \n",
      "---  ------                                                           --------------  -----  \n",
      " 0   (precipitacao, PRECIPITAÇÃO TOTAL, HORÁRIO (mm))                 26280 non-null  float64\n",
      " 1   (temperatura, TEMPERATURA DO AR - BULBO SECO, HORARIA (°C))      26280 non-null  float64\n",
      " 2   (temperatura, TEMPERATURA DO PONTO DE ORVALHO (°C))              26280 non-null  float64\n",
      " 3   (temperatura, TEMPERATURA MÁXIMA NA HORA ANT. (AUT) (°C))        26280 non-null  float64\n",
      " 4   (temperatura, TEMPERATURA MÍNIMA NA HORA ANT. (AUT) (°C))        26280 non-null  float64\n",
      " 5   (temperatura, TEMPERATURA ORVALHO MAX. NA HORA ANT. (AUT) (°C))  26280 non-null  float64\n",
      " 6   (temperatura, TEMPERATURA ORVALHO MIN. NA HORA ANT. (AUT) (°C))  26280 non-null  float64\n",
      "dtypes: float64(7)\n",
      "memory usage: 1.6 MB\n"
     ]
    }
   ],
   "source": [
    "estacao_ssa.info()"
   ]
  },
  {
   "cell_type": "code",
   "execution_count": 799,
   "metadata": {},
   "outputs": [
    {
     "data": {
      "text/html": [
       "<div>\n",
       "<style scoped>\n",
       "    .dataframe tbody tr th:only-of-type {\n",
       "        vertical-align: middle;\n",
       "    }\n",
       "\n",
       "    .dataframe tbody tr th {\n",
       "        vertical-align: top;\n",
       "    }\n",
       "\n",
       "    .dataframe thead tr th {\n",
       "        text-align: left;\n",
       "    }\n",
       "</style>\n",
       "<table border=\"1\" class=\"dataframe\">\n",
       "  <thead>\n",
       "    <tr>\n",
       "      <th>medicao</th>\n",
       "      <th>precipitacao</th>\n",
       "      <th colspan=\"6\" halign=\"left\">temperatura</th>\n",
       "    </tr>\n",
       "    <tr>\n",
       "      <th>tipo</th>\n",
       "      <th>PRECIPITAÇÃO TOTAL, HORÁRIO (mm)</th>\n",
       "      <th>TEMPERATURA DO AR - BULBO SECO, HORARIA (°C)</th>\n",
       "      <th>TEMPERATURA DO PONTO DE ORVALHO (°C)</th>\n",
       "      <th>TEMPERATURA MÁXIMA NA HORA ANT. (AUT) (°C)</th>\n",
       "      <th>TEMPERATURA MÍNIMA NA HORA ANT. (AUT) (°C)</th>\n",
       "      <th>TEMPERATURA ORVALHO MAX. NA HORA ANT. (AUT) (°C)</th>\n",
       "      <th>TEMPERATURA ORVALHO MIN. NA HORA ANT. (AUT) (°C)</th>\n",
       "    </tr>\n",
       "  </thead>\n",
       "  <tbody>\n",
       "    <tr>\n",
       "      <th>count</th>\n",
       "      <td>26280.000000</td>\n",
       "      <td>26280.000000</td>\n",
       "      <td>26280.000000</td>\n",
       "      <td>26280.000000</td>\n",
       "      <td>26280.000000</td>\n",
       "      <td>26280.000000</td>\n",
       "      <td>26280.000000</td>\n",
       "    </tr>\n",
       "    <tr>\n",
       "      <th>mean</th>\n",
       "      <td>0.202785</td>\n",
       "      <td>25.867500</td>\n",
       "      <td>21.679768</td>\n",
       "      <td>26.370327</td>\n",
       "      <td>25.393565</td>\n",
       "      <td>22.143900</td>\n",
       "      <td>21.228242</td>\n",
       "    </tr>\n",
       "    <tr>\n",
       "      <th>std</th>\n",
       "      <td>1.333296</td>\n",
       "      <td>2.377785</td>\n",
       "      <td>1.382037</td>\n",
       "      <td>2.527563</td>\n",
       "      <td>2.185660</td>\n",
       "      <td>1.449447</td>\n",
       "      <td>1.421677</td>\n",
       "    </tr>\n",
       "    <tr>\n",
       "      <th>min</th>\n",
       "      <td>0.000000</td>\n",
       "      <td>19.500000</td>\n",
       "      <td>14.700000</td>\n",
       "      <td>20.100000</td>\n",
       "      <td>19.300000</td>\n",
       "      <td>15.300000</td>\n",
       "      <td>-1.800000</td>\n",
       "    </tr>\n",
       "    <tr>\n",
       "      <th>25%</th>\n",
       "      <td>0.000000</td>\n",
       "      <td>24.000000</td>\n",
       "      <td>20.700000</td>\n",
       "      <td>24.400000</td>\n",
       "      <td>23.700000</td>\n",
       "      <td>21.200000</td>\n",
       "      <td>20.300000</td>\n",
       "    </tr>\n",
       "    <tr>\n",
       "      <th>50%</th>\n",
       "      <td>0.000000</td>\n",
       "      <td>25.600000</td>\n",
       "      <td>21.900000</td>\n",
       "      <td>26.000000</td>\n",
       "      <td>25.200000</td>\n",
       "      <td>22.300000</td>\n",
       "      <td>21.500000</td>\n",
       "    </tr>\n",
       "    <tr>\n",
       "      <th>75%</th>\n",
       "      <td>0.000000</td>\n",
       "      <td>27.300000</td>\n",
       "      <td>22.600000</td>\n",
       "      <td>28.000000</td>\n",
       "      <td>26.700000</td>\n",
       "      <td>23.200000</td>\n",
       "      <td>22.300000</td>\n",
       "    </tr>\n",
       "    <tr>\n",
       "      <th>max</th>\n",
       "      <td>52.000000</td>\n",
       "      <td>39.700000</td>\n",
       "      <td>26.600000</td>\n",
       "      <td>43.300000</td>\n",
       "      <td>33.000000</td>\n",
       "      <td>27.400000</td>\n",
       "      <td>25.100000</td>\n",
       "    </tr>\n",
       "  </tbody>\n",
       "</table>\n",
       "</div>"
      ],
      "text/plain": [
       "medicao                     precipitacao   \n",
       "tipo    PRECIPITAÇÃO TOTAL, HORÁRIO (mm)   \n",
       "count                       26280.000000  \\\n",
       "mean                            0.202785   \n",
       "std                             1.333296   \n",
       "min                             0.000000   \n",
       "25%                             0.000000   \n",
       "50%                             0.000000   \n",
       "75%                             0.000000   \n",
       "max                            52.000000   \n",
       "\n",
       "medicao                                  temperatura   \n",
       "tipo    TEMPERATURA DO AR - BULBO SECO, HORARIA (°C)   \n",
       "count                                   26280.000000  \\\n",
       "mean                                       25.867500   \n",
       "std                                         2.377785   \n",
       "min                                        19.500000   \n",
       "25%                                        24.000000   \n",
       "50%                                        25.600000   \n",
       "75%                                        27.300000   \n",
       "max                                        39.700000   \n",
       "\n",
       "medicao                                        \n",
       "tipo    TEMPERATURA DO PONTO DE ORVALHO (°C)   \n",
       "count                           26280.000000  \\\n",
       "mean                               21.679768   \n",
       "std                                 1.382037   \n",
       "min                                14.700000   \n",
       "25%                                20.700000   \n",
       "50%                                21.900000   \n",
       "75%                                22.600000   \n",
       "max                                26.600000   \n",
       "\n",
       "medicao                                              \n",
       "tipo    TEMPERATURA MÁXIMA NA HORA ANT. (AUT) (°C)   \n",
       "count                                 26280.000000  \\\n",
       "mean                                     26.370327   \n",
       "std                                       2.527563   \n",
       "min                                      20.100000   \n",
       "25%                                      24.400000   \n",
       "50%                                      26.000000   \n",
       "75%                                      28.000000   \n",
       "max                                      43.300000   \n",
       "\n",
       "medicao                                              \n",
       "tipo    TEMPERATURA MÍNIMA NA HORA ANT. (AUT) (°C)   \n",
       "count                                 26280.000000  \\\n",
       "mean                                     25.393565   \n",
       "std                                       2.185660   \n",
       "min                                      19.300000   \n",
       "25%                                      23.700000   \n",
       "50%                                      25.200000   \n",
       "75%                                      26.700000   \n",
       "max                                      33.000000   \n",
       "\n",
       "medicao                                                    \n",
       "tipo    TEMPERATURA ORVALHO MAX. NA HORA ANT. (AUT) (°C)   \n",
       "count                                       26280.000000  \\\n",
       "mean                                           22.143900   \n",
       "std                                             1.449447   \n",
       "min                                            15.300000   \n",
       "25%                                            21.200000   \n",
       "50%                                            22.300000   \n",
       "75%                                            23.200000   \n",
       "max                                            27.400000   \n",
       "\n",
       "medicao                                                   \n",
       "tipo    TEMPERATURA ORVALHO MIN. NA HORA ANT. (AUT) (°C)  \n",
       "count                                       26280.000000  \n",
       "mean                                           21.228242  \n",
       "std                                             1.421677  \n",
       "min                                            -1.800000  \n",
       "25%                                            20.300000  \n",
       "50%                                            21.500000  \n",
       "75%                                            22.300000  \n",
       "max                                            25.100000  "
      ]
     },
     "execution_count": 799,
     "metadata": {},
     "output_type": "execute_result"
    }
   ],
   "source": [
    "estacao_ssa.describe()"
   ]
  },
  {
   "cell_type": "markdown",
   "metadata": {},
   "source": [
    "### Analise de dados"
   ]
  },
  {
   "cell_type": "code",
   "execution_count": 800,
   "metadata": {},
   "outputs": [],
   "source": [
    "import matplotlib.pyplot as plt\n",
    "%matplotlib widget"
   ]
  },
  {
   "cell_type": "markdown",
   "metadata": {},
   "source": [
    "1. Subplot com evolução das temperaturas médias e acumulado de precipitações nos três anos."
   ]
  },
  {
   "cell_type": "code",
   "execution_count": null,
   "metadata": {},
   "outputs": [],
   "source": []
  },
  {
   "cell_type": "markdown",
   "metadata": {},
   "source": [
    "2. Acumulado de precipitações de Junho nos três anos."
   ]
  },
  {
   "cell_type": "code",
   "execution_count": 801,
   "metadata": {},
   "outputs": [
    {
     "data": {
      "application/vnd.jupyter.widget-view+json": {
       "model_id": "824bf2f947004f10a536fea2b8fe5c4c",
       "version_major": 2,
       "version_minor": 0
      },
      "image/png": "[encoded data removed]",
      "text/html": [
       "\n",
       "            <div style=\"display: inline-block;\">\n",
       "                <div class=\"jupyter-widgets widget-label\" style=\"text-align: center;\">\n",
       "                    Figure\n",
       "                </div>\n",
       "                <img src='data:image/png;base64,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' width=800.0/>\n",
       "            </div>\n",
       "        "
      ],
      "text/plain": [
       "Canvas(toolbar=Toolbar(toolitems=[('Home', 'Reset original view', 'home', 'home'), ('Back', 'Back to previous …"
      ]
     },
     "metadata": {},
     "output_type": "display_data"
    }
   ],
   "source": [
    "\n",
    "dados_junho = estacao_ssa[('precipitacao', 'PRECIPITAÇÃO TOTAL, HORÁRIO (mm)')][estacao_ssa.index.month == 6]\n",
    "\n",
    "# Agrupando por ano e somar as precipitações de junho\n",
    "acumulado_junho_por_ano = dados_junho.groupby([dados_junho.index.year, dados_junho.index.day]).sum().groupby(level=0).cumsum()\n",
    "\n",
    "# Criando o gráfico de linha para o acumulado de precipitação\n",
    "plt.figure(figsize=(8, 4))\n",
    "cores = ['blue', 'green', 'red']  # Defina cores diferentes para cada ano\n",
    "\n",
    "for i, (ano, dados) in enumerate(acumulado_junho_por_ano.groupby(acumulado_junho_por_ano.index.get_level_values(0))):\n",
    "  plt.plot(dados.index.get_level_values(1), dados.values, color=cores[i], alpha=0.7, label=f'Ano {ano}', marker='o')  # Adicionando marcadores para cada ponto\n",
    "\n",
    "plt.title('Acumulado de Precipitação em Junho')\n",
    "plt.xlabel('Dia de Junho')\n",
    "plt.ylabel('Acumulado de Precipitação (mm)')\n",
    "plt.legend()\n",
    "plt.show()\n"
   ]
  },
  {
   "cell_type": "markdown",
   "metadata": {},
   "source": [
    "3. Temperatura media de cada um dos dias de Março nos três anos."
   ]
  },
  {
   "cell_type": "code",
   "execution_count": null,
   "metadata": {},
   "outputs": [],
   "source": []
  },
  {
   "cell_type": "markdown",
   "metadata": {},
   "source": [
    "4. Temperatura máxima e mínima de cada uma das estações nos tres anos. Sendo:\n",
    "   - Verão (Janeiro, Fevereiro e Março)\n",
    "   - Outono (Abril, Maio e Junho) \n",
    "   - Inverno (Julho, Agosto e Setembro)\n",
    "   - Primavera (Outubro, Novembro e Dezembro)."
   ]
  },
  {
   "cell_type": "code",
   "execution_count": null,
   "metadata": {},
   "outputs": [],
   "source": []
  },
  {
   "cell_type": "markdown",
   "metadata": {},
   "source": [
    "5. Comportamente de temperatura media do dia 28 de Setembro em cada um dos intervalos do dia dos três anos. Sendo:\n",
    "   - Madrugada (00:00 a 06:00), \n",
    "   - Manha (06:00 a 12:00)\n",
    "   - Tarde (12:00 a 18:00)\n",
    "   - Noite (18:00 a 00:00)"
   ]
  },
  {
   "cell_type": "code",
   "execution_count": null,
   "metadata": {},
   "outputs": [],
   "source": []
  }
 ],
 "metadata": {
  "kernelspec": {
   "display_name": "residencia",
   "language": "python",
   "name": "python3"
  },
  "language_info": {
   "codemirror_mode": {
    "name": "ipython",
    "version": 3
   },
   "file_extension": ".py",
   "mimetype": "text/x-python",
   "name": "python",
   "nbconvert_exporter": "python",
   "pygments_lexer": "ipython3",
   "version": "3.11.7"
  }
 },
 "nbformat": 4,
 "nbformat_minor": 2
}
