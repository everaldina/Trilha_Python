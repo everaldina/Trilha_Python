{
 "cells": [
  {
   "cell_type": "markdown",
   "metadata": {},
   "source": [
    "# INSTRUÇÃO PRÁTICA 009\n",
    "## Revisao e consolidaçao do conteúdo de __Pandas__ avançado.\n",
    "Para a pratica serão utilizados dados de estações metereologicas de Salvador dos anos de 2003, 2013 e 2023, diponiveis em: [Instituto Nacional de Meteorologia](https://portal.inmet.gov.br/dadoshistoricos). \n",
    "\n",
    "Os dados foram limpos e unidos em um unico DataFrama, com MultiIndex para colunas e indexadas por um DateTimeIndex."
   ]
  },
  {
   "cell_type": "markdown",
   "metadata": {},
   "source": [
    "### Carregando os dados"
   ]
  },
  {
   "cell_type": "code",
   "execution_count": null,
   "metadata": {},
   "outputs": [],
   "source": [
    "import pandas as pd\n",
    "\n",
    "estacao_ssa_2003 = pd.read_csv('./datasets/estacao_Salvador_2003.CSV', header=8, sep=';', encoding='latin-1')\n",
    "estacao_ssa_2013 = pd.read_csv('./datasets/estacao_Salvador_2013.CSV', header=8, sep=',', encoding='utf-8')\n",
    "estacao_ssa_2023 = pd.read_csv('./datasets/estacao_Salvador_2023.CSV', header=8, sep=';', encoding='latin-1')\n",
    "print()"
   ]
  },
  {
   "cell_type": "markdown",
   "metadata": {},
   "source": [
    "### Tratamento de dados"
   ]
  },
  {
   "cell_type": "markdown",
   "metadata": {},
   "source": [
    "1. Removendo coluna extra unnamed"
   ]
  },
  {
   "cell_type": "code",
   "execution_count": null,
   "metadata": {},
   "outputs": [],
   "source": [
    "estacao_ssa_2003.drop(columns=['Unnamed: 19'], inplace=True)\n",
    "estacao_ssa_2023.drop(columns=['Unnamed: 19'], inplace=True)"
   ]
  },
  {
   "cell_type": "markdown",
   "metadata": {},
   "source": [
    "2. Unificando nomes de colunas"
   ]
  },
  {
   "cell_type": "code",
   "execution_count": null,
   "metadata": {},
   "outputs": [],
   "source": [
    "# pegando lista de nomes de colunas de cada dataframe\n",
    "colunas_2003 = estacao_ssa_2003.columns.values.tolist() \n",
    "colunas_2013 = estacao_ssa_2013.columns.values.tolist()\n",
    "colunas_2023 = estacao_ssa_2023.columns.values.tolist()\n",
    "\n",
    "# renomeando colunas diferentes para o nome da coluna do dataframe de 2003\n",
    "for c_2003, c_2013, c_2023 in zip(colunas_2003, colunas_2013, colunas_2023):\n",
    "    if c_2003 != c_2013 or c_2003 != c_2023:\n",
    "        estacao_ssa_2013.rename(columns={c_2013: c_2003}, inplace=True)\n",
    "        estacao_ssa_2023.rename(columns={c_2023: c_2003}, inplace=True)\n",
    "        \n",
    "\n",
    "# concatenando os dataframes\n",
    "estacao_ssa = pd.concat([estacao_ssa_2003, estacao_ssa_2013, estacao_ssa_2023], ignore_index=True)"
   ]
  },
  {
   "cell_type": "markdown",
   "metadata": {},
   "source": [
    "3. Criando DateTimeIndex"
   ]
  },
  {
   "cell_type": "code",
   "execution_count": null,
   "metadata": {},
   "outputs": [],
   "source": [
    "# tratando coluna hora\n",
    "mask_utc = estacao_ssa['HORA (UTC)'].str.contains('UTC')  # mascara para pegar apenas os dados com UTC\n",
    "\n",
    "# trantando dados utc\n",
    "dados_utc = estacao_ssa.loc[mask_utc, 'HORA (UTC)']\n",
    "dados_utc = dados_utc.replace(' UTC', '', regex=True) # removendo UTC\n",
    "dados_utc = dados_utc.str[0:2] + ':00' # pegando apenas a hora\n",
    "\n",
    "# colocando os dados tratados no dataframe\n",
    "estacao_ssa.loc[mask_utc, 'HORA (UTC)'] = dados_utc.values"
   ]
  },
  {
   "cell_type": "code",
   "execution_count": null,
   "metadata": {},
   "outputs": [],
   "source": [
    "# tratando coluna data\n",
    "estacao_ssa['DATA (YYYY-MM-DD)'] = estacao_ssa['DATA (YYYY-MM-DD)'].str.replace('/', '-')"
   ]
  },
  {
   "cell_type": "code",
   "execution_count": null,
   "metadata": {},
   "outputs": [],
   "source": [
    "# criando DateTimeIndex a partir da coluna DATA (YYYY-MM-DD) e HORA (UTC)\n",
    "estacao_ssa_index = pd.to_datetime(estacao_ssa['DATA (YYYY-MM-DD)'] + ' ' + estacao_ssa['HORA (UTC)'])\n",
    "\n",
    "# removendo as colunas originais DATA (YYYY-MM-DD) e HORA (UTC)\n",
    "estacao_ssa.drop(['DATA (YYYY-MM-DD)', 'HORA (UTC)'], axis=1, inplace=True)\n",
    "\n",
    "# Define a coluna DATA HORA como índice\n",
    "estacao_ssa.set_index(estacao_ssa_index, inplace=True)"
   ]
  },
  {
   "cell_type": "markdown",
   "metadata": {},
   "source": [
    "4. Criando MultiIndex para colunas"
   ]
  },
  {
   "cell_type": "code",
   "execution_count": null,
   "metadata": {},
   "outputs": [],
   "source": [
    "# agrupando parametros de medição\n",
    "nivel_1 = ['precipitacao'] + ['pressao']*3 + ['radiacao'] + ['temperatura']*6 + ['umidade']*3 + ['velocidade do vento']*3\n",
    "nivel_2 = colunas_2003[2:]\n",
    "\n",
    "# definindo multiindex para as colunas\n",
    "index_col = pd.MultiIndex.from_arrays([nivel_1, nivel_2], names=['medicao', 'tipo'])\n",
    "\n",
    "estacao_ssa.columns = index_col"
   ]
  },
  {
   "cell_type": "markdown",
   "metadata": {},
   "source": [
    "5. Removendo colunas desnecessárias"
   ]
  },
  {
   "cell_type": "code",
   "execution_count": null,
   "metadata": {},
   "outputs": [],
   "source": [
    "estacao_ssa.drop(['pressao', 'radiacao', 'umidade', 'velocidade do vento'], axis=1, inplace=True)"
   ]
  },
  {
   "cell_type": "markdown",
   "metadata": {},
   "source": [
    "6. Transformando colunas de string para float"
   ]
  },
  {
   "cell_type": "code",
   "execution_count": null,
   "metadata": {},
   "outputs": [],
   "source": [
    "# substiduindo valores , por .\n",
    "estacao_ssa.replace(',', '.', regex=True, inplace=True)\n",
    "\n",
    "# convertendo para float\n",
    "estacao_ssa = estacao_ssa.astype('float64')"
   ]
  },
  {
   "cell_type": "markdown",
   "metadata": {},
   "source": [
    "7. Tratando valores nulos"
   ]
  },
  {
   "cell_type": "code",
   "execution_count": null,
   "metadata": {},
   "outputs": [],
   "source": [
    "# tiranddo todos os possiveis valores nulos\n",
    "estacao_ssa.replace(['-9999', -9999, -9999.0, '-9999.0'], value= None, inplace=True)\n",
    "\n",
    "# preenchendo valores nulos\n",
    "estacao_ssa.bfill(inplace=True)"
   ]
  },
  {
   "cell_type": "markdown",
   "metadata": {},
   "source": [
    "### DataFrame final"
   ]
  },
  {
   "cell_type": "code",
   "execution_count": null,
   "metadata": {},
   "outputs": [],
   "source": [
    "estacao_ssa.head()"
   ]
  },
  {
   "cell_type": "code",
   "execution_count": null,
   "metadata": {},
   "outputs": [],
   "source": [
    "estacao_ssa.info()"
   ]
  },
  {
   "cell_type": "code",
   "execution_count": null,
   "metadata": {},
   "outputs": [],
   "source": [
    "estacao_ssa.describe()"
   ]
  },
  {
   "cell_type": "markdown",
   "metadata": {},
   "source": [
    "### Analise de dados"
   ]
  },
  {
   "cell_type": "code",
   "execution_count": null,
   "metadata": {},
   "outputs": [],
   "source": [
    "import matplotlib.pyplot as plt\n",
    "%matplotlib widget"
   ]
  },
  {
   "cell_type": "markdown",
   "metadata": {},
   "source": [
    "1. Subplot com evolução das temperaturas médias e acumulado de precipitações nos três anos."
   ]
  },
  {
   "cell_type": "code",
   "execution_count": null,
   "metadata": {},
   "outputs": [],
   "source": [
    "import matplotlib.pyplot as plt\n",
    "import pandas as pd\n",
    "import numpy as np\n",
    "\n",
    "temperaturas_medias_anuais = estacao_ssa['temperatura'].groupby(estacao_ssa.index.year).mean()\n",
    "acumulado_precipitacoes_anuais = estacao_ssa['precipitacao'].groupby(estacao_ssa.index.year).sum()\n",
    "\n",
    "# Criando um subplot\n",
    "fig, axs = plt.subplots(2, 1, figsize=(10, 8))\n",
    "\n",
    "# Definindo as cores para cada ano\n",
    "cores_temperaturas = ['blue', 'red', 'green', 'orange', 'purple', 'brown', 'gray', 'pink', 'cyan', 'magenta', 'olive']\n",
    "# Plotando a evolução das temperaturas médias\n",
    "temperaturas_medias_anuais.plot.bar(ax=axs[0], color=cores_temperaturas, label='Temperatura Média')\n",
    "\n",
    "# Configurações do primeiro subplot\n",
    "axs[0].set_title('Evolução das Temperaturas Médias (2003-2023)')\n",
    "axs[0].set_ylabel('Temperatura (°C)')\n",
    "\n",
    "# Plotando o acumulado de precipitações\n",
    "acumulado_precipitacoes_anuais.plot.bar(ax=axs[1], color='green', label='Acumulado de Precipitações')\n",
    "\n",
    "# Configurações do segundo subplot\n",
    "axs[1].set_title('Evolução do Acumulado de Precipitações (2003-2023)')\n",
    "axs[1].set_ylabel('Precipitação (mm)')\n",
    "\n",
    "# Adicionando legenda fora do gráfico\n",
    "axs[0].legend(loc='upper left', bbox_to_anchor=(1, 1), title='Legenda 1')\n",
    "axs[1].legend(loc='upper left', bbox_to_anchor=(1, 1), title='Legenda 2')\n",
    "\n",
    "# Ajustando layout\n",
    "plt.tight_layout()"
   ]
  },
  {
   "cell_type": "markdown",
   "metadata": {},
   "source": [
    "2. Acumulado de precipitações de Junho nos três anos."
   ]
  },
  {
   "cell_type": "code",
   "execution_count": null,
   "metadata": {},
   "outputs": [],
   "source": [
    "\n",
    "dados_junho = estacao_ssa[('precipitacao', 'PRECIPITAÇÃO TOTAL, HORÁRIO (mm)')][estacao_ssa.index.month == 6]\n",
    "\n",
    "# Agrupando por ano e somar as precipitações de junho\n",
    "acumulado_junho_por_ano = dados_junho.groupby([dados_junho.index.year, dados_junho.index.day]).sum().groupby(level=0).cumsum()\n",
    "\n",
    "# Criando o gráfico de linha para o acumulado de precipitação\n",
    "plt.figure(figsize=(8, 4))\n",
    "cores = ['blue', 'green', 'red']  # Defina cores diferentes para cada ano\n",
    "\n",
    "for i, (ano, dados) in enumerate(acumulado_junho_por_ano.groupby(acumulado_junho_por_ano.index.get_level_values(0))):\n",
    "  plt.plot(dados.index.get_level_values(1), dados.values, color=cores[i], alpha=0.7, label=f'Ano {ano}', marker='o')  # Adicionando marcadores para cada ponto\n",
    "\n",
    "plt.title('Acumulado de Precipitação em Junho')\n",
    "plt.xlabel('Dia de Junho')\n",
    "plt.ylabel('Acumulado de Precipitação (mm)')\n",
    "plt.legend()\n",
    "plt.show()\n"
   ]
  },
  {
   "cell_type": "markdown",
   "metadata": {},
   "source": [
    "3. Temperatura media de cada um dos dias de Março nos três anos."
   ]
  },
  {
   "cell_type": "code",
   "execution_count": null,
   "metadata": {},
   "outputs": [],
   "source": [
    "#Temperatura do ar - Bulbo seco\n",
    "dados_marco_bs = estacao_ssa[('temperatura', 'TEMPERATURA DO AR - BULBO SECO, HORARIA (°C)')][estacao_ssa.index.month == 3]\n",
    "\n",
    "temp_marco_bs = dados_marco_bs.groupby([dados_marco_bs.index.year, dados_marco_bs.index.day]).mean()\n",
    "\n",
    "\n",
    "plt.figure(figsize=(10, 6))\n",
    "cores = ['blue', 'green', 'red']\n",
    "\n",
    "for i, (ano, dados) in enumerate(temp_marco_bs.groupby(temp_marco_bs.index.get_level_values(0))):\n",
    "  plt.plot(dados.index.get_level_values(1), dados.values, color=cores[i], alpha=0.7, label=f'Ano {ano}', marker='o')  \n",
    "\n",
    "plt.title('TEMPERATURA DO AR - BULBO SECO - MÊS MARÇO')\n",
    "plt.xlabel('Dias de março')\n",
    "plt.ylabel('Temperatura (°C)')\n",
    "plt.legend()\n",
    "plt.show()"
   ]
  },
  {
   "cell_type": "code",
   "execution_count": null,
   "metadata": {},
   "outputs": [],
   "source": [
    "#Temperatura do ponto de orvalho\n",
    "dados_marco_po = estacao_ssa[('temperatura', 'TEMPERATURA DO PONTO DE ORVALHO (°C)')][estacao_ssa.index.month == 3]\n",
    "\n",
    "temp_marco_po = dados_marco_po.groupby([dados_marco_po.index.year, dados_marco_po.index.day]).mean()\n",
    "\n",
    "\n",
    "plt.figure(figsize=(10, 6))\n",
    "cores = ['blue', 'green', 'red']\n",
    "\n",
    "for i, (ano, dados) in enumerate(temp_marco_po.groupby(temp_marco_po.index.get_level_values(0))):\n",
    "  plt.plot(dados.index.get_level_values(1), dados.values, color=cores[i], alpha=0.7, label=f'Ano {ano}', marker='o')  \n",
    "\n",
    "plt.title('TEMPERATURA PONTO DE ORVALHO - MÊS MARÇO')\n",
    "plt.xlabel('Dias de março')\n",
    "plt.ylabel('Temperatura (°C)')\n",
    "plt.legend()\n",
    "plt.show()"
   ]
  },
  {
   "cell_type": "code",
   "execution_count": null,
   "metadata": {},
   "outputs": [],
   "source": [
    "#Temperatura na hora anterior\n",
    "dados_marco_max = estacao_ssa[('temperatura', 'TEMPERATURA MÁXIMA NA HORA ANT. (AUT) (°C)')][estacao_ssa.index.month == 3]\n",
    "dados_marco_min = estacao_ssa[('temperatura', 'TEMPERATURA MÍNIMA NA HORA ANT. (AUT) (°C)')][estacao_ssa.index.month == 3]\n",
    "\n",
    "temp_marco_max = dados_marco_max.groupby([dados_marco_max.index.year, dados_marco_max.index.day]).mean()\n",
    "temp_marco_min = dados_marco_min.groupby([dados_marco_min.index.year, dados_marco_min.index.day]).mean()\n",
    "\n",
    "temp_marco_media = (temp_marco_max + temp_marco_min)/2\n",
    "#temp_marco_media\n",
    "\n",
    "plt.figure(figsize=(10, 6))\n",
    "cores = ['blue', 'green', 'red']\n",
    "\n",
    "for i, (ano, dados) in enumerate(temp_marco_media.groupby(temp_marco_media.index.get_level_values(0))):\n",
    "  plt.plot(dados.index.get_level_values(1), dados.values, color=cores[i], alpha=0.7, label=f'Ano {ano}', marker='o')  \n",
    "\n",
    "plt.title('TEMPERATURA MÉDIA NA HORA ANT. - MÊS MARÇO')\n",
    "plt.xlabel('Dias de março')\n",
    "plt.ylabel('Temperatura (°C)')\n",
    "plt.legend()\n",
    "plt.show()"
   ]
  },
  {
   "cell_type": "code",
   "execution_count": null,
   "metadata": {},
   "outputs": [],
   "source": [
    "#Temperatura orvalho\n",
    "dados_marco_omax = estacao_ssa[('temperatura', 'TEMPERATURA ORVALHO MAX. NA HORA ANT. (AUT) (°C)')][estacao_ssa.index.month == 3]\n",
    "dados_marco_omin = estacao_ssa[('temperatura', 'TEMPERATURA ORVALHO MIN. NA HORA ANT. (AUT) (°C)')][estacao_ssa.index.month == 3]\n",
    "\n",
    "temp_marco_omax = dados_marco_omax.groupby([dados_marco_omax.index.year, dados_marco_omax.index.day]).mean()\n",
    "temp_marco_omin = dados_marco_omin.groupby([dados_marco_omin.index.year, dados_marco_omin.index.day]).mean()\n",
    "\n",
    "temp_marco_omedia = (temp_marco_omax + temp_marco_omin)/2\n",
    "\n",
    "plt.figure(figsize=(10, 6))\n",
    "cores = ['blue', 'green', 'red']\n",
    "\n",
    "for i, (ano, dados) in enumerate(temp_marco_omedia.groupby(temp_marco_omedia.index.get_level_values(0))):\n",
    "  plt.plot(dados.index.get_level_values(1), dados.values, color=cores[i], alpha=0.7, label=f'Ano {ano}', marker='o')  \n",
    "\n",
    "plt.title('TEMPERATURA ORVALHO MÉDIA NA HORA ANT. - MÊS MARÇO')\n",
    "plt.xlabel('Dias de março')\n",
    "plt.ylabel('Temperatura (°C)')\n",
    "plt.legend()\n",
    "plt.show()"
   ]
  },
  {
   "cell_type": "markdown",
   "metadata": {},
   "source": [
    "4. Temperatura máxima e mínima de cada uma das estações nos tres anos. Sendo:\n",
    "   - Verão (Janeiro, Fevereiro e Março)\n",
    "   - Outono (Abril, Maio e Junho) \n",
    "   - Inverno (Julho, Agosto e Setembro)\n",
    "   - Primavera (Outubro, Novembro e Dezembro)."
   ]
  },
  {
   "cell_type": "code",
   "execution_count": null,
   "metadata": {},
   "outputs": [],
   "source": [
    "# criando coluna para estacao\n",
    "dict_estacao = {1: 'verao', 2: 'verao', 3: 'verao', \n",
    "                4: 'outono', 5: 'outono', 6: 'outono', \n",
    "                7: 'inverno', 8: 'inverno', 9: 'inverno', \n",
    "                10: 'primavera', 11: 'primavera', 12: 'primavera'}\n",
    "\n",
    "df_estacao = estacao_ssa['temperatura'].copy()\n",
    "df_estacao['estacao'] = df_estacao.index.month.map(dict_estacao)\n",
    "df_estacao.head()"
   ]
  },
  {
   "cell_type": "code",
   "execution_count": null,
   "metadata": {},
   "outputs": [],
   "source": [
    "# temperaturas minimas\n",
    "fig, ax = plt.subplots(2, 2, figsize = (13, 10), sharey=True)\n",
    "nome_estacoes = ['verao', 'outono', 'inverno', 'primavera']\n",
    "eixos = [(0, 0), (0, 1), (1, 0), (1, 1)]\n",
    "anos = df_estacao.index.year.unique()\n",
    "\n",
    "for i, estacao in zip(eixos, nome_estacoes):\n",
    "    # pegando temperaturas médias por dia do ano de cada estação\n",
    "    temp_min = df_estacao.query('estacao == @estacao')['TEMPERATURA MÍNIMA NA HORA ANT. (AUT) (°C)'].resample('D').mean()\n",
    "    \n",
    "    # plotando cada ano\n",
    "    for ano in anos:\n",
    "        ax[i].plot(temp_min[str(ano)].index.dayofyear, temp_min[str(ano)].values, label=f'Ano {ano}', )\n",
    "        \n",
    "        # configurando eixos\n",
    "        ax[i].set_title(f'Temperaturas mínimas médias por dia do ano - {estacao}')\n",
    "        ax[i].set_xlabel('Dia do ano')\n",
    "        ax[i].set_ylabel('Temperatura (°C)')\n",
    "        \n",
    "handles, labels = ax[0,0].get_legend_handles_labels()\n",
    "fig.legend(handles, labels, loc='upper center')\n",
    "\n"
   ]
  },
  {
   "cell_type": "code",
   "execution_count": null,
   "metadata": {},
   "outputs": [],
   "source": [
    "# temperaturas maximas\n",
    "fig, ax = plt.subplots(2, 2, figsize = (13, 10), sharey=True)\n",
    "nome_estacoes = ['verao', 'outono', 'inverno', 'primavera']\n",
    "eixos = [(0, 0), (0, 1), (1, 0), (1, 1)]\n",
    "anos = df_estacao.index.year.unique()\n",
    "\n",
    "for i, estacao in zip(eixos, nome_estacoes):\n",
    "    # pegando temperaturas médias por dia do ano de cada estação\n",
    "    temp_max = df_estacao.query('estacao == @estacao')['TEMPERATURA MÁXIMA NA HORA ANT. (AUT) (°C)'].resample('D').mean()\n",
    "    \n",
    "    # plotando cada ano\n",
    "    for ano in anos:\n",
    "        ax[i].plot(temp_max[str(ano)].index.dayofyear, temp_max[str(ano)].values, label=f'Ano {ano}', )\n",
    "        \n",
    "        # configurando eixos\n",
    "        ax[i].set_title(f'Temperaturas máximas médias por dia do ano - {estacao}')\n",
    "        ax[i].set_xlabel('Dia do ano')\n",
    "        ax[i].set_ylabel('Temperatura (°C)')\n",
    "        \n",
    "handles, labels = ax[0,0].get_legend_handles_labels()\n",
    "fig.legend(handles, labels, loc='upper center')"
   ]
  },
  {
   "cell_type": "markdown",
   "metadata": {},
   "source": [
    "5. Comportamento de temperatura media do dia 28 de Setembro em cada um dos intervalos do dia dos três anos. Sendo:\n",
    "   - Madrugada (00:00 a 06:00), \n",
    "   - Manha (06:00 a 12:00)\n",
    "   - Tarde (12:00 a 18:00)\n",
    "   - Noite (18:00 a 00:00)"
   ]
  },
  {
   "cell_type": "code",
   "execution_count": null,
   "metadata": {},
   "outputs": [],
   "source": [
    "dados_dia_28_set = estacao_ssa[(estacao_ssa.index.month == 9) & (estacao_ssa.index.day == 28)]"
   ]
  },
  {
   "cell_type": "code",
   "execution_count": null,
   "metadata": {},
   "outputs": [],
   "source": [
    "# Média Madrugada\n",
    "\n",
    "media_madrugada = dados_dia_28_set[(dados_dia_28_set.index.hour >= 0) & (dados_dia_28_set.index.hour < 6)]\n",
    "media_madrugada_por_ano = media_madrugada.groupby(media_madrugada.index.year).mean()"
   ]
  },
  {
   "cell_type": "code",
   "execution_count": null,
   "metadata": {},
   "outputs": [],
   "source": [
    "# Média Manhã\n",
    "\n",
    "media_manha = dados_dia_28_set[(dados_dia_28_set.index.hour >= 6) & (dados_dia_28_set.index.hour < 12)]\n",
    "media_manha_por_ano = media_manha.groupby(media_manha.index.year).mean()"
   ]
  },
  {
   "cell_type": "code",
   "execution_count": null,
   "metadata": {},
   "outputs": [],
   "source": [
    "# Média Tarde\n",
    "\n",
    "media_tarde = dados_dia_28_set[(dados_dia_28_set.index.hour >= 12) & (dados_dia_28_set.index.hour < 18)]\n",
    "media_tarde_por_ano = media_tarde.groupby(media_tarde.index.year).mean()"
   ]
  },
  {
   "cell_type": "code",
   "execution_count": null,
   "metadata": {},
   "outputs": [],
   "source": [
    "# Média Noite\n",
    "\n",
    "media_noite = dados_dia_28_set[(dados_dia_28_set.index.hour >= 18) & (dados_dia_28_set.index.hour < 24)]\n",
    "media_noite_por_ano = media_noite.groupby(media_noite.index.year).mean()"
   ]
  },
  {
   "cell_type": "code",
   "execution_count": null,
   "metadata": {},
   "outputs": [],
   "source": [
    "plt.figure(figsize=(10, 6))\n",
    "\n",
    "plt.ylabel('Temperatura (°C)')\n",
    "plt.title('Média de Temperatura por Ano')\n",
    "\n",
    "for ano in media_madrugada_por_ano.index:\n",
    "    plt.plot(['Madrugada', 'Manhã', 'Tarde', 'Noite'], [media_madrugada_por_ano['temperatura']['TEMPERATURA DO AR - BULBO SECO, HORARIA (°C)'][ano],\n",
    "                                                       media_manha_por_ano['temperatura']['TEMPERATURA DO AR - BULBO SECO, HORARIA (°C)'][ano],\n",
    "                                                       media_tarde_por_ano['temperatura']['TEMPERATURA DO AR - BULBO SECO, HORARIA (°C)'][ano],\n",
    "                                                       media_noite_por_ano['temperatura']['TEMPERATURA DO AR - BULBO SECO, HORARIA (°C)'][ano]], label=ano, marker='o')\n",
    "\n",
    "plt.legend()"
   ]
  }
 ],
 "metadata": {
  "kernelspec": {
   "display_name": "residencia",
   "language": "python",
   "name": "python3"
  },
  "language_info": {
   "codemirror_mode": {
    "name": "ipython",
    "version": 3
   },
   "file_extension": ".py",
   "mimetype": "text/x-python",
   "name": "python",
   "nbconvert_exporter": "python",
   "pygments_lexer": "ipython3",
   "version": "3.11.7"
  }
 },
 "nbformat": 4,
 "nbformat_minor": 2
}
