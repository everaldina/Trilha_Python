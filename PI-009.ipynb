{
 "cells": [
  {
   "cell_type": "markdown",
   "metadata": {},
   "source": [
    "# INSTRUÇÃO PRÁTICA 009\n",
    "## Revisao e consolidaçao do conteúdo de __Pandas__ avançado.\n",
    "Para a pratica serão utilizados dados de estações metereologicas de Salvador dos anos de 2003, 2013 e 2023, diponiveis em: [Instituto Nacional de Meteorologia](https://portal.inmet.gov.br/dadoshistoricos). \n",
    "\n",
    "Os dados foram limpos e unidos em um unico DataFrama, com MultiIndex para colunas e indexadas por um DateTimeIndex."
   ]
  },
  {
   "cell_type": "markdown",
   "metadata": {},
   "source": [
    "### Carregando os dados"
   ]
  },
  {
   "cell_type": "code",
   "execution_count": 290,
   "metadata": {},
   "outputs": [
    {
     "name": "stdout",
     "output_type": "stream",
     "text": [
      "\n"
     ]
    }
   ],
   "source": [
    "import pandas as pd\n",
    "\n",
    "estacao_ssa_2003 = pd.read_csv('./datasets/estacao_Salvador_2003.CSV', header=8, sep=';', encoding='latin-1')\n",
    "estacao_ssa_2013 = pd.read_csv('./datasets/estacao_Salvador_2013.CSV', header=8, sep=',', encoding='utf-8')\n",
    "estacao_ssa_2023 = pd.read_csv('./datasets/estacao_Salvador_2023.CSV', header=8, sep=';', encoding='latin-1')\n",
    "print()"
   ]
  },
  {
   "cell_type": "markdown",
   "metadata": {},
   "source": [
    "### Tratamento de dados"
   ]
  },
  {
   "cell_type": "markdown",
   "metadata": {},
   "source": [
    "1. Removendo coluna extra unnamed"
   ]
  },
  {
   "cell_type": "code",
   "execution_count": 291,
   "metadata": {},
   "outputs": [],
   "source": [
    "estacao_ssa_2003.drop(columns=['Unnamed: 19'], inplace=True)\n",
    "estacao_ssa_2023.drop(columns=['Unnamed: 19'], inplace=True)"
   ]
  },
  {
   "cell_type": "markdown",
   "metadata": {},
   "source": [
    "2. Unificando nomes de colunas"
   ]
  },
  {
   "cell_type": "code",
   "execution_count": 292,
   "metadata": {},
   "outputs": [],
   "source": [
    "# pegando lista de nomes de colunas de cada dataframe\n",
    "colunas_2003 = estacao_ssa_2003.columns.values.tolist() \n",
    "colunas_2013 = estacao_ssa_2013.columns.values.tolist()\n",
    "colunas_2023 = estacao_ssa_2023.columns.values.tolist()\n",
    "\n",
    "# renomeando colunas diferentes para o nome da coluna do dataframe de 2003\n",
    "for c_2003, c_2013, c_2023 in zip(colunas_2003, colunas_2013, colunas_2023):\n",
    "    if c_2003 != c_2013 or c_2003 != c_2023:\n",
    "        estacao_ssa_2013.rename(columns={c_2013: c_2003}, inplace=True)\n",
    "        estacao_ssa_2023.rename(columns={c_2023: c_2003}, inplace=True)\n",
    "        \n",
    "\n",
    "# concatenando os dataframes\n",
    "estacao_ssa = pd.concat([estacao_ssa_2003, estacao_ssa_2013, estacao_ssa_2023], ignore_index=True)"
   ]
  },
  {
   "cell_type": "markdown",
   "metadata": {},
   "source": [
    "3. Criando DateTimeIndex"
   ]
  },
  {
   "cell_type": "code",
   "execution_count": 293,
   "metadata": {},
   "outputs": [],
   "source": [
    "# tratando coluna hora\n",
    "mask_utc = estacao_ssa['HORA (UTC)'].str.contains('UTC')  # mascara para pegar apenas os dados com UTC\n",
    "\n",
    "# trantando dados utc\n",
    "dados_utc = estacao_ssa.loc[mask_utc, 'HORA (UTC)']\n",
    "dados_utc = dados_utc.replace(' UTC', '', regex=True) # removendo UTC\n",
    "dados_utc = dados_utc.str[0:2] + ':00' # pegando apenas a hora\n",
    "\n",
    "# colocando os dados tratados no dataframe\n",
    "estacao_ssa.loc[mask_utc, 'HORA (UTC)'] = dados_utc.values"
   ]
  },
  {
   "cell_type": "code",
   "execution_count": 294,
   "metadata": {},
   "outputs": [],
   "source": [
    "# tratando coluna data\n",
    "estacao_ssa['DATA (YYYY-MM-DD)'] = estacao_ssa['DATA (YYYY-MM-DD)'].str.replace('/', '-')"
   ]
  },
  {
   "cell_type": "code",
   "execution_count": 295,
   "metadata": {},
   "outputs": [],
   "source": [
    "# criando DateTimeIndex a partir da coluna DATA (YYYY-MM-DD) e HORA (UTC)\n",
    "estacao_ssa_index = pd.to_datetime(estacao_ssa['DATA (YYYY-MM-DD)'] + ' ' + estacao_ssa['HORA (UTC)'])\n",
    "\n",
    "# removendo as colunas originais DATA (YYYY-MM-DD) e HORA (UTC)\n",
    "estacao_ssa.drop(['DATA (YYYY-MM-DD)', 'HORA (UTC)'], axis=1, inplace=True)\n",
    "\n",
    "# Define a coluna DATA HORA como índice\n",
    "estacao_ssa.set_index(estacao_ssa_index, inplace=True)"
   ]
  },
  {
   "cell_type": "markdown",
   "metadata": {},
   "source": [
    "4. Criando MultiIndex para colunas"
   ]
  },
  {
   "cell_type": "code",
   "execution_count": 296,
   "metadata": {},
   "outputs": [],
   "source": [
    "# agrupando parametros de medição\n",
    "nivel_1 = ['precipitacao'] + ['pressao']*3 + ['radiacao'] + ['temperatura']*6 + ['umidade']*3 + ['velocidade do vento']*3\n",
    "nivel_2 = colunas_2003[2:]\n",
    "\n",
    "# definindo multiindex para as colunas\n",
    "index_col = pd.MultiIndex.from_arrays([nivel_1, nivel_2], names=['medicao', 'tipo'])\n",
    "\n",
    "estacao_ssa.columns = index_col"
   ]
  },
  {
   "cell_type": "markdown",
   "metadata": {},
   "source": [
    "5. Removendo colunas desnecessárias"
   ]
  },
  {
   "cell_type": "code",
   "execution_count": 297,
   "metadata": {},
   "outputs": [],
   "source": [
    "estacao_ssa.drop(['pressao', 'radiacao', 'umidade', 'velocidade do vento'], axis=1, inplace=True)"
   ]
  },
  {
   "cell_type": "markdown",
   "metadata": {},
   "source": [
    "6. Transformando colunas de string para float"
   ]
  },
  {
   "cell_type": "code",
   "execution_count": 298,
   "metadata": {},
   "outputs": [],
   "source": [
    "# substiduindo valores , por .\n",
    "estacao_ssa.replace(',', '.', regex=True, inplace=True)\n",
    "\n",
    "# convertendo para float\n",
    "estacao_ssa = estacao_ssa.astype('float64')"
   ]
  },
  {
   "cell_type": "markdown",
   "metadata": {},
   "source": [
    "7. Tratando valores nulos"
   ]
  },
  {
   "cell_type": "code",
   "execution_count": 299,
   "metadata": {},
   "outputs": [],
   "source": [
    "# tiranddo todos os possiveis valores nulos\n",
    "estacao_ssa.replace(['-9999', -9999, -9999.0, '-9999.0'], value= None, inplace=True)\n",
    "\n",
    "# preenchendo valores nulos\n",
    "estacao_ssa.bfill(inplace=True)"
   ]
  },
  {
   "cell_type": "markdown",
   "metadata": {},
   "source": [
    "### DataFrame final"
   ]
  },
  {
   "cell_type": "code",
   "execution_count": 300,
   "metadata": {},
   "outputs": [
    {
     "data": {
      "text/html": [
       "<div>\n",
       "<style scoped>\n",
       "    .dataframe tbody tr th:only-of-type {\n",
       "        vertical-align: middle;\n",
       "    }\n",
       "\n",
       "    .dataframe tbody tr th {\n",
       "        vertical-align: top;\n",
       "    }\n",
       "\n",
       "    .dataframe thead tr th {\n",
       "        text-align: left;\n",
       "    }\n",
       "</style>\n",
       "<table border=\"1\" class=\"dataframe\">\n",
       "  <thead>\n",
       "    <tr>\n",
       "      <th>medicao</th>\n",
       "      <th>precipitacao</th>\n",
       "      <th colspan=\"6\" halign=\"left\">temperatura</th>\n",
       "    </tr>\n",
       "    <tr>\n",
       "      <th>tipo</th>\n",
       "      <th>PRECIPITAÇÃO TOTAL, HORÁRIO (mm)</th>\n",
       "      <th>TEMPERATURA DO AR - BULBO SECO, HORARIA (°C)</th>\n",
       "      <th>TEMPERATURA DO PONTO DE ORVALHO (°C)</th>\n",
       "      <th>TEMPERATURA MÁXIMA NA HORA ANT. (AUT) (°C)</th>\n",
       "      <th>TEMPERATURA MÍNIMA NA HORA ANT. (AUT) (°C)</th>\n",
       "      <th>TEMPERATURA ORVALHO MAX. NA HORA ANT. (AUT) (°C)</th>\n",
       "      <th>TEMPERATURA ORVALHO MIN. NA HORA ANT. (AUT) (°C)</th>\n",
       "    </tr>\n",
       "  </thead>\n",
       "  <tbody>\n",
       "    <tr>\n",
       "      <th>2003-01-01 00:00:00</th>\n",
       "      <td>0.0</td>\n",
       "      <td>26.4</td>\n",
       "      <td>22.0</td>\n",
       "      <td>27.2</td>\n",
       "      <td>26.3</td>\n",
       "      <td>22.6</td>\n",
       "      <td>21.0</td>\n",
       "    </tr>\n",
       "    <tr>\n",
       "      <th>2003-01-01 01:00:00</th>\n",
       "      <td>0.0</td>\n",
       "      <td>26.4</td>\n",
       "      <td>22.0</td>\n",
       "      <td>27.2</td>\n",
       "      <td>26.3</td>\n",
       "      <td>22.6</td>\n",
       "      <td>21.0</td>\n",
       "    </tr>\n",
       "    <tr>\n",
       "      <th>2003-01-01 02:00:00</th>\n",
       "      <td>0.0</td>\n",
       "      <td>26.4</td>\n",
       "      <td>22.0</td>\n",
       "      <td>27.2</td>\n",
       "      <td>26.3</td>\n",
       "      <td>22.6</td>\n",
       "      <td>21.0</td>\n",
       "    </tr>\n",
       "    <tr>\n",
       "      <th>2003-01-01 03:00:00</th>\n",
       "      <td>0.0</td>\n",
       "      <td>26.4</td>\n",
       "      <td>22.0</td>\n",
       "      <td>27.2</td>\n",
       "      <td>26.3</td>\n",
       "      <td>22.6</td>\n",
       "      <td>21.0</td>\n",
       "    </tr>\n",
       "    <tr>\n",
       "      <th>2003-01-01 04:00:00</th>\n",
       "      <td>0.0</td>\n",
       "      <td>26.4</td>\n",
       "      <td>22.0</td>\n",
       "      <td>27.2</td>\n",
       "      <td>26.3</td>\n",
       "      <td>22.6</td>\n",
       "      <td>21.0</td>\n",
       "    </tr>\n",
       "  </tbody>\n",
       "</table>\n",
       "</div>"
      ],
      "text/plain": [
       "medicao                                 precipitacao   \n",
       "tipo                PRECIPITAÇÃO TOTAL, HORÁRIO (mm)   \n",
       "2003-01-01 00:00:00                              0.0  \\\n",
       "2003-01-01 01:00:00                              0.0   \n",
       "2003-01-01 02:00:00                              0.0   \n",
       "2003-01-01 03:00:00                              0.0   \n",
       "2003-01-01 04:00:00                              0.0   \n",
       "\n",
       "medicao                                              temperatura   \n",
       "tipo                TEMPERATURA DO AR - BULBO SECO, HORARIA (°C)   \n",
       "2003-01-01 00:00:00                                         26.4  \\\n",
       "2003-01-01 01:00:00                                         26.4   \n",
       "2003-01-01 02:00:00                                         26.4   \n",
       "2003-01-01 03:00:00                                         26.4   \n",
       "2003-01-01 04:00:00                                         26.4   \n",
       "\n",
       "medicao                                                    \n",
       "tipo                TEMPERATURA DO PONTO DE ORVALHO (°C)   \n",
       "2003-01-01 00:00:00                                 22.0  \\\n",
       "2003-01-01 01:00:00                                 22.0   \n",
       "2003-01-01 02:00:00                                 22.0   \n",
       "2003-01-01 03:00:00                                 22.0   \n",
       "2003-01-01 04:00:00                                 22.0   \n",
       "\n",
       "medicao                                                          \n",
       "tipo                TEMPERATURA MÁXIMA NA HORA ANT. (AUT) (°C)   \n",
       "2003-01-01 00:00:00                                       27.2  \\\n",
       "2003-01-01 01:00:00                                       27.2   \n",
       "2003-01-01 02:00:00                                       27.2   \n",
       "2003-01-01 03:00:00                                       27.2   \n",
       "2003-01-01 04:00:00                                       27.2   \n",
       "\n",
       "medicao                                                          \n",
       "tipo                TEMPERATURA MÍNIMA NA HORA ANT. (AUT) (°C)   \n",
       "2003-01-01 00:00:00                                       26.3  \\\n",
       "2003-01-01 01:00:00                                       26.3   \n",
       "2003-01-01 02:00:00                                       26.3   \n",
       "2003-01-01 03:00:00                                       26.3   \n",
       "2003-01-01 04:00:00                                       26.3   \n",
       "\n",
       "medicao                                                                \n",
       "tipo                TEMPERATURA ORVALHO MAX. NA HORA ANT. (AUT) (°C)   \n",
       "2003-01-01 00:00:00                                             22.6  \\\n",
       "2003-01-01 01:00:00                                             22.6   \n",
       "2003-01-01 02:00:00                                             22.6   \n",
       "2003-01-01 03:00:00                                             22.6   \n",
       "2003-01-01 04:00:00                                             22.6   \n",
       "\n",
       "medicao                                                               \n",
       "tipo                TEMPERATURA ORVALHO MIN. NA HORA ANT. (AUT) (°C)  \n",
       "2003-01-01 00:00:00                                             21.0  \n",
       "2003-01-01 01:00:00                                             21.0  \n",
       "2003-01-01 02:00:00                                             21.0  \n",
       "2003-01-01 03:00:00                                             21.0  \n",
       "2003-01-01 04:00:00                                             21.0  "
      ]
     },
     "execution_count": 300,
     "metadata": {},
     "output_type": "execute_result"
    }
   ],
   "source": [
    "estacao_ssa.head()"
   ]
  },
  {
   "cell_type": "code",
   "execution_count": 301,
   "metadata": {},
   "outputs": [
    {
     "name": "stdout",
     "output_type": "stream",
     "text": [
      "<class 'pandas.core.frame.DataFrame'>\n",
      "DatetimeIndex: 26280 entries, 2003-01-01 00:00:00 to 2023-12-31 23:00:00\n",
      "Data columns (total 7 columns):\n",
      " #   Column                                                           Non-Null Count  Dtype  \n",
      "---  ------                                                           --------------  -----  \n",
      " 0   (precipitacao, PRECIPITAÇÃO TOTAL, HORÁRIO (mm))                 26280 non-null  float64\n",
      " 1   (temperatura, TEMPERATURA DO AR - BULBO SECO, HORARIA (°C))      26280 non-null  float64\n",
      " 2   (temperatura, TEMPERATURA DO PONTO DE ORVALHO (°C))              26280 non-null  float64\n",
      " 3   (temperatura, TEMPERATURA MÁXIMA NA HORA ANT. (AUT) (°C))        26280 non-null  float64\n",
      " 4   (temperatura, TEMPERATURA MÍNIMA NA HORA ANT. (AUT) (°C))        26280 non-null  float64\n",
      " 5   (temperatura, TEMPERATURA ORVALHO MAX. NA HORA ANT. (AUT) (°C))  26280 non-null  float64\n",
      " 6   (temperatura, TEMPERATURA ORVALHO MIN. NA HORA ANT. (AUT) (°C))  26280 non-null  float64\n",
      "dtypes: float64(7)\n",
      "memory usage: 1.6 MB\n"
     ]
    }
   ],
   "source": [
    "estacao_ssa.info()"
   ]
  },
  {
   "cell_type": "code",
   "execution_count": 302,
   "metadata": {},
   "outputs": [
    {
     "data": {
      "text/html": [
       "<div>\n",
       "<style scoped>\n",
       "    .dataframe tbody tr th:only-of-type {\n",
       "        vertical-align: middle;\n",
       "    }\n",
       "\n",
       "    .dataframe tbody tr th {\n",
       "        vertical-align: top;\n",
       "    }\n",
       "\n",
       "    .dataframe thead tr th {\n",
       "        text-align: left;\n",
       "    }\n",
       "</style>\n",
       "<table border=\"1\" class=\"dataframe\">\n",
       "  <thead>\n",
       "    <tr>\n",
       "      <th>medicao</th>\n",
       "      <th>precipitacao</th>\n",
       "      <th colspan=\"6\" halign=\"left\">temperatura</th>\n",
       "    </tr>\n",
       "    <tr>\n",
       "      <th>tipo</th>\n",
       "      <th>PRECIPITAÇÃO TOTAL, HORÁRIO (mm)</th>\n",
       "      <th>TEMPERATURA DO AR - BULBO SECO, HORARIA (°C)</th>\n",
       "      <th>TEMPERATURA DO PONTO DE ORVALHO (°C)</th>\n",
       "      <th>TEMPERATURA MÁXIMA NA HORA ANT. (AUT) (°C)</th>\n",
       "      <th>TEMPERATURA MÍNIMA NA HORA ANT. (AUT) (°C)</th>\n",
       "      <th>TEMPERATURA ORVALHO MAX. NA HORA ANT. (AUT) (°C)</th>\n",
       "      <th>TEMPERATURA ORVALHO MIN. NA HORA ANT. (AUT) (°C)</th>\n",
       "    </tr>\n",
       "  </thead>\n",
       "  <tbody>\n",
       "    <tr>\n",
       "      <th>count</th>\n",
       "      <td>26280.000000</td>\n",
       "      <td>26280.000000</td>\n",
       "      <td>26280.000000</td>\n",
       "      <td>26280.000000</td>\n",
       "      <td>26280.000000</td>\n",
       "      <td>26280.000000</td>\n",
       "      <td>26280.000000</td>\n",
       "    </tr>\n",
       "    <tr>\n",
       "      <th>mean</th>\n",
       "      <td>0.202785</td>\n",
       "      <td>25.867500</td>\n",
       "      <td>21.679768</td>\n",
       "      <td>26.370327</td>\n",
       "      <td>25.393565</td>\n",
       "      <td>22.143900</td>\n",
       "      <td>21.228242</td>\n",
       "    </tr>\n",
       "    <tr>\n",
       "      <th>std</th>\n",
       "      <td>1.333296</td>\n",
       "      <td>2.377785</td>\n",
       "      <td>1.382037</td>\n",
       "      <td>2.527563</td>\n",
       "      <td>2.185660</td>\n",
       "      <td>1.449447</td>\n",
       "      <td>1.421677</td>\n",
       "    </tr>\n",
       "    <tr>\n",
       "      <th>min</th>\n",
       "      <td>0.000000</td>\n",
       "      <td>19.500000</td>\n",
       "      <td>14.700000</td>\n",
       "      <td>20.100000</td>\n",
       "      <td>19.300000</td>\n",
       "      <td>15.300000</td>\n",
       "      <td>-1.800000</td>\n",
       "    </tr>\n",
       "    <tr>\n",
       "      <th>25%</th>\n",
       "      <td>0.000000</td>\n",
       "      <td>24.000000</td>\n",
       "      <td>20.700000</td>\n",
       "      <td>24.400000</td>\n",
       "      <td>23.700000</td>\n",
       "      <td>21.200000</td>\n",
       "      <td>20.300000</td>\n",
       "    </tr>\n",
       "    <tr>\n",
       "      <th>50%</th>\n",
       "      <td>0.000000</td>\n",
       "      <td>25.600000</td>\n",
       "      <td>21.900000</td>\n",
       "      <td>26.000000</td>\n",
       "      <td>25.200000</td>\n",
       "      <td>22.300000</td>\n",
       "      <td>21.500000</td>\n",
       "    </tr>\n",
       "    <tr>\n",
       "      <th>75%</th>\n",
       "      <td>0.000000</td>\n",
       "      <td>27.300000</td>\n",
       "      <td>22.600000</td>\n",
       "      <td>28.000000</td>\n",
       "      <td>26.700000</td>\n",
       "      <td>23.200000</td>\n",
       "      <td>22.300000</td>\n",
       "    </tr>\n",
       "    <tr>\n",
       "      <th>max</th>\n",
       "      <td>52.000000</td>\n",
       "      <td>39.700000</td>\n",
       "      <td>26.600000</td>\n",
       "      <td>43.300000</td>\n",
       "      <td>33.000000</td>\n",
       "      <td>27.400000</td>\n",
       "      <td>25.100000</td>\n",
       "    </tr>\n",
       "  </tbody>\n",
       "</table>\n",
       "</div>"
      ],
      "text/plain": [
       "medicao                     precipitacao   \n",
       "tipo    PRECIPITAÇÃO TOTAL, HORÁRIO (mm)   \n",
       "count                       26280.000000  \\\n",
       "mean                            0.202785   \n",
       "std                             1.333296   \n",
       "min                             0.000000   \n",
       "25%                             0.000000   \n",
       "50%                             0.000000   \n",
       "75%                             0.000000   \n",
       "max                            52.000000   \n",
       "\n",
       "medicao                                  temperatura   \n",
       "tipo    TEMPERATURA DO AR - BULBO SECO, HORARIA (°C)   \n",
       "count                                   26280.000000  \\\n",
       "mean                                       25.867500   \n",
       "std                                         2.377785   \n",
       "min                                        19.500000   \n",
       "25%                                        24.000000   \n",
       "50%                                        25.600000   \n",
       "75%                                        27.300000   \n",
       "max                                        39.700000   \n",
       "\n",
       "medicao                                        \n",
       "tipo    TEMPERATURA DO PONTO DE ORVALHO (°C)   \n",
       "count                           26280.000000  \\\n",
       "mean                               21.679768   \n",
       "std                                 1.382037   \n",
       "min                                14.700000   \n",
       "25%                                20.700000   \n",
       "50%                                21.900000   \n",
       "75%                                22.600000   \n",
       "max                                26.600000   \n",
       "\n",
       "medicao                                              \n",
       "tipo    TEMPERATURA MÁXIMA NA HORA ANT. (AUT) (°C)   \n",
       "count                                 26280.000000  \\\n",
       "mean                                     26.370327   \n",
       "std                                       2.527563   \n",
       "min                                      20.100000   \n",
       "25%                                      24.400000   \n",
       "50%                                      26.000000   \n",
       "75%                                      28.000000   \n",
       "max                                      43.300000   \n",
       "\n",
       "medicao                                              \n",
       "tipo    TEMPERATURA MÍNIMA NA HORA ANT. (AUT) (°C)   \n",
       "count                                 26280.000000  \\\n",
       "mean                                     25.393565   \n",
       "std                                       2.185660   \n",
       "min                                      19.300000   \n",
       "25%                                      23.700000   \n",
       "50%                                      25.200000   \n",
       "75%                                      26.700000   \n",
       "max                                      33.000000   \n",
       "\n",
       "medicao                                                    \n",
       "tipo    TEMPERATURA ORVALHO MAX. NA HORA ANT. (AUT) (°C)   \n",
       "count                                       26280.000000  \\\n",
       "mean                                           22.143900   \n",
       "std                                             1.449447   \n",
       "min                                            15.300000   \n",
       "25%                                            21.200000   \n",
       "50%                                            22.300000   \n",
       "75%                                            23.200000   \n",
       "max                                            27.400000   \n",
       "\n",
       "medicao                                                   \n",
       "tipo    TEMPERATURA ORVALHO MIN. NA HORA ANT. (AUT) (°C)  \n",
       "count                                       26280.000000  \n",
       "mean                                           21.228242  \n",
       "std                                             1.421677  \n",
       "min                                            -1.800000  \n",
       "25%                                            20.300000  \n",
       "50%                                            21.500000  \n",
       "75%                                            22.300000  \n",
       "max                                            25.100000  "
      ]
     },
     "execution_count": 302,
     "metadata": {},
     "output_type": "execute_result"
    }
   ],
   "source": [
    "estacao_ssa.describe()"
   ]
  },
  {
   "cell_type": "markdown",
   "metadata": {},
   "source": [
    "### Analise de dados"
   ]
  },
  {
   "cell_type": "code",
   "execution_count": 303,
   "metadata": {},
   "outputs": [],
   "source": [
    "import matplotlib.pyplot as plt\n",
    "%matplotlib widget"
   ]
  },
  {
   "cell_type": "markdown",
   "metadata": {},
   "source": [
    "1. Subplot com evolução das temperaturas médias e acumulado de precipitações nos três anos."
   ]
  },
  {
   "cell_type": "code",
   "execution_count": null,
   "metadata": {},
   "outputs": [],
   "source": []
  },
  {
   "cell_type": "markdown",
   "metadata": {},
   "source": [
    "2. Acumulado de precipitações de Junho nos três anos."
   ]
  },
  {
   "cell_type": "code",
   "execution_count": 304,
   "metadata": {},
   "outputs": [
    {
     "data": {
      "application/vnd.jupyter.widget-view+json": {
       "model_id": "c11bc8ae22a7494c8ef1b018e7b53d5b",
       "version_major": 2,
       "version_minor": 0
      },
      "image/png": "[encoded data removed]",
      "text/html": [
       "\n",
       "            <div style=\"display: inline-block;\">\n",
       "                <div class=\"jupyter-widgets widget-label\" style=\"text-align: center;\">\n",
       "                    Figure\n",
       "                </div>\n",
       "                <img src='data:image/png;base64,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' width=800.0/>\n",
       "            </div>\n",
       "        "
      ],
      "text/plain": [
       "Canvas(toolbar=Toolbar(toolitems=[('Home', 'Reset original view', 'home', 'home'), ('Back', 'Back to previous …"
      ]
     },
     "metadata": {},
     "output_type": "display_data"
    }
   ],
   "source": [
    "import matplotlib.pyplot as plt\n",
    "\n",
    "# Selecionando apenas a coluna 'precipitacao' para o mês de junho\n",
    "dados_junho = estacao_ssa[('precipitacao', 'PRECIPITAÇÃO TOTAL, HORÁRIO (mm)')][estacao_ssa.index.month == 6]\n",
    "\n",
    "# Agrupando por ano e somar as precipitações de junho\n",
    "acumulado_junho_por_ano = dados_junho.groupby(dados_junho.index.year).sum()\n",
    "\n",
    "# Criando o gráfico de barras para o acumulado de precipitação \n",
    "plt.figure(figsize=(8, 4))\n",
    "plt.bar(acumulado_junho_por_ano.index, acumulado_junho_por_ano.values, color='blue', alpha=0.7)\n",
    "plt.title('Acumulado de Precipitação em Junho')\n",
    "plt.xlabel('Ano')\n",
    "plt.ylabel('Acumulado de Precipitação (mm)')\n",
    "plt.show()\n"
   ]
  },
  {
   "cell_type": "markdown",
   "metadata": {},
   "source": [
    "3. Temperatura media de cada um dos dias de Março nos três anos."
   ]
  },
  {
   "cell_type": "code",
   "execution_count": null,
   "metadata": {},
   "outputs": [],
   "source": []
  },
  {
   "cell_type": "markdown",
   "metadata": {},
   "source": [
    "4. Temperatura máxima e mínima de cada uma das estações nos tres anos. Sendo:\n",
    "   - Verão (Janeiro, Fevereiro e Março)\n",
    "   - Outono (Abril, Maio e Junho) \n",
    "   - Inverno (Julho, Agosto e Setembro)\n",
    "   - Primavera (Outubro, Novembro e Dezembro)."
   ]
  },
  {
   "cell_type": "code",
   "execution_count": null,
   "metadata": {},
   "outputs": [],
   "source": []
  },
  {
   "cell_type": "markdown",
   "metadata": {},
   "source": [
    "5. Comportamente de temperatura media do dia 28 de Setembro em cada um dos intervalos do dia dos três anos. Sendo:\n",
    "   - Madrugada (00:00 a 06:00), \n",
    "   - Manha (06:00 a 12:00)\n",
    "   - Tarde (12:00 a 18:00)\n",
    "   - Noite (18:00 a 00:00)"
   ]
  },
  {
   "cell_type": "code",
   "execution_count": null,
   "metadata": {},
   "outputs": [],
   "source": []
  }
 ],
 "metadata": {
  "kernelspec": {
   "display_name": "residencia",
   "language": "python",
   "name": "python3"
  },
  "language_info": {
   "codemirror_mode": {
    "name": "ipython",
    "version": 3
   },
   "file_extension": ".py",
   "mimetype": "text/x-python",
   "name": "python",
   "nbconvert_exporter": "python",
   "pygments_lexer": "ipython3",
   "version": "3.11.7"
  }
 },
 "nbformat": 4,
 "nbformat_minor": 2
}
