{
 "cells": [
  {
   "cell_type": "markdown",
   "metadata": {},
   "source": [
    "# INSTRUÇÃO PRÁTICA 009\n",
    "## Revisao e consolidaçao do conteúdo de __Pandas__ avançado.\n",
    "Para a pratica serão utilizados dados de estações metereologicas de Salvador dos anos de 2003, 2013 e 2023, diponiveis em: [Instituto Nacional de Meteorologia](https://portal.inmet.gov.br/dadoshistoricos). \n",
    "\n",
    "Os dados foram limpos e unidos em um unico DataFrama, com MultiIndex para colunas e indexadas por um DateTimeIndex."
   ]
  },
  {
   "cell_type": "markdown",
   "metadata": {},
   "source": [
    "### Carregando os dados"
   ]
  },
  {
   "cell_type": "code",
   "execution_count": 1,
   "metadata": {},
   "outputs": [],
   "source": [
    "import pandas as pd\n",
    "\n",
    "estacao_ssa_2003 = pd.read_csv('./datasets/estacao_Salvador_2003.CSV', header=8, sep=';', encoding='latin-1')\n",
    "estacao_ssa_2013 = pd.read_csv('./datasets/estacao_Salvador_2013.CSV', header=8, sep=',', encoding='utf-8')\n",
    "estacao_ssa_2023 = pd.read_csv('./datasets/estacao_Salvador_2023.CSV', header=8, sep=';', encoding='latin-1')"
   ]
  },
  {
   "cell_type": "markdown",
   "metadata": {},
   "source": [
    "### Tratamento de dados"
   ]
  },
  {
   "cell_type": "markdown",
   "metadata": {},
   "source": [
    "1. Removendo coluna extra unnamed"
   ]
  },
  {
   "cell_type": "code",
   "execution_count": 2,
   "metadata": {},
   "outputs": [],
   "source": [
    "estacao_ssa_2003.drop(columns=['Unnamed: 19'], inplace=True)\n",
    "estacao_ssa_2023.drop(columns=['Unnamed: 19'], inplace=True)"
   ]
  },
  {
   "cell_type": "markdown",
   "metadata": {},
   "source": [
    "2. Unificando nomes de colunas"
   ]
  },
  {
   "cell_type": "code",
   "execution_count": 3,
   "metadata": {},
   "outputs": [],
   "source": [
    "# pegando lista de nomes de colunas de cada dataframe\n",
    "colunas_2003 = estacao_ssa_2003.columns.values.tolist() \n",
    "colunas_2013 = estacao_ssa_2013.columns.values.tolist()\n",
    "colunas_2023 = estacao_ssa_2023.columns.values.tolist()\n",
    "\n",
    "# renomeando colunas diferentes para o nome da coluna do dataframe de 2003\n",
    "for c_2003, c_2013, c_2023 in zip(colunas_2003, colunas_2013, colunas_2023):\n",
    "    if c_2003 != c_2013 or c_2003 != c_2023:\n",
    "        estacao_ssa_2013.rename(columns={c_2013: c_2003}, inplace=True)\n",
    "        estacao_ssa_2023.rename(columns={c_2023: c_2003}, inplace=True)\n",
    "        \n",
    "\n",
    "# concatenando os dataframes\n",
    "estacao_ssa = pd.concat([estacao_ssa_2003, estacao_ssa_2013, estacao_ssa_2023], ignore_index=True)"
   ]
  },
  {
   "cell_type": "markdown",
   "metadata": {},
   "source": [
    "3. Criando DateTimeIndex"
   ]
  },
  {
   "cell_type": "code",
   "execution_count": 4,
   "metadata": {},
   "outputs": [],
   "source": [
    "# criando DateTimeIndex a partir da coluna DATA (YYYY-MM-DD) e HORA (UTC)\n",
    "estacao_ssa_index = pd.to_datetime(estacao_ssa['DATA (YYYY-MM-DD)'] + ' ' + estacao_ssa_2003['HORA (UTC)'], utc=True)\n",
    "\n",
    "# removendo as colunas originais DATA (YYYY-MM-DD) e HORA (UTC)\n",
    "estacao_ssa.drop(['DATA (YYYY-MM-DD)', 'HORA (UTC)'], axis=1, inplace=True)\n",
    "\n",
    "# Define a coluna DATA HORA como índice\n",
    "estacao_ssa.set_index(estacao_ssa_index, inplace=True)"
   ]
  },
  {
   "cell_type": "markdown",
   "metadata": {},
   "source": [
    "4. Criando MultiIndex para colunas"
   ]
  },
  {
   "cell_type": "code",
   "execution_count": 5,
   "metadata": {},
   "outputs": [],
   "source": [
    "# agrupando parametros de medição\n",
    "nivel_1 = ['precipitacao'] + ['pressao']*3 + ['radiacao'] + ['temperatura']*6 + ['umidade']*3 + ['velocidade do vento']*3\n",
    "nivel_2 = colunas_2003[2:]\n",
    "\n",
    "# definindo multiindex para as colunas\n",
    "index_col = pd.MultiIndex.from_arrays([nivel_1, nivel_2], names=['medicao', 'tipo'])\n",
    "\n",
    "estacao_ssa.columns = index_col"
   ]
  },
  {
   "cell_type": "markdown",
   "metadata": {},
   "source": [
    "5. Removendo colunas desnecessárias"
   ]
  },
  {
   "cell_type": "code",
   "execution_count": 6,
   "metadata": {},
   "outputs": [],
   "source": [
    "estacao_ssa.drop(['pressao', 'radiacao', 'umidade', 'velocidade do vento'], axis=1, inplace=True)"
   ]
  },
  {
   "cell_type": "markdown",
   "metadata": {},
   "source": [
    "6. Transformando colunas de string para float"
   ]
  },
  {
   "cell_type": "code",
   "execution_count": 7,
   "metadata": {},
   "outputs": [],
   "source": [
    "# substiduindo valores , por .\n",
    "estacao_ssa.replace(',', '.', regex=True, inplace=True)\n",
    "\n",
    "# convertendo para float\n",
    "estacao_ssa = estacao_ssa.astype('float64')"
   ]
  },
  {
   "cell_type": "markdown",
   "metadata": {},
   "source": [
    "7. Tratando valores nulos"
   ]
  },
  {
   "cell_type": "code",
   "execution_count": 8,
   "metadata": {},
   "outputs": [],
   "source": [
    "# tiranddo todos os possiveis valores nulos\n",
    "estacao_ssa.replace(['-9999', -9999, -9999.0, '-9999.0'], value= None, inplace=True)\n",
    "\n",
    "# preenchendo valores nulos\n",
    "estacao_ssa.bfill(inplace=True)"
   ]
  },
  {
   "cell_type": "markdown",
   "metadata": {},
   "source": [
    "### DataFrame final"
   ]
  },
  {
   "cell_type": "code",
   "execution_count": 9,
   "metadata": {},
   "outputs": [
    {
     "data": {
      "text/html": [
       "<div>\n",
       "<style scoped>\n",
       "    .dataframe tbody tr th:only-of-type {\n",
       "        vertical-align: middle;\n",
       "    }\n",
       "\n",
       "    .dataframe tbody tr th {\n",
       "        vertical-align: top;\n",
       "    }\n",
       "\n",
       "    .dataframe thead tr th {\n",
       "        text-align: left;\n",
       "    }\n",
       "</style>\n",
       "<table border=\"1\" class=\"dataframe\">\n",
       "  <thead>\n",
       "    <tr>\n",
       "      <th>medicao</th>\n",
       "      <th>precipitacao</th>\n",
       "      <th colspan=\"6\" halign=\"left\">temperatura</th>\n",
       "    </tr>\n",
       "    <tr>\n",
       "      <th>tipo</th>\n",
       "      <th>PRECIPITAÇÃO TOTAL, HORÁRIO (mm)</th>\n",
       "      <th>TEMPERATURA DO AR - BULBO SECO, HORARIA (°C)</th>\n",
       "      <th>TEMPERATURA DO PONTO DE ORVALHO (°C)</th>\n",
       "      <th>TEMPERATURA MÁXIMA NA HORA ANT. (AUT) (°C)</th>\n",
       "      <th>TEMPERATURA MÍNIMA NA HORA ANT. (AUT) (°C)</th>\n",
       "      <th>TEMPERATURA ORVALHO MAX. NA HORA ANT. (AUT) (°C)</th>\n",
       "      <th>TEMPERATURA ORVALHO MIN. NA HORA ANT. (AUT) (°C)</th>\n",
       "    </tr>\n",
       "  </thead>\n",
       "  <tbody>\n",
       "    <tr>\n",
       "      <th>2003-01-01 00:00:00+00:00</th>\n",
       "      <td>0.0</td>\n",
       "      <td>26.4</td>\n",
       "      <td>22.0</td>\n",
       "      <td>27.2</td>\n",
       "      <td>26.3</td>\n",
       "      <td>22.6</td>\n",
       "      <td>21.0</td>\n",
       "    </tr>\n",
       "    <tr>\n",
       "      <th>2003-01-01 01:00:00+00:00</th>\n",
       "      <td>0.0</td>\n",
       "      <td>26.4</td>\n",
       "      <td>22.0</td>\n",
       "      <td>27.2</td>\n",
       "      <td>26.3</td>\n",
       "      <td>22.6</td>\n",
       "      <td>21.0</td>\n",
       "    </tr>\n",
       "    <tr>\n",
       "      <th>2003-01-01 02:00:00+00:00</th>\n",
       "      <td>0.0</td>\n",
       "      <td>26.4</td>\n",
       "      <td>22.0</td>\n",
       "      <td>27.2</td>\n",
       "      <td>26.3</td>\n",
       "      <td>22.6</td>\n",
       "      <td>21.0</td>\n",
       "    </tr>\n",
       "    <tr>\n",
       "      <th>2003-01-01 03:00:00+00:00</th>\n",
       "      <td>0.0</td>\n",
       "      <td>26.4</td>\n",
       "      <td>22.0</td>\n",
       "      <td>27.2</td>\n",
       "      <td>26.3</td>\n",
       "      <td>22.6</td>\n",
       "      <td>21.0</td>\n",
       "    </tr>\n",
       "    <tr>\n",
       "      <th>2003-01-01 04:00:00+00:00</th>\n",
       "      <td>0.0</td>\n",
       "      <td>26.4</td>\n",
       "      <td>22.0</td>\n",
       "      <td>27.2</td>\n",
       "      <td>26.3</td>\n",
       "      <td>22.6</td>\n",
       "      <td>21.0</td>\n",
       "    </tr>\n",
       "  </tbody>\n",
       "</table>\n",
       "</div>"
      ],
      "text/plain": [
       "medicao                                       precipitacao   \n",
       "tipo                      PRECIPITAÇÃO TOTAL, HORÁRIO (mm)   \n",
       "2003-01-01 00:00:00+00:00                              0.0  \\\n",
       "2003-01-01 01:00:00+00:00                              0.0   \n",
       "2003-01-01 02:00:00+00:00                              0.0   \n",
       "2003-01-01 03:00:00+00:00                              0.0   \n",
       "2003-01-01 04:00:00+00:00                              0.0   \n",
       "\n",
       "medicao                                                    temperatura   \n",
       "tipo                      TEMPERATURA DO AR - BULBO SECO, HORARIA (°C)   \n",
       "2003-01-01 00:00:00+00:00                                         26.4  \\\n",
       "2003-01-01 01:00:00+00:00                                         26.4   \n",
       "2003-01-01 02:00:00+00:00                                         26.4   \n",
       "2003-01-01 03:00:00+00:00                                         26.4   \n",
       "2003-01-01 04:00:00+00:00                                         26.4   \n",
       "\n",
       "medicao                                                          \n",
       "tipo                      TEMPERATURA DO PONTO DE ORVALHO (°C)   \n",
       "2003-01-01 00:00:00+00:00                                 22.0  \\\n",
       "2003-01-01 01:00:00+00:00                                 22.0   \n",
       "2003-01-01 02:00:00+00:00                                 22.0   \n",
       "2003-01-01 03:00:00+00:00                                 22.0   \n",
       "2003-01-01 04:00:00+00:00                                 22.0   \n",
       "\n",
       "medicao                                                                \n",
       "tipo                      TEMPERATURA MÁXIMA NA HORA ANT. (AUT) (°C)   \n",
       "2003-01-01 00:00:00+00:00                                       27.2  \\\n",
       "2003-01-01 01:00:00+00:00                                       27.2   \n",
       "2003-01-01 02:00:00+00:00                                       27.2   \n",
       "2003-01-01 03:00:00+00:00                                       27.2   \n",
       "2003-01-01 04:00:00+00:00                                       27.2   \n",
       "\n",
       "medicao                                                                \n",
       "tipo                      TEMPERATURA MÍNIMA NA HORA ANT. (AUT) (°C)   \n",
       "2003-01-01 00:00:00+00:00                                       26.3  \\\n",
       "2003-01-01 01:00:00+00:00                                       26.3   \n",
       "2003-01-01 02:00:00+00:00                                       26.3   \n",
       "2003-01-01 03:00:00+00:00                                       26.3   \n",
       "2003-01-01 04:00:00+00:00                                       26.3   \n",
       "\n",
       "medicao                                                                      \n",
       "tipo                      TEMPERATURA ORVALHO MAX. NA HORA ANT. (AUT) (°C)   \n",
       "2003-01-01 00:00:00+00:00                                             22.6  \\\n",
       "2003-01-01 01:00:00+00:00                                             22.6   \n",
       "2003-01-01 02:00:00+00:00                                             22.6   \n",
       "2003-01-01 03:00:00+00:00                                             22.6   \n",
       "2003-01-01 04:00:00+00:00                                             22.6   \n",
       "\n",
       "medicao                                                                     \n",
       "tipo                      TEMPERATURA ORVALHO MIN. NA HORA ANT. (AUT) (°C)  \n",
       "2003-01-01 00:00:00+00:00                                             21.0  \n",
       "2003-01-01 01:00:00+00:00                                             21.0  \n",
       "2003-01-01 02:00:00+00:00                                             21.0  \n",
       "2003-01-01 03:00:00+00:00                                             21.0  \n",
       "2003-01-01 04:00:00+00:00                                             21.0  "
      ]
     },
     "execution_count": 9,
     "metadata": {},
     "output_type": "execute_result"
    }
   ],
   "source": [
    "estacao_ssa.head()"
   ]
  },
  {
   "cell_type": "code",
   "execution_count": 10,
   "metadata": {},
   "outputs": [
    {
     "name": "stdout",
     "output_type": "stream",
     "text": [
      "<class 'pandas.core.frame.DataFrame'>\n",
      "DatetimeIndex: 26280 entries, 2003-01-01 00:00:00+00:00 to NaT\n",
      "Data columns (total 7 columns):\n",
      " #   Column                                                           Non-Null Count  Dtype  \n",
      "---  ------                                                           --------------  -----  \n",
      " 0   (precipitacao, PRECIPITAÇÃO TOTAL, HORÁRIO (mm))                 26280 non-null  float64\n",
      " 1   (temperatura, TEMPERATURA DO AR - BULBO SECO, HORARIA (°C))      26280 non-null  float64\n",
      " 2   (temperatura, TEMPERATURA DO PONTO DE ORVALHO (°C))              26280 non-null  float64\n",
      " 3   (temperatura, TEMPERATURA MÁXIMA NA HORA ANT. (AUT) (°C))        26280 non-null  float64\n",
      " 4   (temperatura, TEMPERATURA MÍNIMA NA HORA ANT. (AUT) (°C))        26280 non-null  float64\n",
      " 5   (temperatura, TEMPERATURA ORVALHO MAX. NA HORA ANT. (AUT) (°C))  26280 non-null  float64\n",
      " 6   (temperatura, TEMPERATURA ORVALHO MIN. NA HORA ANT. (AUT) (°C))  26280 non-null  float64\n",
      "dtypes: float64(7)\n",
      "memory usage: 1.6 MB\n"
     ]
    }
   ],
   "source": [
    "estacao_ssa.info()"
   ]
  },
  {
   "cell_type": "code",
   "execution_count": 11,
   "metadata": {},
   "outputs": [
    {
     "data": {
      "text/html": [
       "<div>\n",
       "<style scoped>\n",
       "    .dataframe tbody tr th:only-of-type {\n",
       "        vertical-align: middle;\n",
       "    }\n",
       "\n",
       "    .dataframe tbody tr th {\n",
       "        vertical-align: top;\n",
       "    }\n",
       "\n",
       "    .dataframe thead tr th {\n",
       "        text-align: left;\n",
       "    }\n",
       "</style>\n",
       "<table border=\"1\" class=\"dataframe\">\n",
       "  <thead>\n",
       "    <tr>\n",
       "      <th>medicao</th>\n",
       "      <th>precipitacao</th>\n",
       "      <th colspan=\"6\" halign=\"left\">temperatura</th>\n",
       "    </tr>\n",
       "    <tr>\n",
       "      <th>tipo</th>\n",
       "      <th>PRECIPITAÇÃO TOTAL, HORÁRIO (mm)</th>\n",
       "      <th>TEMPERATURA DO AR - BULBO SECO, HORARIA (°C)</th>\n",
       "      <th>TEMPERATURA DO PONTO DE ORVALHO (°C)</th>\n",
       "      <th>TEMPERATURA MÁXIMA NA HORA ANT. (AUT) (°C)</th>\n",
       "      <th>TEMPERATURA MÍNIMA NA HORA ANT. (AUT) (°C)</th>\n",
       "      <th>TEMPERATURA ORVALHO MAX. NA HORA ANT. (AUT) (°C)</th>\n",
       "      <th>TEMPERATURA ORVALHO MIN. NA HORA ANT. (AUT) (°C)</th>\n",
       "    </tr>\n",
       "  </thead>\n",
       "  <tbody>\n",
       "    <tr>\n",
       "      <th>count</th>\n",
       "      <td>26280.000000</td>\n",
       "      <td>26280.000000</td>\n",
       "      <td>26280.000000</td>\n",
       "      <td>26280.000000</td>\n",
       "      <td>26280.000000</td>\n",
       "      <td>26280.000000</td>\n",
       "      <td>26280.000000</td>\n",
       "    </tr>\n",
       "    <tr>\n",
       "      <th>mean</th>\n",
       "      <td>0.202785</td>\n",
       "      <td>25.867500</td>\n",
       "      <td>21.679768</td>\n",
       "      <td>26.370327</td>\n",
       "      <td>25.393565</td>\n",
       "      <td>22.143900</td>\n",
       "      <td>21.228242</td>\n",
       "    </tr>\n",
       "    <tr>\n",
       "      <th>std</th>\n",
       "      <td>1.333296</td>\n",
       "      <td>2.377785</td>\n",
       "      <td>1.382037</td>\n",
       "      <td>2.527563</td>\n",
       "      <td>2.185660</td>\n",
       "      <td>1.449447</td>\n",
       "      <td>1.421677</td>\n",
       "    </tr>\n",
       "    <tr>\n",
       "      <th>min</th>\n",
       "      <td>0.000000</td>\n",
       "      <td>19.500000</td>\n",
       "      <td>14.700000</td>\n",
       "      <td>20.100000</td>\n",
       "      <td>19.300000</td>\n",
       "      <td>15.300000</td>\n",
       "      <td>-1.800000</td>\n",
       "    </tr>\n",
       "    <tr>\n",
       "      <th>25%</th>\n",
       "      <td>0.000000</td>\n",
       "      <td>24.000000</td>\n",
       "      <td>20.700000</td>\n",
       "      <td>24.400000</td>\n",
       "      <td>23.700000</td>\n",
       "      <td>21.200000</td>\n",
       "      <td>20.300000</td>\n",
       "    </tr>\n",
       "    <tr>\n",
       "      <th>50%</th>\n",
       "      <td>0.000000</td>\n",
       "      <td>25.600000</td>\n",
       "      <td>21.900000</td>\n",
       "      <td>26.000000</td>\n",
       "      <td>25.200000</td>\n",
       "      <td>22.300000</td>\n",
       "      <td>21.500000</td>\n",
       "    </tr>\n",
       "    <tr>\n",
       "      <th>75%</th>\n",
       "      <td>0.000000</td>\n",
       "      <td>27.300000</td>\n",
       "      <td>22.600000</td>\n",
       "      <td>28.000000</td>\n",
       "      <td>26.700000</td>\n",
       "      <td>23.200000</td>\n",
       "      <td>22.300000</td>\n",
       "    </tr>\n",
       "    <tr>\n",
       "      <th>max</th>\n",
       "      <td>52.000000</td>\n",
       "      <td>39.700000</td>\n",
       "      <td>26.600000</td>\n",
       "      <td>43.300000</td>\n",
       "      <td>33.000000</td>\n",
       "      <td>27.400000</td>\n",
       "      <td>25.100000</td>\n",
       "    </tr>\n",
       "  </tbody>\n",
       "</table>\n",
       "</div>"
      ],
      "text/plain": [
       "medicao                     precipitacao   \n",
       "tipo    PRECIPITAÇÃO TOTAL, HORÁRIO (mm)   \n",
       "count                       26280.000000  \\\n",
       "mean                            0.202785   \n",
       "std                             1.333296   \n",
       "min                             0.000000   \n",
       "25%                             0.000000   \n",
       "50%                             0.000000   \n",
       "75%                             0.000000   \n",
       "max                            52.000000   \n",
       "\n",
       "medicao                                  temperatura   \n",
       "tipo    TEMPERATURA DO AR - BULBO SECO, HORARIA (°C)   \n",
       "count                                   26280.000000  \\\n",
       "mean                                       25.867500   \n",
       "std                                         2.377785   \n",
       "min                                        19.500000   \n",
       "25%                                        24.000000   \n",
       "50%                                        25.600000   \n",
       "75%                                        27.300000   \n",
       "max                                        39.700000   \n",
       "\n",
       "medicao                                        \n",
       "tipo    TEMPERATURA DO PONTO DE ORVALHO (°C)   \n",
       "count                           26280.000000  \\\n",
       "mean                               21.679768   \n",
       "std                                 1.382037   \n",
       "min                                14.700000   \n",
       "25%                                20.700000   \n",
       "50%                                21.900000   \n",
       "75%                                22.600000   \n",
       "max                                26.600000   \n",
       "\n",
       "medicao                                              \n",
       "tipo    TEMPERATURA MÁXIMA NA HORA ANT. (AUT) (°C)   \n",
       "count                                 26280.000000  \\\n",
       "mean                                     26.370327   \n",
       "std                                       2.527563   \n",
       "min                                      20.100000   \n",
       "25%                                      24.400000   \n",
       "50%                                      26.000000   \n",
       "75%                                      28.000000   \n",
       "max                                      43.300000   \n",
       "\n",
       "medicao                                              \n",
       "tipo    TEMPERATURA MÍNIMA NA HORA ANT. (AUT) (°C)   \n",
       "count                                 26280.000000  \\\n",
       "mean                                     25.393565   \n",
       "std                                       2.185660   \n",
       "min                                      19.300000   \n",
       "25%                                      23.700000   \n",
       "50%                                      25.200000   \n",
       "75%                                      26.700000   \n",
       "max                                      33.000000   \n",
       "\n",
       "medicao                                                    \n",
       "tipo    TEMPERATURA ORVALHO MAX. NA HORA ANT. (AUT) (°C)   \n",
       "count                                       26280.000000  \\\n",
       "mean                                           22.143900   \n",
       "std                                             1.449447   \n",
       "min                                            15.300000   \n",
       "25%                                            21.200000   \n",
       "50%                                            22.300000   \n",
       "75%                                            23.200000   \n",
       "max                                            27.400000   \n",
       "\n",
       "medicao                                                   \n",
       "tipo    TEMPERATURA ORVALHO MIN. NA HORA ANT. (AUT) (°C)  \n",
       "count                                       26280.000000  \n",
       "mean                                           21.228242  \n",
       "std                                             1.421677  \n",
       "min                                            -1.800000  \n",
       "25%                                            20.300000  \n",
       "50%                                            21.500000  \n",
       "75%                                            22.300000  \n",
       "max                                            25.100000  "
      ]
     },
     "execution_count": 11,
     "metadata": {},
     "output_type": "execute_result"
    }
   ],
   "source": [
    "estacao_ssa.describe()"
   ]
  },
  {
   "cell_type": "markdown",
   "metadata": {},
   "source": [
    "### Analise de dados"
   ]
  },
  {
   "cell_type": "code",
   "execution_count": 12,
   "metadata": {},
   "outputs": [],
   "source": [
    "import pandas as pd\n",
    "import matplotlib.pyplot as plt\n",
    "%matplotlib widget"
   ]
  },
  {
   "cell_type": "markdown",
   "metadata": {},
   "source": [
    "1. Subplot com evolução das temperaturas médias e acumulado de precipitações nos três anos."
   ]
  },
  {
   "cell_type": "code",
   "execution_count": 1,
   "metadata": {},
   "outputs": [
    {
     "data": {
      "image/png": "[encoded data removed]",
      "text/plain": [
       "<Figure size 1000x800 with 2 Axes>"
      ]
     },
     "metadata": {},
     "output_type": "display_data"
    }
   ],
   "source": [
    "import matplotlib.pyplot as plt\n",
    "import pandas as pd\n",
    "import numpy as np\n",
    "\n",
    "# Exemplo de dados \n",
    "anos = np.arange(2003, 2024)\n",
    "temperaturas_medias_anuais = pd.Series(np.random.rand(len(anos)), index=anos)\n",
    "acumulado_precipitacoes_anuais = pd.Series(np.random.rand(len(anos)), index=anos)\n",
    "\n",
    "# Criando um subplot\n",
    "fig, axs = plt.subplots(2, 1, figsize=(10, 8))\n",
    "\n",
    "# Definindo as cores para cada ano\n",
    "cores_temperaturas = ['blue', 'red', 'green', 'orange', 'purple', 'brown', 'gray', 'pink', 'cyan', 'magenta', 'olive']\n",
    "\n",
    "# Plotando a evolução das temperaturas médias\n",
    "temperaturas_medias_anuais.plot.bar(ax=axs[0], color=cores_temperaturas, label='Temperatura Média')\n",
    "\n",
    "# Configurações do primeiro subplot\n",
    "axs[0].set_title('Evolução das Temperaturas Médias (2003-2023)')\n",
    "axs[0].set_ylabel('Temperatura (°C)')\n",
    "\n",
    "# Plotando o acumulado de precipitações\n",
    "acumulado_precipitacoes_anuais.plot.bar(ax=axs[1], color='green', label='Acumulado de Precipitações')\n",
    "\n",
    "# Configurações do segundo subplot\n",
    "axs[1].set_title('Evolução do Acumulado de Precipitações (2003-2023)')\n",
    "axs[1].set_ylabel('Precipitação (mm)')\n",
    "\n",
    "# Adicionando legenda fora do gráfico\n",
    "axs[0].legend(loc='upper left', bbox_to_anchor=(1, 1), title='Legenda 1')\n",
    "axs[1].legend(loc='upper left', bbox_to_anchor=(1, 1), title='Legenda 2')\n",
    "\n",
    "# Ajustando layout\n",
    "plt.tight_layout()\n",
    "plt.show()\n",
    "\n",
    "\n",
    "\n",
    "\n",
    "\n"
   ]
  },
  {
   "cell_type": "markdown",
   "metadata": {},
   "source": [
    "2. Acumulado de precipitações de Junho nos três anos."
   ]
  },
  {
   "cell_type": "code",
   "execution_count": null,
   "metadata": {},
   "outputs": [],
   "source": []
  },
  {
   "cell_type": "markdown",
   "metadata": {},
   "source": [
    "3. Temperatura media de cada um dos dias de Março nos três anos."
   ]
  },
  {
   "cell_type": "code",
   "execution_count": null,
   "metadata": {},
   "outputs": [],
   "source": []
  },
  {
   "cell_type": "markdown",
   "metadata": {},
   "source": [
    "4. Temperatura máxima e mínima de cada uma das estações nos tres anos. Sendo:\n",
    "   - Verão (Janeiro, Fevereiro e Março)\n",
    "   - Outono (Abril, Maio e Junho) \n",
    "   - Inverno (Julho, Agosto e Setembro)\n",
    "   - Primavera (Outubro, Novembro e Dezembro)."
   ]
  },
  {
   "cell_type": "code",
   "execution_count": null,
   "metadata": {},
   "outputs": [],
   "source": []
  },
  {
   "cell_type": "markdown",
   "metadata": {},
   "source": [
    "5. Comportamente de temperatura media do dia 28 de Setembro em cada um dos intervalos do dia dos três anos. Sendo:\n",
    "   - Madrugada (00:00 a 06:00), \n",
    "   - Manha (06:00 a 12:00)\n",
    "   - Tarde (12:00 a 18:00)\n",
    "   - Noite (18:00 a 00:00)"
   ]
  },
  {
   "cell_type": "code",
   "execution_count": null,
   "metadata": {},
   "outputs": [],
   "source": []
  }
 ],
 "metadata": {
  "kernelspec": {
   "display_name": "residencia",
   "language": "python",
   "name": "python3"
  },
  "language_info": {
   "codemirror_mode": {
    "name": "ipython",
    "version": 3
   },
   "file_extension": ".py",
   "mimetype": "text/x-python",
   "name": "python",
   "nbconvert_exporter": "python",
   "pygments_lexer": "ipython3",
   "version": "3.11.7"
  }
 },
 "nbformat": 4,
 "nbformat_minor": 2
}
