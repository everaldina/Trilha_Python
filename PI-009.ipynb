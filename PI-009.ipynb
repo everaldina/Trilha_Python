{
 "cells": [
  {
   "cell_type": "markdown",
   "metadata": {},
   "source": [
    "# INSTRUÇÃO PRÁTICA 009\n",
    "## Revisao e consolidaçao do conteúdo de __Pandas__ avançado.\n",
    "Para a pratica serão utilizados dados de estações metereologicas de Salvador dos anos de 2003, 2013 e 2023, diponiveis em: [Instituto Nacional de Meteorologia](https://portal.inmet.gov.br/dadoshistoricos). \n",
    "\n",
    "Os dados foram limpos e unidos em um unico DataFrama, com MultiIndex para colunas e indexadas por um DateTimeIndex."
   ]
  },
  {
   "cell_type": "markdown",
   "metadata": {},
   "source": [
    "### Carregando os dados"
   ]
  },
  {
   "cell_type": "code",
   "execution_count": null,
   "metadata": {},
   "outputs": [],
   "source": [
    "import pandas as pd\n",
    "\n",
    "estacao_ssa_2003 = pd.read_csv('./datasets/estacao_Salvador_2003.CSV', header=8, sep=';', encoding='latin-1')\n",
    "estacao_ssa_2013 = pd.read_csv('./datasets/estacao_Salvador_2013.CSV', header=8, sep=',', encoding='utf-8')\n",
    "estacao_ssa_2023 = pd.read_csv('./datasets/estacao_Salvador_2023.CSV', header=8, sep=';', encoding='latin-1')\n",
    "print()"
   ]
  },
  {
   "cell_type": "markdown",
   "metadata": {},
   "source": [
    "### Tratamento de dados"
   ]
  },
  {
   "cell_type": "markdown",
   "metadata": {},
   "source": [
    "1. Removendo coluna extra unnamed"
   ]
  },
  {
   "cell_type": "code",
   "execution_count": null,
   "metadata": {},
   "outputs": [],
   "source": [
    "estacao_ssa_2003.drop(columns=['Unnamed: 19'], inplace=True)\n",
    "estacao_ssa_2023.drop(columns=['Unnamed: 19'], inplace=True)"
   ]
  },
  {
   "cell_type": "markdown",
   "metadata": {},
   "source": [
    "2. Unificando nomes de colunas"
   ]
  },
  {
   "cell_type": "code",
   "execution_count": null,
   "metadata": {},
   "outputs": [],
   "source": [
    "# pegando lista de nomes de colunas de cada dataframe\n",
    "colunas_2003 = estacao_ssa_2003.columns.values.tolist() \n",
    "colunas_2013 = estacao_ssa_2013.columns.values.tolist()\n",
    "colunas_2023 = estacao_ssa_2023.columns.values.tolist()\n",
    "\n",
    "# renomeando colunas diferentes para o nome da coluna do dataframe de 2003\n",
    "for c_2003, c_2013, c_2023 in zip(colunas_2003, colunas_2013, colunas_2023):\n",
    "    if c_2003 != c_2013 or c_2003 != c_2023:\n",
    "        estacao_ssa_2013.rename(columns={c_2013: c_2003}, inplace=True)\n",
    "        estacao_ssa_2023.rename(columns={c_2023: c_2003}, inplace=True)\n",
    "        \n",
    "\n",
    "# concatenando os dataframes\n",
    "estacao_ssa = pd.concat([estacao_ssa_2003, estacao_ssa_2013, estacao_ssa_2023], ignore_index=True)"
   ]
  },
  {
   "cell_type": "markdown",
   "metadata": {},
   "source": [
    "3. Criando DateTimeIndex"
   ]
  },
  {
   "cell_type": "code",
   "execution_count": null,
   "metadata": {},
   "outputs": [],
   "source": [
    "# tratando coluna hora\n",
    "mask_utc = estacao_ssa['HORA (UTC)'].str.contains('UTC')  # mascara para pegar apenas os dados com UTC\n",
    "\n",
    "# trantando dados utc\n",
    "dados_utc = estacao_ssa.loc[mask_utc, 'HORA (UTC)']\n",
    "dados_utc = dados_utc.replace(' UTC', '', regex=True) # removendo UTC\n",
    "dados_utc = dados_utc.str[0:2] + ':00' # pegando apenas a hora\n",
    "\n",
    "# colocando os dados tratados no dataframe\n",
    "estacao_ssa.loc[mask_utc, 'HORA (UTC)'] = dados_utc.values"
   ]
  },
  {
   "cell_type": "code",
   "execution_count": null,
   "metadata": {},
   "outputs": [],
   "source": [
    "# tratando coluna data\n",
    "estacao_ssa['DATA (YYYY-MM-DD)'] = estacao_ssa['DATA (YYYY-MM-DD)'].str.replace('/', '-')"
   ]
  },
  {
   "cell_type": "code",
   "execution_count": null,
   "metadata": {},
   "outputs": [],
   "source": [
    "# criando DateTimeIndex a partir da coluna DATA (YYYY-MM-DD) e HORA (UTC)\n",
    "estacao_ssa_index = pd.to_datetime(estacao_ssa['DATA (YYYY-MM-DD)'] + ' ' + estacao_ssa['HORA (UTC)'])\n",
    "\n",
    "# removendo as colunas originais DATA (YYYY-MM-DD) e HORA (UTC)\n",
    "estacao_ssa.drop(['DATA (YYYY-MM-DD)', 'HORA (UTC)'], axis=1, inplace=True)\n",
    "\n",
    "# Define a coluna DATA HORA como índice\n",
    "estacao_ssa.set_index(estacao_ssa_index, inplace=True)"
   ]
  },
  {
   "cell_type": "markdown",
   "metadata": {},
   "source": [
    "4. Criando MultiIndex para colunas"
   ]
  },
  {
   "cell_type": "code",
   "execution_count": null,
   "metadata": {},
   "outputs": [],
   "source": [
    "# agrupando parametros de medição\n",
    "nivel_1 = ['precipitacao'] + ['pressao']*3 + ['radiacao'] + ['temperatura']*6 + ['umidade']*3 + ['velocidade do vento']*3\n",
    "nivel_2 = colunas_2003[2:]\n",
    "\n",
    "# definindo multiindex para as colunas\n",
    "index_col = pd.MultiIndex.from_arrays([nivel_1, nivel_2], names=['medicao', 'tipo'])\n",
    "\n",
    "estacao_ssa.columns = index_col"
   ]
  },
  {
   "cell_type": "markdown",
   "metadata": {},
   "source": [
    "5. Removendo colunas desnecessárias"
   ]
  },
  {
   "cell_type": "code",
   "execution_count": null,
   "metadata": {},
   "outputs": [],
   "source": [
    "estacao_ssa.drop(['pressao', 'radiacao', 'umidade', 'velocidade do vento'], axis=1, inplace=True)"
   ]
  },
  {
   "cell_type": "markdown",
   "metadata": {},
   "source": [
    "6. Transformando colunas de string para float"
   ]
  },
  {
   "cell_type": "code",
   "execution_count": null,
   "metadata": {},
   "outputs": [],
   "source": [
    "# substiduindo valores , por .\n",
    "estacao_ssa.replace(',', '.', regex=True, inplace=True)\n",
    "\n",
    "# convertendo para float\n",
    "estacao_ssa = estacao_ssa.astype('float64')"
   ]
  },
  {
   "cell_type": "markdown",
   "metadata": {},
   "source": [
    "7. Tratando valores nulos"
   ]
  },
  {
   "cell_type": "code",
   "execution_count": null,
   "metadata": {},
   "outputs": [],
   "source": [
    "# tiranddo todos os possiveis valores nulos\n",
    "estacao_ssa.replace(['-9999', -9999, -9999.0, '-9999.0'], value= None, inplace=True)\n",
    "\n",
    "# preenchendo valores nulos\n",
    "estacao_ssa.bfill(inplace=True)"
   ]
  },
  {
   "cell_type": "markdown",
   "metadata": {},
   "source": [
    "### DataFrame final"
   ]
  },
  {
   "cell_type": "code",
   "execution_count": null,
   "metadata": {},
   "outputs": [],
   "source": [
    "estacao_ssa.head()"
   ]
  },
  {
   "cell_type": "code",
   "execution_count": null,
   "metadata": {},
   "outputs": [],
   "source": [
    "estacao_ssa.info()"
   ]
  },
  {
   "cell_type": "code",
   "execution_count": null,
   "metadata": {},
   "outputs": [],
   "source": [
    "estacao_ssa.describe()"
   ]
  },
  {
   "cell_type": "markdown",
   "metadata": {},
   "source": [
    "### Analise de dados"
   ]
  },
  {
   "cell_type": "code",
   "execution_count": null,
   "metadata": {},
   "outputs": [],
   "source": [
    "import matplotlib.pyplot as plt\n",
    "%matplotlib widget"
   ]
  },
  {
   "cell_type": "markdown",
   "metadata": {},
   "source": [
    "1. Subplot com evolução das temperaturas médias e acumulado de precipitações nos três anos."
   ]
  },
  {
   "cell_type": "code",
   "execution_count": null,
   "metadata": {},
   "outputs": [],
   "source": [
    "import matplotlib.pyplot as plt\n",
    "\n",
    "# Ajuste o tamanho da figura\n",
    "fig, axs = plt.subplots(2, 1, figsize=(20, 16))\n",
    "\n",
    "# Definindo as cores para cada ano\n",
    "cores_temperaturas = ['blue', 'red', 'green', 'orange', 'purple', 'brown', 'gray', 'pink', 'cyan', 'magenta', 'olive']\n",
    "\n",
    "# Plotando a evolução das temperaturas médias\n",
    "temperaturas_medias_anuais.plot.bar(ax=axs[0], color=cores_temperaturas, label='Temperatura Média')\n",
    "\n",
    "# Configurações do primeiro subplot\n",
    "axs[0].set_title('Evolução das Temperaturas Médias (2003-2023)')\n",
    "axs[0].set_ylabel('Temperatura (°C)')\n",
    "\n",
    "# Plotando o acumulado de precipitações\n",
    "acumulado_precipitacoes_anuais.plot.bar(ax=axs[1], color='green', label='Acumulado de Precipitações')\n",
    "\n",
    "# Configurações do segundo subplot\n",
    "axs[1].set_title('Evolução do Acumulado de Precipitações (2003-2023)')\n",
    "axs[1].set_ylabel('Precipitação (mm)')\n",
    "\n",
    "# Adicionando legenda fora do gráfico\n",
    "axs[0].legend(loc='upper left', bbox_to_anchor=(1, 1), title='Legenda 1')\n",
    "axs[1].legend(loc='upper left', bbox_to_anchor=(1, 1), title='Legenda 2')\n",
    "\n",
    "# Ajustando layout\n",
    "plt.tight_layout()\n",
    "plt.show()\n",
    "\n",
    "\n",
    "\n",
    "\n"
   ]
  },
  {
   "cell_type": "markdown",
   "metadata": {},
   "source": [
    "2. Acumulado de precipitações de Junho nos três anos."
   ]
  },
  {
   "cell_type": "code",
   "execution_count": null,
   "metadata": {},
   "outputs": [],
   "source": [
    "\n",
    "dados_junho = estacao_ssa[('precipitacao', 'PRECIPITAÇÃO TOTAL, HORÁRIO (mm)')][estacao_ssa.index.month == 6]\n",
    "\n",
    "# Agrupando por ano e somar as precipitações de junho\n",
    "acumulado_junho_por_ano = dados_junho.groupby([dados_junho.index.year, dados_junho.index.day]).sum().groupby(level=0).cumsum()\n",
    "\n",
    "# Criando o gráfico de linha para o acumulado de precipitação\n",
    "plt.figure(figsize=(8, 4))\n",
    "cores = ['blue', 'green', 'red']  # Defina cores diferentes para cada ano\n",
    "\n",
    "for i, (ano, dados) in enumerate(acumulado_junho_por_ano.groupby(acumulado_junho_por_ano.index.get_level_values(0))):\n",
    "  plt.plot(dados.index.get_level_values(1), dados.values, color=cores[i], alpha=0.7, label=f'Ano {ano}', marker='o')  # Adicionando marcadores para cada ponto\n",
    "\n",
    "plt.title('Acumulado de Precipitação em Junho')\n",
    "plt.xlabel('Dia de Junho')\n",
    "plt.ylabel('Acumulado de Precipitação (mm)')\n",
    "plt.legend()\n",
    "plt.show()\n"
   ]
  },
  {
   "cell_type": "markdown",
   "metadata": {},
   "source": [
    "3. Temperatura media de cada um dos dias de Março nos três anos."
   ]
  },
  {
   "cell_type": "code",
   "execution_count": null,
   "metadata": {},
   "outputs": [],
   "source": []
  },
  {
   "cell_type": "markdown",
   "metadata": {},
   "source": [
    "4. Temperatura máxima e mínima de cada uma das estações nos tres anos. Sendo:\n",
    "   - Verão (Janeiro, Fevereiro e Março)\n",
    "   - Outono (Abril, Maio e Junho) \n",
    "   - Inverno (Julho, Agosto e Setembro)\n",
    "   - Primavera (Outubro, Novembro e Dezembro)."
   ]
  },
  {
   "cell_type": "code",
   "execution_count": null,
   "metadata": {},
   "outputs": [],
   "source": []
  },
  {
   "cell_type": "markdown",
   "metadata": {},
   "source": [
    "5. Comportamente de temperatura media do dia 28 de Setembro em cada um dos intervalos do dia dos três anos. Sendo:\n",
    "   - Madrugada (00:00 a 06:00), \n",
    "   - Manha (06:00 a 12:00)\n",
    "   - Tarde (12:00 a 18:00)\n",
    "   - Noite (18:00 a 00:00)"
   ]
  },
  {
   "cell_type": "code",
   "execution_count": null,
   "metadata": {},
   "outputs": [],
   "source": []
  }
 ],
 "metadata": {
  "kernelspec": {
   "display_name": "residencia",
   "language": "python",
   "name": "python3"
  },
  "language_info": {
   "codemirror_mode": {
    "name": "ipython",
    "version": 3
   },
   "file_extension": ".py",
   "mimetype": "text/x-python",
   "name": "python",
   "nbconvert_exporter": "python",
   "pygments_lexer": "ipython3",
   "version": "3.11.7"
  }
 },
 "nbformat": 4,
 "nbformat_minor": 2
}
