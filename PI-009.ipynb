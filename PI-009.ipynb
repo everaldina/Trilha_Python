{
 "cells": [
  {
   "cell_type": "markdown",
   "metadata": {},
   "source": [
    "# INSTRUÇÃO PRÁTICA 009\n",
    "## Revisao e consolidaçao do conteúdo de __Pandas__ avançado.\n",
    "Para a pratica serão utilizados dados de estações metereologicas de Salvador dos anos de 2003, 2013 e 2023, diponiveis em: [Instituto Nacional de Meteorologia](https://portal.inmet.gov.br/dadoshistoricos). \n",
    "\n",
    "Os dados foram limpos e unidos em um unico DataFrama, com MultiIndex para colunas e indexadas por um DateTimeIndex."
   ]
  },
  {
   "cell_type": "markdown",
   "metadata": {},
   "source": [
    "### Carregando os dados"
   ]
  },
  {
   "cell_type": "code",
   "execution_count": 1,
   "metadata": {},
   "outputs": [],
   "source": [
    "import pandas as pd\n",
    "\n",
    "estacao_ssa_2003 = pd.read_csv('./datasets/estacao_Salvador_2003.CSV', header=8, sep=';', encoding='latin-1')\n",
    "estacao_ssa_2013 = pd.read_csv('./datasets/estacao_Salvador_2013.CSV', header=8, sep=',', encoding='utf-8')\n",
    "estacao_ssa_2023 = pd.read_csv('./datasets/estacao_Salvador_2023.CSV', header=8, sep=';', encoding='latin-1')"
   ]
  },
  {
   "cell_type": "markdown",
   "metadata": {},
   "source": [
    "### Tratamento de dados"
   ]
  },
  {
   "cell_type": "markdown",
   "metadata": {},
   "source": [
    "1. Removendo coluna extra unnamed"
   ]
  },
  {
   "cell_type": "code",
   "execution_count": 2,
   "metadata": {},
   "outputs": [],
   "source": [
    "estacao_ssa_2003.drop(columns=['Unnamed: 19'], inplace=True)\n",
    "estacao_ssa_2023.drop(columns=['Unnamed: 19'], inplace=True)"
   ]
  },
  {
   "cell_type": "markdown",
   "metadata": {},
   "source": [
    "2. Unificando nomes de colunas"
   ]
  },
  {
   "cell_type": "code",
   "execution_count": 3,
   "metadata": {},
   "outputs": [],
   "source": [
    "# pegando lista de nomes de colunas de cada dataframe\n",
    "colunas_2003 = estacao_ssa_2003.columns.values.tolist() \n",
    "colunas_2013 = estacao_ssa_2013.columns.values.tolist()\n",
    "colunas_2023 = estacao_ssa_2023.columns.values.tolist()\n",
    "\n",
    "# renomeando colunas diferentes para o nome da coluna do dataframe de 2003\n",
    "for c_2003, c_2013, c_2023 in zip(colunas_2003, colunas_2013, colunas_2023):\n",
    "    if c_2003 != c_2013 or c_2003 != c_2023:\n",
    "        estacao_ssa_2013.rename(columns={c_2013: c_2003}, inplace=True)\n",
    "        estacao_ssa_2023.rename(columns={c_2023: c_2003}, inplace=True)\n",
    "        \n",
    "\n",
    "# concatenando os dataframes\n",
    "estacao_ssa = pd.concat([estacao_ssa_2003, estacao_ssa_2013, estacao_ssa_2023], ignore_index=True)"
   ]
  },
  {
   "cell_type": "markdown",
   "metadata": {},
   "source": [
    "3. Criando DateTimeIndex"
   ]
  },
  {
   "cell_type": "code",
   "execution_count": 4,
   "metadata": {},
   "outputs": [],
   "source": [
    "# criando DateTimeIndex a partir da coluna DATA (YYYY-MM-DD) e HORA (UTC)\n",
    "estacao_ssa_index = pd.to_datetime(estacao_ssa['DATA (YYYY-MM-DD)'] + ' ' + estacao_ssa_2003['HORA (UTC)'], utc=True)\n",
    "\n",
    "# removendo as colunas originais DATA (YYYY-MM-DD) e HORA (UTC)\n",
    "estacao_ssa.drop(['DATA (YYYY-MM-DD)', 'HORA (UTC)'], axis=1, inplace=True)\n",
    "\n",
    "# Define a coluna DATA HORA como índice\n",
    "estacao_ssa.set_index(estacao_ssa_index, inplace=True)"
   ]
  },
  {
   "cell_type": "markdown",
   "metadata": {},
   "source": [
    "4. Criando MultiIndex para colunas"
   ]
  },
  {
   "cell_type": "code",
   "execution_count": 5,
   "metadata": {},
   "outputs": [],
   "source": [
    "# agrupando parametros de medição\n",
    "nivel_1 = ['precipitacao'] + ['pressao']*3 + ['radiacao'] + ['temperatura']*6 + ['umidade']*3 + ['velocidade do vento']*3\n",
    "nivel_2 = colunas_2003[2:]\n",
    "\n",
    "# definindo multiindex para as colunas\n",
    "index_col = pd.MultiIndex.from_arrays([nivel_1, nivel_2], names=['medicao', 'tipo'])\n",
    "\n",
    "estacao_ssa.columns = index_col"
   ]
  },
  {
   "cell_type": "markdown",
   "metadata": {},
   "source": [
    "5. Removendo colunas desnecessárias"
   ]
  },
  {
   "cell_type": "code",
   "execution_count": 6,
   "metadata": {},
   "outputs": [],
   "source": [
    "estacao_ssa.drop(['pressao', 'radiacao', 'umidade', 'velocidade do vento'], axis=1, inplace=True)"
   ]
  },
  {
   "cell_type": "markdown",
   "metadata": {},
   "source": [
    "6. Transformando colunas de string para float"
   ]
  },
  {
   "cell_type": "code",
   "execution_count": 7,
   "metadata": {},
   "outputs": [],
   "source": [
    "# substiduindo valores , por .\n",
    "estacao_ssa.replace(',', '.', regex=True, inplace=True)\n",
    "\n",
    "# convertendo para float\n",
    "estacao_ssa = estacao_ssa.astype('float64')"
   ]
  },
  {
   "cell_type": "markdown",
   "metadata": {},
   "source": [
    "7. Tratando valores nulos"
   ]
  },
  {
   "cell_type": "code",
   "execution_count": 8,
   "metadata": {},
   "outputs": [],
   "source": [
    "# tiranddo todos os possiveis valores nulos\n",
    "estacao_ssa.replace(['-9999', -9999, -9999.0, '-9999.0'], value= None, inplace=True)\n",
    "\n",
    "# preenchendo valores nulos\n",
    "estacao_ssa.bfill(inplace=True)"
   ]
  },
  {
   "cell_type": "markdown",
   "metadata": {},
   "source": [
    "### DataFrame final"
   ]
  },
  {
   "cell_type": "code",
   "execution_count": 9,
   "metadata": {},
   "outputs": [
    {
     "data": {
      "text/html": [
       "<div>\n",
       "<style scoped>\n",
       "    .dataframe tbody tr th:only-of-type {\n",
       "        vertical-align: middle;\n",
       "    }\n",
       "\n",
       "    .dataframe tbody tr th {\n",
       "        vertical-align: top;\n",
       "    }\n",
       "\n",
       "    .dataframe thead tr th {\n",
       "        text-align: left;\n",
       "    }\n",
       "</style>\n",
       "<table border=\"1\" class=\"dataframe\">\n",
       "  <thead>\n",
       "    <tr>\n",
       "      <th>medicao</th>\n",
       "      <th>precipitacao</th>\n",
       "      <th colspan=\"6\" halign=\"left\">temperatura</th>\n",
       "    </tr>\n",
       "    <tr>\n",
       "      <th>tipo</th>\n",
       "      <th>PRECIPITAÇÃO TOTAL, HORÁRIO (mm)</th>\n",
       "      <th>TEMPERATURA DO AR - BULBO SECO, HORARIA (°C)</th>\n",
       "      <th>TEMPERATURA DO PONTO DE ORVALHO (°C)</th>\n",
       "      <th>TEMPERATURA MÁXIMA NA HORA ANT. (AUT) (°C)</th>\n",
       "      <th>TEMPERATURA MÍNIMA NA HORA ANT. (AUT) (°C)</th>\n",
       "      <th>TEMPERATURA ORVALHO MAX. NA HORA ANT. (AUT) (°C)</th>\n",
       "      <th>TEMPERATURA ORVALHO MIN. NA HORA ANT. (AUT) (°C)</th>\n",
       "    </tr>\n",
       "  </thead>\n",
       "  <tbody>\n",
       "    <tr>\n",
       "      <th>2003-01-01 00:00:00+00:00</th>\n",
       "      <td>0.0</td>\n",
       "      <td>26.4</td>\n",
       "      <td>22.0</td>\n",
       "      <td>27.2</td>\n",
       "      <td>26.3</td>\n",
       "      <td>22.6</td>\n",
       "      <td>21.0</td>\n",
       "    </tr>\n",
       "    <tr>\n",
       "      <th>2003-01-01 01:00:00+00:00</th>\n",
       "      <td>0.0</td>\n",
       "      <td>26.4</td>\n",
       "      <td>22.0</td>\n",
       "      <td>27.2</td>\n",
       "      <td>26.3</td>\n",
       "      <td>22.6</td>\n",
       "      <td>21.0</td>\n",
       "    </tr>\n",
       "    <tr>\n",
       "      <th>2003-01-01 02:00:00+00:00</th>\n",
       "      <td>0.0</td>\n",
       "      <td>26.4</td>\n",
       "      <td>22.0</td>\n",
       "      <td>27.2</td>\n",
       "      <td>26.3</td>\n",
       "      <td>22.6</td>\n",
       "      <td>21.0</td>\n",
       "    </tr>\n",
       "    <tr>\n",
       "      <th>2003-01-01 03:00:00+00:00</th>\n",
       "      <td>0.0</td>\n",
       "      <td>26.4</td>\n",
       "      <td>22.0</td>\n",
       "      <td>27.2</td>\n",
       "      <td>26.3</td>\n",
       "      <td>22.6</td>\n",
       "      <td>21.0</td>\n",
       "    </tr>\n",
       "    <tr>\n",
       "      <th>2003-01-01 04:00:00+00:00</th>\n",
       "      <td>0.0</td>\n",
       "      <td>26.4</td>\n",
       "      <td>22.0</td>\n",
       "      <td>27.2</td>\n",
       "      <td>26.3</td>\n",
       "      <td>22.6</td>\n",
       "      <td>21.0</td>\n",
       "    </tr>\n",
       "  </tbody>\n",
       "</table>\n",
       "</div>"
      ],
      "text/plain": [
       "medicao                                       precipitacao   \n",
       "tipo                      PRECIPITAÇÃO TOTAL, HORÁRIO (mm)   \n",
       "2003-01-01 00:00:00+00:00                              0.0  \\\n",
       "2003-01-01 01:00:00+00:00                              0.0   \n",
       "2003-01-01 02:00:00+00:00                              0.0   \n",
       "2003-01-01 03:00:00+00:00                              0.0   \n",
       "2003-01-01 04:00:00+00:00                              0.0   \n",
       "\n",
       "medicao                                                    temperatura   \n",
       "tipo                      TEMPERATURA DO AR - BULBO SECO, HORARIA (°C)   \n",
       "2003-01-01 00:00:00+00:00                                         26.4  \\\n",
       "2003-01-01 01:00:00+00:00                                         26.4   \n",
       "2003-01-01 02:00:00+00:00                                         26.4   \n",
       "2003-01-01 03:00:00+00:00                                         26.4   \n",
       "2003-01-01 04:00:00+00:00                                         26.4   \n",
       "\n",
       "medicao                                                          \n",
       "tipo                      TEMPERATURA DO PONTO DE ORVALHO (°C)   \n",
       "2003-01-01 00:00:00+00:00                                 22.0  \\\n",
       "2003-01-01 01:00:00+00:00                                 22.0   \n",
       "2003-01-01 02:00:00+00:00                                 22.0   \n",
       "2003-01-01 03:00:00+00:00                                 22.0   \n",
       "2003-01-01 04:00:00+00:00                                 22.0   \n",
       "\n",
       "medicao                                                                \n",
       "tipo                      TEMPERATURA MÁXIMA NA HORA ANT. (AUT) (°C)   \n",
       "2003-01-01 00:00:00+00:00                                       27.2  \\\n",
       "2003-01-01 01:00:00+00:00                                       27.2   \n",
       "2003-01-01 02:00:00+00:00                                       27.2   \n",
       "2003-01-01 03:00:00+00:00                                       27.2   \n",
       "2003-01-01 04:00:00+00:00                                       27.2   \n",
       "\n",
       "medicao                                                                \n",
       "tipo                      TEMPERATURA MÍNIMA NA HORA ANT. (AUT) (°C)   \n",
       "2003-01-01 00:00:00+00:00                                       26.3  \\\n",
       "2003-01-01 01:00:00+00:00                                       26.3   \n",
       "2003-01-01 02:00:00+00:00                                       26.3   \n",
       "2003-01-01 03:00:00+00:00                                       26.3   \n",
       "2003-01-01 04:00:00+00:00                                       26.3   \n",
       "\n",
       "medicao                                                                      \n",
       "tipo                      TEMPERATURA ORVALHO MAX. NA HORA ANT. (AUT) (°C)   \n",
       "2003-01-01 00:00:00+00:00                                             22.6  \\\n",
       "2003-01-01 01:00:00+00:00                                             22.6   \n",
       "2003-01-01 02:00:00+00:00                                             22.6   \n",
       "2003-01-01 03:00:00+00:00                                             22.6   \n",
       "2003-01-01 04:00:00+00:00                                             22.6   \n",
       "\n",
       "medicao                                                                     \n",
       "tipo                      TEMPERATURA ORVALHO MIN. NA HORA ANT. (AUT) (°C)  \n",
       "2003-01-01 00:00:00+00:00                                             21.0  \n",
       "2003-01-01 01:00:00+00:00                                             21.0  \n",
       "2003-01-01 02:00:00+00:00                                             21.0  \n",
       "2003-01-01 03:00:00+00:00                                             21.0  \n",
       "2003-01-01 04:00:00+00:00                                             21.0  "
      ]
     },
     "execution_count": 9,
     "metadata": {},
     "output_type": "execute_result"
    }
   ],
   "source": [
    "estacao_ssa.head()"
   ]
  },
  {
   "cell_type": "code",
   "execution_count": 10,
   "metadata": {},
   "outputs": [
    {
     "name": "stdout",
     "output_type": "stream",
     "text": [
      "<class 'pandas.core.frame.DataFrame'>\n",
      "DatetimeIndex: 26280 entries, 2003-01-01 00:00:00+00:00 to NaT\n",
      "Data columns (total 7 columns):\n",
      " #   Column                                                           Non-Null Count  Dtype  \n",
      "---  ------                                                           --------------  -----  \n",
      " 0   (precipitacao, PRECIPITAÇÃO TOTAL, HORÁRIO (mm))                 26280 non-null  float64\n",
      " 1   (temperatura, TEMPERATURA DO AR - BULBO SECO, HORARIA (°C))      26280 non-null  float64\n",
      " 2   (temperatura, TEMPERATURA DO PONTO DE ORVALHO (°C))              26280 non-null  float64\n",
      " 3   (temperatura, TEMPERATURA MÁXIMA NA HORA ANT. (AUT) (°C))        26280 non-null  float64\n",
      " 4   (temperatura, TEMPERATURA MÍNIMA NA HORA ANT. (AUT) (°C))        26280 non-null  float64\n",
      " 5   (temperatura, TEMPERATURA ORVALHO MAX. NA HORA ANT. (AUT) (°C))  26280 non-null  float64\n",
      " 6   (temperatura, TEMPERATURA ORVALHO MIN. NA HORA ANT. (AUT) (°C))  26280 non-null  float64\n",
      "dtypes: float64(7)\n",
      "memory usage: 1.6 MB\n"
     ]
    }
   ],
   "source": [
    "estacao_ssa.info()"
   ]
  },
  {
   "cell_type": "code",
   "execution_count": 11,
   "metadata": {},
   "outputs": [
    {
     "data": {
      "text/html": [
       "<div>\n",
       "<style scoped>\n",
       "    .dataframe tbody tr th:only-of-type {\n",
       "        vertical-align: middle;\n",
       "    }\n",
       "\n",
       "    .dataframe tbody tr th {\n",
       "        vertical-align: top;\n",
       "    }\n",
       "\n",
       "    .dataframe thead tr th {\n",
       "        text-align: left;\n",
       "    }\n",
       "</style>\n",
       "<table border=\"1\" class=\"dataframe\">\n",
       "  <thead>\n",
       "    <tr>\n",
       "      <th>medicao</th>\n",
       "      <th>precipitacao</th>\n",
       "      <th colspan=\"6\" halign=\"left\">temperatura</th>\n",
       "    </tr>\n",
       "    <tr>\n",
       "      <th>tipo</th>\n",
       "      <th>PRECIPITAÇÃO TOTAL, HORÁRIO (mm)</th>\n",
       "      <th>TEMPERATURA DO AR - BULBO SECO, HORARIA (°C)</th>\n",
       "      <th>TEMPERATURA DO PONTO DE ORVALHO (°C)</th>\n",
       "      <th>TEMPERATURA MÁXIMA NA HORA ANT. (AUT) (°C)</th>\n",
       "      <th>TEMPERATURA MÍNIMA NA HORA ANT. (AUT) (°C)</th>\n",
       "      <th>TEMPERATURA ORVALHO MAX. NA HORA ANT. (AUT) (°C)</th>\n",
       "      <th>TEMPERATURA ORVALHO MIN. NA HORA ANT. (AUT) (°C)</th>\n",
       "    </tr>\n",
       "  </thead>\n",
       "  <tbody>\n",
       "    <tr>\n",
       "      <th>count</th>\n",
       "      <td>26280.000000</td>\n",
       "      <td>26280.000000</td>\n",
       "      <td>26280.000000</td>\n",
       "      <td>26280.000000</td>\n",
       "      <td>26280.000000</td>\n",
       "      <td>26280.000000</td>\n",
       "      <td>26280.000000</td>\n",
       "    </tr>\n",
       "    <tr>\n",
       "      <th>mean</th>\n",
       "      <td>0.202785</td>\n",
       "      <td>25.867500</td>\n",
       "      <td>21.679768</td>\n",
       "      <td>26.370327</td>\n",
       "      <td>25.393565</td>\n",
       "      <td>22.143900</td>\n",
       "      <td>21.228242</td>\n",
       "    </tr>\n",
       "    <tr>\n",
       "      <th>std</th>\n",
       "      <td>1.333296</td>\n",
       "      <td>2.377785</td>\n",
       "      <td>1.382037</td>\n",
       "      <td>2.527563</td>\n",
       "      <td>2.185660</td>\n",
       "      <td>1.449447</td>\n",
       "      <td>1.421677</td>\n",
       "    </tr>\n",
       "    <tr>\n",
       "      <th>min</th>\n",
       "      <td>0.000000</td>\n",
       "      <td>19.500000</td>\n",
       "      <td>14.700000</td>\n",
       "      <td>20.100000</td>\n",
       "      <td>19.300000</td>\n",
       "      <td>15.300000</td>\n",
       "      <td>-1.800000</td>\n",
       "    </tr>\n",
       "    <tr>\n",
       "      <th>25%</th>\n",
       "      <td>0.000000</td>\n",
       "      <td>24.000000</td>\n",
       "      <td>20.700000</td>\n",
       "      <td>24.400000</td>\n",
       "      <td>23.700000</td>\n",
       "      <td>21.200000</td>\n",
       "      <td>20.300000</td>\n",
       "    </tr>\n",
       "    <tr>\n",
       "      <th>50%</th>\n",
       "      <td>0.000000</td>\n",
       "      <td>25.600000</td>\n",
       "      <td>21.900000</td>\n",
       "      <td>26.000000</td>\n",
       "      <td>25.200000</td>\n",
       "      <td>22.300000</td>\n",
       "      <td>21.500000</td>\n",
       "    </tr>\n",
       "    <tr>\n",
       "      <th>75%</th>\n",
       "      <td>0.000000</td>\n",
       "      <td>27.300000</td>\n",
       "      <td>22.600000</td>\n",
       "      <td>28.000000</td>\n",
       "      <td>26.700000</td>\n",
       "      <td>23.200000</td>\n",
       "      <td>22.300000</td>\n",
       "    </tr>\n",
       "    <tr>\n",
       "      <th>max</th>\n",
       "      <td>52.000000</td>\n",
       "      <td>39.700000</td>\n",
       "      <td>26.600000</td>\n",
       "      <td>43.300000</td>\n",
       "      <td>33.000000</td>\n",
       "      <td>27.400000</td>\n",
       "      <td>25.100000</td>\n",
       "    </tr>\n",
       "  </tbody>\n",
       "</table>\n",
       "</div>"
      ],
      "text/plain": [
       "medicao                     precipitacao   \n",
       "tipo    PRECIPITAÇÃO TOTAL, HORÁRIO (mm)   \n",
       "count                       26280.000000  \\\n",
       "mean                            0.202785   \n",
       "std                             1.333296   \n",
       "min                             0.000000   \n",
       "25%                             0.000000   \n",
       "50%                             0.000000   \n",
       "75%                             0.000000   \n",
       "max                            52.000000   \n",
       "\n",
       "medicao                                  temperatura   \n",
       "tipo    TEMPERATURA DO AR - BULBO SECO, HORARIA (°C)   \n",
       "count                                   26280.000000  \\\n",
       "mean                                       25.867500   \n",
       "std                                         2.377785   \n",
       "min                                        19.500000   \n",
       "25%                                        24.000000   \n",
       "50%                                        25.600000   \n",
       "75%                                        27.300000   \n",
       "max                                        39.700000   \n",
       "\n",
       "medicao                                        \n",
       "tipo    TEMPERATURA DO PONTO DE ORVALHO (°C)   \n",
       "count                           26280.000000  \\\n",
       "mean                               21.679768   \n",
       "std                                 1.382037   \n",
       "min                                14.700000   \n",
       "25%                                20.700000   \n",
       "50%                                21.900000   \n",
       "75%                                22.600000   \n",
       "max                                26.600000   \n",
       "\n",
       "medicao                                              \n",
       "tipo    TEMPERATURA MÁXIMA NA HORA ANT. (AUT) (°C)   \n",
       "count                                 26280.000000  \\\n",
       "mean                                     26.370327   \n",
       "std                                       2.527563   \n",
       "min                                      20.100000   \n",
       "25%                                      24.400000   \n",
       "50%                                      26.000000   \n",
       "75%                                      28.000000   \n",
       "max                                      43.300000   \n",
       "\n",
       "medicao                                              \n",
       "tipo    TEMPERATURA MÍNIMA NA HORA ANT. (AUT) (°C)   \n",
       "count                                 26280.000000  \\\n",
       "mean                                     25.393565   \n",
       "std                                       2.185660   \n",
       "min                                      19.300000   \n",
       "25%                                      23.700000   \n",
       "50%                                      25.200000   \n",
       "75%                                      26.700000   \n",
       "max                                      33.000000   \n",
       "\n",
       "medicao                                                    \n",
       "tipo    TEMPERATURA ORVALHO MAX. NA HORA ANT. (AUT) (°C)   \n",
       "count                                       26280.000000  \\\n",
       "mean                                           22.143900   \n",
       "std                                             1.449447   \n",
       "min                                            15.300000   \n",
       "25%                                            21.200000   \n",
       "50%                                            22.300000   \n",
       "75%                                            23.200000   \n",
       "max                                            27.400000   \n",
       "\n",
       "medicao                                                   \n",
       "tipo    TEMPERATURA ORVALHO MIN. NA HORA ANT. (AUT) (°C)  \n",
       "count                                       26280.000000  \n",
       "mean                                           21.228242  \n",
       "std                                             1.421677  \n",
       "min                                            -1.800000  \n",
       "25%                                            20.300000  \n",
       "50%                                            21.500000  \n",
       "75%                                            22.300000  \n",
       "max                                            25.100000  "
      ]
     },
     "execution_count": 11,
     "metadata": {},
     "output_type": "execute_result"
    }
   ],
   "source": [
    "estacao_ssa.describe()"
   ]
  },
  {
   "cell_type": "markdown",
   "metadata": {},
   "source": [
    "### Analise de dados"
   ]
  },
  {
   "cell_type": "code",
   "execution_count": 12,
   "metadata": {},
   "outputs": [],
   "source": [
    "import matplotlib.pyplot as plt\n",
    "%matplotlib widget"
   ]
  },
  {
   "cell_type": "markdown",
   "metadata": {},
   "source": [
    "1. Subplot com evolução das temperaturas médias e acumulado de precipitações nos três anos."
   ]
  },
  {
   "cell_type": "code",
   "execution_count": 16,
   "metadata": {},
   "outputs": [
    {
     "ename": "TypeError",
     "evalue": "float() argument must be a string or a real number, not 'NoneType'",
     "output_type": "error",
     "traceback": [
      "\u001b[1;31m---------------------------------------------------------------------------\u001b[0m",
      "\u001b[1;31mTypeError\u001b[0m                                 Traceback (most recent call last)",
      "Cell \u001b[1;32mIn[16], line 16\u001b[0m\n\u001b[0;32m     14\u001b[0m precipitacoes_ano \u001b[38;5;241m=\u001b[39m precipitacoes_ano\u001b[38;5;241m.\u001b[39mdropna()  \u001b[38;5;66;03m# Removendo valores nulos\u001b[39;00m\n\u001b[0;32m     15\u001b[0m ax2 \u001b[38;5;241m=\u001b[39m ax\u001b[38;5;241m.\u001b[39mtwinx()\n\u001b[1;32m---> 16\u001b[0m \u001b[43max2\u001b[49m\u001b[38;5;241;43m.\u001b[39;49m\u001b[43mbar\u001b[49m\u001b[43m(\u001b[49m\u001b[43mprecipitacoes_ano\u001b[49m\u001b[38;5;241;43m.\u001b[39;49m\u001b[43mindex\u001b[49m\u001b[38;5;241;43m.\u001b[39;49m\u001b[43mmonth\u001b[49m\u001b[43m,\u001b[49m\u001b[43m \u001b[49m\u001b[43mprecipitacoes_ano\u001b[49m\u001b[43m,\u001b[49m\u001b[43m \u001b[49m\u001b[43mcolor\u001b[49m\u001b[38;5;241;43m=\u001b[39;49m\u001b[38;5;124;43m'\u001b[39;49m\u001b[38;5;124;43mblue\u001b[39;49m\u001b[38;5;124;43m'\u001b[39;49m\u001b[43m,\u001b[49m\u001b[43m \u001b[49m\u001b[43malpha\u001b[49m\u001b[38;5;241;43m=\u001b[39;49m\u001b[38;5;241;43m0.5\u001b[39;49m\u001b[43m,\u001b[49m\u001b[43m \u001b[49m\u001b[43mlabel\u001b[49m\u001b[38;5;241;43m=\u001b[39;49m\u001b[38;5;124;43mf\u001b[39;49m\u001b[38;5;124;43m'\u001b[39;49m\u001b[38;5;124;43mPrecipitação - \u001b[39;49m\u001b[38;5;132;43;01m{\u001b[39;49;00m\u001b[43mano\u001b[49m\u001b[38;5;132;43;01m}\u001b[39;49;00m\u001b[38;5;124;43m'\u001b[39;49m\u001b[43m)\u001b[49m\n\u001b[0;32m     17\u001b[0m ax2\u001b[38;5;241m.\u001b[39mset_ylabel(\u001b[38;5;124m'\u001b[39m\u001b[38;5;124mAcumulado de Precipitação (mm)\u001b[39m\u001b[38;5;124m'\u001b[39m)\n\u001b[0;32m     18\u001b[0m ax2\u001b[38;5;241m.\u001b[39mlegend()\n",
      "File \u001b[1;32mc:\\Users\\dell\\anaconda3\\envs\\Projetos_Python\\Lib\\site-packages\\matplotlib\\__init__.py:1478\u001b[0m, in \u001b[0;36m_preprocess_data.<locals>.inner\u001b[1;34m(ax, data, *args, **kwargs)\u001b[0m\n\u001b[0;32m   1475\u001b[0m \u001b[38;5;129m@functools\u001b[39m\u001b[38;5;241m.\u001b[39mwraps(func)\n\u001b[0;32m   1476\u001b[0m \u001b[38;5;28;01mdef\u001b[39;00m \u001b[38;5;21minner\u001b[39m(ax, \u001b[38;5;241m*\u001b[39margs, data\u001b[38;5;241m=\u001b[39m\u001b[38;5;28;01mNone\u001b[39;00m, \u001b[38;5;241m*\u001b[39m\u001b[38;5;241m*\u001b[39mkwargs):\n\u001b[0;32m   1477\u001b[0m     \u001b[38;5;28;01mif\u001b[39;00m data \u001b[38;5;129;01mis\u001b[39;00m \u001b[38;5;28;01mNone\u001b[39;00m:\n\u001b[1;32m-> 1478\u001b[0m         \u001b[38;5;28;01mreturn\u001b[39;00m \u001b[43mfunc\u001b[49m\u001b[43m(\u001b[49m\u001b[43max\u001b[49m\u001b[43m,\u001b[49m\u001b[43m \u001b[49m\u001b[38;5;241;43m*\u001b[39;49m\u001b[38;5;28;43mmap\u001b[39;49m\u001b[43m(\u001b[49m\u001b[43msanitize_sequence\u001b[49m\u001b[43m,\u001b[49m\u001b[43m \u001b[49m\u001b[43margs\u001b[49m\u001b[43m)\u001b[49m\u001b[43m,\u001b[49m\u001b[43m \u001b[49m\u001b[38;5;241;43m*\u001b[39;49m\u001b[38;5;241;43m*\u001b[39;49m\u001b[43mkwargs\u001b[49m\u001b[43m)\u001b[49m\n\u001b[0;32m   1480\u001b[0m     bound \u001b[38;5;241m=\u001b[39m new_sig\u001b[38;5;241m.\u001b[39mbind(ax, \u001b[38;5;241m*\u001b[39margs, \u001b[38;5;241m*\u001b[39m\u001b[38;5;241m*\u001b[39mkwargs)\n\u001b[0;32m   1481\u001b[0m     auto_label \u001b[38;5;241m=\u001b[39m (bound\u001b[38;5;241m.\u001b[39marguments\u001b[38;5;241m.\u001b[39mget(label_namer)\n\u001b[0;32m   1482\u001b[0m                   \u001b[38;5;129;01mor\u001b[39;00m bound\u001b[38;5;241m.\u001b[39mkwargs\u001b[38;5;241m.\u001b[39mget(label_namer))\n",
      "File \u001b[1;32mc:\\Users\\dell\\anaconda3\\envs\\Projetos_Python\\Lib\\site-packages\\matplotlib\\axes\\_axes.py:2520\u001b[0m, in \u001b[0;36mAxes.bar\u001b[1;34m(self, x, height, width, bottom, align, **kwargs)\u001b[0m\n\u001b[0;32m   2517\u001b[0m args \u001b[38;5;241m=\u001b[39m \u001b[38;5;28mzip\u001b[39m(left, bottom, width, height, color, edgecolor, linewidth,\n\u001b[0;32m   2518\u001b[0m            hatch, patch_labels)\n\u001b[0;32m   2519\u001b[0m \u001b[38;5;28;01mfor\u001b[39;00m l, b, w, h, c, e, lw, htch, lbl \u001b[38;5;129;01min\u001b[39;00m args:\n\u001b[1;32m-> 2520\u001b[0m     r \u001b[38;5;241m=\u001b[39m \u001b[43mmpatches\u001b[49m\u001b[38;5;241;43m.\u001b[39;49m\u001b[43mRectangle\u001b[49m\u001b[43m(\u001b[49m\n\u001b[0;32m   2521\u001b[0m \u001b[43m        \u001b[49m\u001b[43mxy\u001b[49m\u001b[38;5;241;43m=\u001b[39;49m\u001b[43m(\u001b[49m\u001b[43ml\u001b[49m\u001b[43m,\u001b[49m\u001b[43m \u001b[49m\u001b[43mb\u001b[49m\u001b[43m)\u001b[49m\u001b[43m,\u001b[49m\u001b[43m \u001b[49m\u001b[43mwidth\u001b[49m\u001b[38;5;241;43m=\u001b[39;49m\u001b[43mw\u001b[49m\u001b[43m,\u001b[49m\u001b[43m \u001b[49m\u001b[43mheight\u001b[49m\u001b[38;5;241;43m=\u001b[39;49m\u001b[43mh\u001b[49m\u001b[43m,\u001b[49m\n\u001b[0;32m   2522\u001b[0m \u001b[43m        \u001b[49m\u001b[43mfacecolor\u001b[49m\u001b[38;5;241;43m=\u001b[39;49m\u001b[43mc\u001b[49m\u001b[43m,\u001b[49m\n\u001b[0;32m   2523\u001b[0m \u001b[43m        \u001b[49m\u001b[43medgecolor\u001b[49m\u001b[38;5;241;43m=\u001b[39;49m\u001b[43me\u001b[49m\u001b[43m,\u001b[49m\n\u001b[0;32m   2524\u001b[0m \u001b[43m        \u001b[49m\u001b[43mlinewidth\u001b[49m\u001b[38;5;241;43m=\u001b[39;49m\u001b[43mlw\u001b[49m\u001b[43m,\u001b[49m\n\u001b[0;32m   2525\u001b[0m \u001b[43m        \u001b[49m\u001b[43mlabel\u001b[49m\u001b[38;5;241;43m=\u001b[39;49m\u001b[43mlbl\u001b[49m\u001b[43m,\u001b[49m\n\u001b[0;32m   2526\u001b[0m \u001b[43m        \u001b[49m\u001b[43mhatch\u001b[49m\u001b[38;5;241;43m=\u001b[39;49m\u001b[43mhtch\u001b[49m\u001b[43m,\u001b[49m\n\u001b[0;32m   2527\u001b[0m \u001b[43m        \u001b[49m\u001b[43m)\u001b[49m\n\u001b[0;32m   2528\u001b[0m     r\u001b[38;5;241m.\u001b[39m_internal_update(kwargs)\n\u001b[0;32m   2529\u001b[0m     r\u001b[38;5;241m.\u001b[39mget_path()\u001b[38;5;241m.\u001b[39m_interpolation_steps \u001b[38;5;241m=\u001b[39m \u001b[38;5;241m100\u001b[39m\n",
      "File \u001b[1;32mc:\\Users\\dell\\anaconda3\\envs\\Projetos_Python\\Lib\\site-packages\\matplotlib\\patches.py:718\u001b[0m, in \u001b[0;36mRectangle.__init__\u001b[1;34m(self, xy, width, height, angle, rotation_point, **kwargs)\u001b[0m\n\u001b[0;32m    694\u001b[0m \u001b[38;5;129m@_docstring\u001b[39m\u001b[38;5;241m.\u001b[39mdedent_interpd\n\u001b[0;32m    695\u001b[0m \u001b[38;5;28;01mdef\u001b[39;00m \u001b[38;5;21m__init__\u001b[39m(\u001b[38;5;28mself\u001b[39m, xy, width, height, \u001b[38;5;241m*\u001b[39m,\n\u001b[0;32m    696\u001b[0m              angle\u001b[38;5;241m=\u001b[39m\u001b[38;5;241m0.0\u001b[39m, rotation_point\u001b[38;5;241m=\u001b[39m\u001b[38;5;124m'\u001b[39m\u001b[38;5;124mxy\u001b[39m\u001b[38;5;124m'\u001b[39m, \u001b[38;5;241m*\u001b[39m\u001b[38;5;241m*\u001b[39mkwargs):\n\u001b[0;32m    697\u001b[0m \u001b[38;5;250m    \u001b[39m\u001b[38;5;124;03m\"\"\"\u001b[39;00m\n\u001b[0;32m    698\u001b[0m \u001b[38;5;124;03m    Parameters\u001b[39;00m\n\u001b[0;32m    699\u001b[0m \u001b[38;5;124;03m    ----------\u001b[39;00m\n\u001b[1;32m   (...)\u001b[0m\n\u001b[0;32m    716\u001b[0m \u001b[38;5;124;03m        %(Patch:kwdoc)s\u001b[39;00m\n\u001b[0;32m    717\u001b[0m \u001b[38;5;124;03m    \"\"\"\u001b[39;00m\n\u001b[1;32m--> 718\u001b[0m     \u001b[38;5;28;43msuper\u001b[39;49m\u001b[43m(\u001b[49m\u001b[43m)\u001b[49m\u001b[38;5;241;43m.\u001b[39;49m\u001b[38;5;21;43m__init__\u001b[39;49m\u001b[43m(\u001b[49m\u001b[38;5;241;43m*\u001b[39;49m\u001b[38;5;241;43m*\u001b[39;49m\u001b[43mkwargs\u001b[49m\u001b[43m)\u001b[49m\n\u001b[0;32m    719\u001b[0m     \u001b[38;5;28mself\u001b[39m\u001b[38;5;241m.\u001b[39m_x0 \u001b[38;5;241m=\u001b[39m xy[\u001b[38;5;241m0\u001b[39m]\n\u001b[0;32m    720\u001b[0m     \u001b[38;5;28mself\u001b[39m\u001b[38;5;241m.\u001b[39m_y0 \u001b[38;5;241m=\u001b[39m xy[\u001b[38;5;241m1\u001b[39m]\n",
      "File \u001b[1;32mc:\\Users\\dell\\anaconda3\\envs\\Projetos_Python\\Lib\\site-packages\\matplotlib\\patches.py:91\u001b[0m, in \u001b[0;36mPatch.__init__\u001b[1;34m(self, edgecolor, facecolor, color, linewidth, linestyle, antialiased, hatch, fill, capstyle, joinstyle, **kwargs)\u001b[0m\n\u001b[0;32m     88\u001b[0m \u001b[38;5;28mself\u001b[39m\u001b[38;5;241m.\u001b[39m_dash_pattern \u001b[38;5;241m=\u001b[39m (\u001b[38;5;241m0\u001b[39m, \u001b[38;5;28;01mNone\u001b[39;00m)  \u001b[38;5;66;03m# offset, dash (scaled by linewidth)\u001b[39;00m\n\u001b[0;32m     90\u001b[0m \u001b[38;5;28mself\u001b[39m\u001b[38;5;241m.\u001b[39mset_linestyle(linestyle)\n\u001b[1;32m---> 91\u001b[0m \u001b[38;5;28;43mself\u001b[39;49m\u001b[38;5;241;43m.\u001b[39;49m\u001b[43mset_linewidth\u001b[49m\u001b[43m(\u001b[49m\u001b[43mlinewidth\u001b[49m\u001b[43m)\u001b[49m\n\u001b[0;32m     92\u001b[0m \u001b[38;5;28mself\u001b[39m\u001b[38;5;241m.\u001b[39mset_antialiased(antialiased)\n\u001b[0;32m     93\u001b[0m \u001b[38;5;28mself\u001b[39m\u001b[38;5;241m.\u001b[39mset_hatch(hatch)\n",
      "File \u001b[1;32mc:\\Users\\dell\\anaconda3\\envs\\Projetos_Python\\Lib\\site-packages\\matplotlib\\patches.py:391\u001b[0m, in \u001b[0;36mPatch.set_linewidth\u001b[1;34m(self, w)\u001b[0m\n\u001b[0;32m    389\u001b[0m \u001b[38;5;28;01mif\u001b[39;00m w \u001b[38;5;129;01mis\u001b[39;00m \u001b[38;5;28;01mNone\u001b[39;00m:\n\u001b[0;32m    390\u001b[0m     w \u001b[38;5;241m=\u001b[39m mpl\u001b[38;5;241m.\u001b[39mrcParams[\u001b[38;5;124m'\u001b[39m\u001b[38;5;124mpatch.linewidth\u001b[39m\u001b[38;5;124m'\u001b[39m]\n\u001b[1;32m--> 391\u001b[0m \u001b[38;5;28mself\u001b[39m\u001b[38;5;241m.\u001b[39m_linewidth \u001b[38;5;241m=\u001b[39m \u001b[38;5;28mfloat\u001b[39m(w)\n\u001b[0;32m    392\u001b[0m \u001b[38;5;28mself\u001b[39m\u001b[38;5;241m.\u001b[39m_dash_pattern \u001b[38;5;241m=\u001b[39m mlines\u001b[38;5;241m.\u001b[39m_scale_dashes(\n\u001b[0;32m    393\u001b[0m     \u001b[38;5;241m*\u001b[39m\u001b[38;5;28mself\u001b[39m\u001b[38;5;241m.\u001b[39m_unscaled_dash_pattern, w)\n\u001b[0;32m    394\u001b[0m \u001b[38;5;28mself\u001b[39m\u001b[38;5;241m.\u001b[39mstale \u001b[38;5;241m=\u001b[39m \u001b[38;5;28;01mTrue\u001b[39;00m\n",
      "\u001b[1;31mTypeError\u001b[0m: float() argument must be a string or a real number, not 'NoneType'"
     ]
    },
    {
     "data": {
      "application/vnd.jupyter.widget-view+json": {
       "model_id": "0ee0771c842b4654bd3e84d545618c27",
       "version_major": 2,
       "version_minor": 0
      },
      "image/png": "[encoded data removed]",
      "text/html": [
       "\n",
       "            <div style=\"display: inline-block;\">\n",
       "                <div class=\"jupyter-widgets widget-label\" style=\"text-align: center;\">\n",
       "                    Figure\n",
       "                </div>\n",
       "                <img src='data:image/png;base64,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' width=1000.0/>\n",
       "            </div>\n",
       "        "
      ],
      "text/plain": [
       "Canvas(toolbar=Toolbar(toolitems=[('Home', 'Reset original view', 'home', 'home'), ('Back', 'Back to previous …"
      ]
     },
     "metadata": {},
     "output_type": "display_data"
    }
   ],
   "source": [
    "# Criando os subplots\n",
    "fig, axes = plt.subplots(2, 1, figsize=(10, 8), sharex=True)\n",
    "\n",
    "# Plotando as séries temporais de temperaturas médias e acumulado de precipitações para cada ano\n",
    "for i, (ano, ax) in enumerate(zip(temperaturas_medias_por_ano.index.year.unique(), axes)):\n",
    "    # Temperaturas médias\n",
    "    temperaturas_medias_ano = temperaturas_medias_por_ano.loc[temperaturas_medias_por_ano.index.year == ano]\n",
    "    ax.plot(temperaturas_medias_ano.index.month, temperaturas_medias_ano, label=f'Temperaturas Médias - {ano}')\n",
    "    ax.set_ylabel('Temperatura Média (°C)')\n",
    "    ax.legend()\n",
    "\n",
    "    # Acumulado de precipitações\n",
    "    precipitacoes_ano = acumulado_precipitacoes_por_ano.loc[acumulado_precipitacoes_por_ano.index.year == ano]\n",
    "    precipitacoes_ano = precipitacoes_ano.dropna()  # Removendo valores nulos\n",
    "    ax2 = ax.twinx()\n",
    "    ax2.bar(precipitacoes_ano.index.month, precipitacoes_ano, color='blue', alpha=0.5, label=f'Precipitação - {ano}')\n",
    "    ax2.set_ylabel('Acumulado de Precipitação (mm)')\n",
    "    ax2.legend()\n",
    "\n",
    "plt.xlabel('Mês')\n",
    "plt.title('Evolução das Temperaturas Médias e do Acumulado de Precipitações')\n",
    "plt.tight_layout()\n",
    "plt.show()\n"
   ]
  },
  {
   "cell_type": "markdown",
   "metadata": {},
   "source": [
    "2. Acumulado de precipitações de Junho nos três anos."
   ]
  },
  {
   "cell_type": "code",
   "execution_count": null,
   "metadata": {},
   "outputs": [],
   "source": []
  },
  {
   "cell_type": "markdown",
   "metadata": {},
   "source": [
    "3. Temperatura media de cada um dos dias de Março nos três anos."
   ]
  },
  {
   "cell_type": "code",
   "execution_count": null,
   "metadata": {},
   "outputs": [],
   "source": []
  },
  {
   "cell_type": "markdown",
   "metadata": {},
   "source": [
    "4. Temperatura máxima e mínima de cada uma das estações nos tres anos. Sendo:\n",
    "   - Verão (Janeiro, Fevereiro e Março)\n",
    "   - Outono (Abril, Maio e Junho) \n",
    "   - Inverno (Julho, Agosto e Setembro)\n",
    "   - Primavera (Outubro, Novembro e Dezembro)."
   ]
  },
  {
   "cell_type": "code",
   "execution_count": null,
   "metadata": {},
   "outputs": [],
   "source": []
  },
  {
   "cell_type": "markdown",
   "metadata": {},
   "source": [
    "5. Comportamente de temperatura media do dia 28 de Setembro em cada um dos intervalos do dia dos três anos. Sendo:\n",
    "   - Madrugada (00:00 a 06:00), \n",
    "   - Manha (06:00 a 12:00)\n",
    "   - Tarde (12:00 a 18:00)\n",
    "   - Noite (18:00 a 00:00)"
   ]
  },
  {
   "cell_type": "code",
   "execution_count": null,
   "metadata": {},
   "outputs": [],
   "source": []
  }
 ],
 "metadata": {
  "kernelspec": {
   "display_name": "residencia",
   "language": "python",
   "name": "python3"
  },
  "language_info": {
   "codemirror_mode": {
    "name": "ipython",
    "version": 3
   },
   "file_extension": ".py",
   "mimetype": "text/x-python",
   "name": "python",
   "nbconvert_exporter": "python",
   "pygments_lexer": "ipython3",
   "version": "3.11.7"
  }
 },
 "nbformat": 4,
 "nbformat_minor": 2
}
