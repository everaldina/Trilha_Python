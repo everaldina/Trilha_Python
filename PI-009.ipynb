{
 "cells": [
  {
   "cell_type": "markdown",
   "metadata": {},
   "source": [
    "# INSTRUÇÃO PRÁTICA 009\n",
    "## Revisao e consolidaçao do conteúdo de __Pandas__ avançado.\n",
    "Para a pratica serão utilizados dados de estações metereologicas de Salvador dos anos de 2003, 2013 e 2023, diponiveis em: [Instituto Nacional de Meteorologia](https://portal.inmet.gov.br/dadoshistoricos). \n",
    "\n",
    "Os dados foram limpos e unidos em um unico DataFrama, com MultiIndex para colunas e indexadas por um DateTimeIndex."
   ]
  },
  {
   "cell_type": "markdown",
   "metadata": {},
   "source": [
    "### Carregando os dados"
   ]
  },
  {
   "cell_type": "code",
   "execution_count": 422,
   "metadata": {},
   "outputs": [
    {
     "name": "stdout",
     "output_type": "stream",
     "text": [
      "\n"
     ]
    }
   ],
   "source": [
    "import pandas as pd\n",
    "\n",
    "estacao_ssa_2003 = pd.read_csv('./datasets/estacao_Salvador_2003.CSV', header=8, sep=';', encoding='latin-1')\n",
    "estacao_ssa_2013 = pd.read_csv('./datasets/estacao_Salvador_2013.CSV', header=8, sep=',', encoding='utf-8')\n",
    "estacao_ssa_2023 = pd.read_csv('./datasets/estacao_Salvador_2023.CSV', header=8, sep=';', encoding='latin-1')\n",
    "print()"
   ]
  },
  {
   "cell_type": "markdown",
   "metadata": {},
   "source": [
    "### Tratamento de dados"
   ]
  },
  {
   "cell_type": "markdown",
   "metadata": {},
   "source": [
    "1. Removendo coluna extra unnamed"
   ]
  },
  {
   "cell_type": "code",
   "execution_count": 423,
   "metadata": {},
   "outputs": [],
   "source": [
    "estacao_ssa_2003.drop(columns=['Unnamed: 19'], inplace=True)\n",
    "estacao_ssa_2023.drop(columns=['Unnamed: 19'], inplace=True)"
   ]
  },
  {
   "cell_type": "markdown",
   "metadata": {},
   "source": [
    "2. Unificando nomes de colunas"
   ]
  },
  {
   "cell_type": "code",
   "execution_count": 424,
   "metadata": {},
   "outputs": [],
   "source": [
    "# pegando lista de nomes de colunas de cada dataframe\n",
    "colunas_2003 = estacao_ssa_2003.columns.values.tolist() \n",
    "colunas_2013 = estacao_ssa_2013.columns.values.tolist()\n",
    "colunas_2023 = estacao_ssa_2023.columns.values.tolist()\n",
    "\n",
    "# renomeando colunas diferentes para o nome da coluna do dataframe de 2003\n",
    "for c_2003, c_2013, c_2023 in zip(colunas_2003, colunas_2013, colunas_2023):\n",
    "    if c_2003 != c_2013 or c_2003 != c_2023:\n",
    "        estacao_ssa_2013.rename(columns={c_2013: c_2003}, inplace=True)\n",
    "        estacao_ssa_2023.rename(columns={c_2023: c_2003}, inplace=True)\n",
    "        \n",
    "\n",
    "# concatenando os dataframes\n",
    "estacao_ssa = pd.concat([estacao_ssa_2003, estacao_ssa_2013, estacao_ssa_2023], ignore_index=True)"
   ]
  },
  {
   "cell_type": "markdown",
   "metadata": {},
   "source": [
    "3. Criando DateTimeIndex"
   ]
  },
  {
   "cell_type": "code",
   "execution_count": 425,
   "metadata": {},
   "outputs": [],
   "source": [
    "# tratando coluna hora\n",
    "mask_utc = estacao_ssa['HORA (UTC)'].str.contains('UTC')  # mascara para pegar apenas os dados com UTC\n",
    "\n",
    "# trantando dados utc\n",
    "dados_utc = estacao_ssa.loc[mask_utc, 'HORA (UTC)']\n",
    "dados_utc = dados_utc.replace(' UTC', '', regex=True) # removendo UTC\n",
    "dados_utc = dados_utc.str[0:2] + ':00' # pegando apenas a hora\n",
    "\n",
    "# colocando os dados tratados no dataframe\n",
    "estacao_ssa.loc[mask_utc, 'HORA (UTC)'] = dados_utc.values"
   ]
  },
  {
   "cell_type": "code",
   "execution_count": 426,
   "metadata": {},
   "outputs": [],
   "source": [
    "# tratando coluna data\n",
    "estacao_ssa['DATA (YYYY-MM-DD)'] = estacao_ssa['DATA (YYYY-MM-DD)'].str.replace('/', '-')"
   ]
  },
  {
   "cell_type": "code",
   "execution_count": 427,
   "metadata": {},
   "outputs": [],
   "source": [
    "# criando DateTimeIndex a partir da coluna DATA (YYYY-MM-DD) e HORA (UTC)\n",
    "estacao_ssa_index = pd.to_datetime(estacao_ssa['DATA (YYYY-MM-DD)'] + ' ' + estacao_ssa['HORA (UTC)'])\n",
    "\n",
    "# removendo as colunas originais DATA (YYYY-MM-DD) e HORA (UTC)\n",
    "estacao_ssa.drop(['DATA (YYYY-MM-DD)', 'HORA (UTC)'], axis=1, inplace=True)\n",
    "\n",
    "# Define a coluna DATA HORA como índice\n",
    "estacao_ssa.set_index(estacao_ssa_index, inplace=True)"
   ]
  },
  {
   "cell_type": "markdown",
   "metadata": {},
   "source": [
    "4. Criando MultiIndex para colunas"
   ]
  },
  {
   "cell_type": "code",
   "execution_count": 428,
   "metadata": {},
   "outputs": [],
   "source": [
    "# agrupando parametros de medição\n",
    "nivel_1 = ['precipitacao'] + ['pressao']*3 + ['radiacao'] + ['temperatura']*6 + ['umidade']*3 + ['velocidade do vento']*3\n",
    "nivel_2 = colunas_2003[2:]\n",
    "\n",
    "# definindo multiindex para as colunas\n",
    "index_col = pd.MultiIndex.from_arrays([nivel_1, nivel_2], names=['medicao', 'tipo'])\n",
    "\n",
    "estacao_ssa.columns = index_col"
   ]
  },
  {
   "cell_type": "markdown",
   "metadata": {},
   "source": [
    "5. Removendo colunas desnecessárias"
   ]
  },
  {
   "cell_type": "code",
   "execution_count": 429,
   "metadata": {},
   "outputs": [],
   "source": [
    "estacao_ssa.drop(['pressao', 'radiacao', 'umidade', 'velocidade do vento'], axis=1, inplace=True)"
   ]
  },
  {
   "cell_type": "markdown",
   "metadata": {},
   "source": [
    "6. Transformando colunas de string para float"
   ]
  },
  {
   "cell_type": "code",
   "execution_count": 430,
   "metadata": {},
   "outputs": [],
   "source": [
    "# substiduindo valores , por .\n",
    "estacao_ssa.replace(',', '.', regex=True, inplace=True)\n",
    "\n",
    "# convertendo para float\n",
    "estacao_ssa = estacao_ssa.astype('float64')"
   ]
  },
  {
   "cell_type": "markdown",
   "metadata": {},
   "source": [
    "7. Tratando valores nulos"
   ]
  },
  {
   "cell_type": "code",
   "execution_count": 431,
   "metadata": {},
   "outputs": [],
   "source": [
    "# tiranddo todos os possiveis valores nulos\n",
    "estacao_ssa.replace(['-9999', -9999, -9999.0, '-9999.0'], value= None, inplace=True)\n",
    "\n",
    "# preenchendo valores nulos\n",
    "estacao_ssa.bfill(inplace=True)"
   ]
  },
  {
   "cell_type": "markdown",
   "metadata": {},
   "source": [
    "### DataFrame final"
   ]
  },
  {
   "cell_type": "code",
   "execution_count": 432,
   "metadata": {},
   "outputs": [
    {
     "data": {
      "text/html": [
       "<div>\n",
       "<style scoped>\n",
       "    .dataframe tbody tr th:only-of-type {\n",
       "        vertical-align: middle;\n",
       "    }\n",
       "\n",
       "    .dataframe tbody tr th {\n",
       "        vertical-align: top;\n",
       "    }\n",
       "\n",
       "    .dataframe thead tr th {\n",
       "        text-align: left;\n",
       "    }\n",
       "</style>\n",
       "<table border=\"1\" class=\"dataframe\">\n",
       "  <thead>\n",
       "    <tr>\n",
       "      <th>medicao</th>\n",
       "      <th>precipitacao</th>\n",
       "      <th colspan=\"6\" halign=\"left\">temperatura</th>\n",
       "    </tr>\n",
       "    <tr>\n",
       "      <th>tipo</th>\n",
       "      <th>PRECIPITAÇÃO TOTAL, HORÁRIO (mm)</th>\n",
       "      <th>TEMPERATURA DO AR - BULBO SECO, HORARIA (°C)</th>\n",
       "      <th>TEMPERATURA DO PONTO DE ORVALHO (°C)</th>\n",
       "      <th>TEMPERATURA MÁXIMA NA HORA ANT. (AUT) (°C)</th>\n",
       "      <th>TEMPERATURA MÍNIMA NA HORA ANT. (AUT) (°C)</th>\n",
       "      <th>TEMPERATURA ORVALHO MAX. NA HORA ANT. (AUT) (°C)</th>\n",
       "      <th>TEMPERATURA ORVALHO MIN. NA HORA ANT. (AUT) (°C)</th>\n",
       "    </tr>\n",
       "  </thead>\n",
       "  <tbody>\n",
       "    <tr>\n",
       "      <th>2003-01-01 00:00:00</th>\n",
       "      <td>0.0</td>\n",
       "      <td>26.4</td>\n",
       "      <td>22.0</td>\n",
       "      <td>27.2</td>\n",
       "      <td>26.3</td>\n",
       "      <td>22.6</td>\n",
       "      <td>21.0</td>\n",
       "    </tr>\n",
       "    <tr>\n",
       "      <th>2003-01-01 01:00:00</th>\n",
       "      <td>0.0</td>\n",
       "      <td>26.4</td>\n",
       "      <td>22.0</td>\n",
       "      <td>27.2</td>\n",
       "      <td>26.3</td>\n",
       "      <td>22.6</td>\n",
       "      <td>21.0</td>\n",
       "    </tr>\n",
       "    <tr>\n",
       "      <th>2003-01-01 02:00:00</th>\n",
       "      <td>0.0</td>\n",
       "      <td>26.4</td>\n",
       "      <td>22.0</td>\n",
       "      <td>27.2</td>\n",
       "      <td>26.3</td>\n",
       "      <td>22.6</td>\n",
       "      <td>21.0</td>\n",
       "    </tr>\n",
       "    <tr>\n",
       "      <th>2003-01-01 03:00:00</th>\n",
       "      <td>0.0</td>\n",
       "      <td>26.4</td>\n",
       "      <td>22.0</td>\n",
       "      <td>27.2</td>\n",
       "      <td>26.3</td>\n",
       "      <td>22.6</td>\n",
       "      <td>21.0</td>\n",
       "    </tr>\n",
       "    <tr>\n",
       "      <th>2003-01-01 04:00:00</th>\n",
       "      <td>0.0</td>\n",
       "      <td>26.4</td>\n",
       "      <td>22.0</td>\n",
       "      <td>27.2</td>\n",
       "      <td>26.3</td>\n",
       "      <td>22.6</td>\n",
       "      <td>21.0</td>\n",
       "    </tr>\n",
       "  </tbody>\n",
       "</table>\n",
       "</div>"
      ],
      "text/plain": [
       "medicao                                 precipitacao   \n",
       "tipo                PRECIPITAÇÃO TOTAL, HORÁRIO (mm)   \n",
       "2003-01-01 00:00:00                              0.0  \\\n",
       "2003-01-01 01:00:00                              0.0   \n",
       "2003-01-01 02:00:00                              0.0   \n",
       "2003-01-01 03:00:00                              0.0   \n",
       "2003-01-01 04:00:00                              0.0   \n",
       "\n",
       "medicao                                              temperatura   \n",
       "tipo                TEMPERATURA DO AR - BULBO SECO, HORARIA (°C)   \n",
       "2003-01-01 00:00:00                                         26.4  \\\n",
       "2003-01-01 01:00:00                                         26.4   \n",
       "2003-01-01 02:00:00                                         26.4   \n",
       "2003-01-01 03:00:00                                         26.4   \n",
       "2003-01-01 04:00:00                                         26.4   \n",
       "\n",
       "medicao                                                    \n",
       "tipo                TEMPERATURA DO PONTO DE ORVALHO (°C)   \n",
       "2003-01-01 00:00:00                                 22.0  \\\n",
       "2003-01-01 01:00:00                                 22.0   \n",
       "2003-01-01 02:00:00                                 22.0   \n",
       "2003-01-01 03:00:00                                 22.0   \n",
       "2003-01-01 04:00:00                                 22.0   \n",
       "\n",
       "medicao                                                          \n",
       "tipo                TEMPERATURA MÁXIMA NA HORA ANT. (AUT) (°C)   \n",
       "2003-01-01 00:00:00                                       27.2  \\\n",
       "2003-01-01 01:00:00                                       27.2   \n",
       "2003-01-01 02:00:00                                       27.2   \n",
       "2003-01-01 03:00:00                                       27.2   \n",
       "2003-01-01 04:00:00                                       27.2   \n",
       "\n",
       "medicao                                                          \n",
       "tipo                TEMPERATURA MÍNIMA NA HORA ANT. (AUT) (°C)   \n",
       "2003-01-01 00:00:00                                       26.3  \\\n",
       "2003-01-01 01:00:00                                       26.3   \n",
       "2003-01-01 02:00:00                                       26.3   \n",
       "2003-01-01 03:00:00                                       26.3   \n",
       "2003-01-01 04:00:00                                       26.3   \n",
       "\n",
       "medicao                                                                \n",
       "tipo                TEMPERATURA ORVALHO MAX. NA HORA ANT. (AUT) (°C)   \n",
       "2003-01-01 00:00:00                                             22.6  \\\n",
       "2003-01-01 01:00:00                                             22.6   \n",
       "2003-01-01 02:00:00                                             22.6   \n",
       "2003-01-01 03:00:00                                             22.6   \n",
       "2003-01-01 04:00:00                                             22.6   \n",
       "\n",
       "medicao                                                               \n",
       "tipo                TEMPERATURA ORVALHO MIN. NA HORA ANT. (AUT) (°C)  \n",
       "2003-01-01 00:00:00                                             21.0  \n",
       "2003-01-01 01:00:00                                             21.0  \n",
       "2003-01-01 02:00:00                                             21.0  \n",
       "2003-01-01 03:00:00                                             21.0  \n",
       "2003-01-01 04:00:00                                             21.0  "
      ]
     },
     "execution_count": 432,
     "metadata": {},
     "output_type": "execute_result"
    }
   ],
   "source": [
    "estacao_ssa.head()"
   ]
  },
  {
   "cell_type": "code",
   "execution_count": 433,
   "metadata": {},
   "outputs": [
    {
     "name": "stdout",
     "output_type": "stream",
     "text": [
      "<class 'pandas.core.frame.DataFrame'>\n",
      "DatetimeIndex: 26280 entries, 2003-01-01 00:00:00 to 2023-12-31 23:00:00\n",
      "Data columns (total 7 columns):\n",
      " #   Column                                                           Non-Null Count  Dtype  \n",
      "---  ------                                                           --------------  -----  \n",
      " 0   (precipitacao, PRECIPITAÇÃO TOTAL, HORÁRIO (mm))                 26280 non-null  float64\n",
      " 1   (temperatura, TEMPERATURA DO AR - BULBO SECO, HORARIA (°C))      26280 non-null  float64\n",
      " 2   (temperatura, TEMPERATURA DO PONTO DE ORVALHO (°C))              26280 non-null  float64\n",
      " 3   (temperatura, TEMPERATURA MÁXIMA NA HORA ANT. (AUT) (°C))        26280 non-null  float64\n",
      " 4   (temperatura, TEMPERATURA MÍNIMA NA HORA ANT. (AUT) (°C))        26280 non-null  float64\n",
      " 5   (temperatura, TEMPERATURA ORVALHO MAX. NA HORA ANT. (AUT) (°C))  26280 non-null  float64\n",
      " 6   (temperatura, TEMPERATURA ORVALHO MIN. NA HORA ANT. (AUT) (°C))  26280 non-null  float64\n",
      "dtypes: float64(7)\n",
      "memory usage: 1.6 MB\n"
     ]
    }
   ],
   "source": [
    "estacao_ssa.info()"
   ]
  },
  {
   "cell_type": "code",
   "execution_count": 434,
   "metadata": {},
   "outputs": [
    {
     "data": {
      "text/html": [
       "<div>\n",
       "<style scoped>\n",
       "    .dataframe tbody tr th:only-of-type {\n",
       "        vertical-align: middle;\n",
       "    }\n",
       "\n",
       "    .dataframe tbody tr th {\n",
       "        vertical-align: top;\n",
       "    }\n",
       "\n",
       "    .dataframe thead tr th {\n",
       "        text-align: left;\n",
       "    }\n",
       "</style>\n",
       "<table border=\"1\" class=\"dataframe\">\n",
       "  <thead>\n",
       "    <tr>\n",
       "      <th>medicao</th>\n",
       "      <th>precipitacao</th>\n",
       "      <th colspan=\"6\" halign=\"left\">temperatura</th>\n",
       "    </tr>\n",
       "    <tr>\n",
       "      <th>tipo</th>\n",
       "      <th>PRECIPITAÇÃO TOTAL, HORÁRIO (mm)</th>\n",
       "      <th>TEMPERATURA DO AR - BULBO SECO, HORARIA (°C)</th>\n",
       "      <th>TEMPERATURA DO PONTO DE ORVALHO (°C)</th>\n",
       "      <th>TEMPERATURA MÁXIMA NA HORA ANT. (AUT) (°C)</th>\n",
       "      <th>TEMPERATURA MÍNIMA NA HORA ANT. (AUT) (°C)</th>\n",
       "      <th>TEMPERATURA ORVALHO MAX. NA HORA ANT. (AUT) (°C)</th>\n",
       "      <th>TEMPERATURA ORVALHO MIN. NA HORA ANT. (AUT) (°C)</th>\n",
       "    </tr>\n",
       "  </thead>\n",
       "  <tbody>\n",
       "    <tr>\n",
       "      <th>count</th>\n",
       "      <td>26280.000000</td>\n",
       "      <td>26280.000000</td>\n",
       "      <td>26280.000000</td>\n",
       "      <td>26280.000000</td>\n",
       "      <td>26280.000000</td>\n",
       "      <td>26280.000000</td>\n",
       "      <td>26280.000000</td>\n",
       "    </tr>\n",
       "    <tr>\n",
       "      <th>mean</th>\n",
       "      <td>0.202785</td>\n",
       "      <td>25.867500</td>\n",
       "      <td>21.679768</td>\n",
       "      <td>26.370327</td>\n",
       "      <td>25.393565</td>\n",
       "      <td>22.143900</td>\n",
       "      <td>21.228242</td>\n",
       "    </tr>\n",
       "    <tr>\n",
       "      <th>std</th>\n",
       "      <td>1.333296</td>\n",
       "      <td>2.377785</td>\n",
       "      <td>1.382037</td>\n",
       "      <td>2.527563</td>\n",
       "      <td>2.185660</td>\n",
       "      <td>1.449447</td>\n",
       "      <td>1.421677</td>\n",
       "    </tr>\n",
       "    <tr>\n",
       "      <th>min</th>\n",
       "      <td>0.000000</td>\n",
       "      <td>19.500000</td>\n",
       "      <td>14.700000</td>\n",
       "      <td>20.100000</td>\n",
       "      <td>19.300000</td>\n",
       "      <td>15.300000</td>\n",
       "      <td>-1.800000</td>\n",
       "    </tr>\n",
       "    <tr>\n",
       "      <th>25%</th>\n",
       "      <td>0.000000</td>\n",
       "      <td>24.000000</td>\n",
       "      <td>20.700000</td>\n",
       "      <td>24.400000</td>\n",
       "      <td>23.700000</td>\n",
       "      <td>21.200000</td>\n",
       "      <td>20.300000</td>\n",
       "    </tr>\n",
       "    <tr>\n",
       "      <th>50%</th>\n",
       "      <td>0.000000</td>\n",
       "      <td>25.600000</td>\n",
       "      <td>21.900000</td>\n",
       "      <td>26.000000</td>\n",
       "      <td>25.200000</td>\n",
       "      <td>22.300000</td>\n",
       "      <td>21.500000</td>\n",
       "    </tr>\n",
       "    <tr>\n",
       "      <th>75%</th>\n",
       "      <td>0.000000</td>\n",
       "      <td>27.300000</td>\n",
       "      <td>22.600000</td>\n",
       "      <td>28.000000</td>\n",
       "      <td>26.700000</td>\n",
       "      <td>23.200000</td>\n",
       "      <td>22.300000</td>\n",
       "    </tr>\n",
       "    <tr>\n",
       "      <th>max</th>\n",
       "      <td>52.000000</td>\n",
       "      <td>39.700000</td>\n",
       "      <td>26.600000</td>\n",
       "      <td>43.300000</td>\n",
       "      <td>33.000000</td>\n",
       "      <td>27.400000</td>\n",
       "      <td>25.100000</td>\n",
       "    </tr>\n",
       "  </tbody>\n",
       "</table>\n",
       "</div>"
      ],
      "text/plain": [
       "medicao                     precipitacao   \n",
       "tipo    PRECIPITAÇÃO TOTAL, HORÁRIO (mm)   \n",
       "count                       26280.000000  \\\n",
       "mean                            0.202785   \n",
       "std                             1.333296   \n",
       "min                             0.000000   \n",
       "25%                             0.000000   \n",
       "50%                             0.000000   \n",
       "75%                             0.000000   \n",
       "max                            52.000000   \n",
       "\n",
       "medicao                                  temperatura   \n",
       "tipo    TEMPERATURA DO AR - BULBO SECO, HORARIA (°C)   \n",
       "count                                   26280.000000  \\\n",
       "mean                                       25.867500   \n",
       "std                                         2.377785   \n",
       "min                                        19.500000   \n",
       "25%                                        24.000000   \n",
       "50%                                        25.600000   \n",
       "75%                                        27.300000   \n",
       "max                                        39.700000   \n",
       "\n",
       "medicao                                        \n",
       "tipo    TEMPERATURA DO PONTO DE ORVALHO (°C)   \n",
       "count                           26280.000000  \\\n",
       "mean                               21.679768   \n",
       "std                                 1.382037   \n",
       "min                                14.700000   \n",
       "25%                                20.700000   \n",
       "50%                                21.900000   \n",
       "75%                                22.600000   \n",
       "max                                26.600000   \n",
       "\n",
       "medicao                                              \n",
       "tipo    TEMPERATURA MÁXIMA NA HORA ANT. (AUT) (°C)   \n",
       "count                                 26280.000000  \\\n",
       "mean                                     26.370327   \n",
       "std                                       2.527563   \n",
       "min                                      20.100000   \n",
       "25%                                      24.400000   \n",
       "50%                                      26.000000   \n",
       "75%                                      28.000000   \n",
       "max                                      43.300000   \n",
       "\n",
       "medicao                                              \n",
       "tipo    TEMPERATURA MÍNIMA NA HORA ANT. (AUT) (°C)   \n",
       "count                                 26280.000000  \\\n",
       "mean                                     25.393565   \n",
       "std                                       2.185660   \n",
       "min                                      19.300000   \n",
       "25%                                      23.700000   \n",
       "50%                                      25.200000   \n",
       "75%                                      26.700000   \n",
       "max                                      33.000000   \n",
       "\n",
       "medicao                                                    \n",
       "tipo    TEMPERATURA ORVALHO MAX. NA HORA ANT. (AUT) (°C)   \n",
       "count                                       26280.000000  \\\n",
       "mean                                           22.143900   \n",
       "std                                             1.449447   \n",
       "min                                            15.300000   \n",
       "25%                                            21.200000   \n",
       "50%                                            22.300000   \n",
       "75%                                            23.200000   \n",
       "max                                            27.400000   \n",
       "\n",
       "medicao                                                   \n",
       "tipo    TEMPERATURA ORVALHO MIN. NA HORA ANT. (AUT) (°C)  \n",
       "count                                       26280.000000  \n",
       "mean                                           21.228242  \n",
       "std                                             1.421677  \n",
       "min                                            -1.800000  \n",
       "25%                                            20.300000  \n",
       "50%                                            21.500000  \n",
       "75%                                            22.300000  \n",
       "max                                            25.100000  "
      ]
     },
     "execution_count": 434,
     "metadata": {},
     "output_type": "execute_result"
    }
   ],
   "source": [
    "estacao_ssa.describe()"
   ]
  },
  {
   "cell_type": "markdown",
   "metadata": {},
   "source": [
    "### Analise de dados"
   ]
  },
  {
   "cell_type": "code",
   "execution_count": 435,
   "metadata": {},
   "outputs": [],
   "source": [
    "import matplotlib.pyplot as plt\n",
    "%matplotlib widget"
   ]
  },
  {
   "cell_type": "markdown",
   "metadata": {},
   "source": [
    "1. Subplot com evolução das temperaturas médias e acumulado de precipitações nos três anos."
   ]
  },
  {
   "cell_type": "code",
   "execution_count": null,
   "metadata": {},
   "outputs": [],
   "source": []
  },
  {
   "cell_type": "markdown",
   "metadata": {},
   "source": [
    "2. Acumulado de precipitações de Junho nos três anos."
   ]
  },
  {
   "cell_type": "code",
   "execution_count": 436,
   "metadata": {},
   "outputs": [
    {
     "data": {
      "application/vnd.jupyter.widget-view+json": {
       "model_id": "4ba08dfc8c944ac0ac0ca43932b74144",
       "version_major": 2,
       "version_minor": 0
      },
      "image/png": "[encoded data removed]",
      "text/html": [
       "\n",
       "            <div style=\"display: inline-block;\">\n",
       "                <div class=\"jupyter-widgets widget-label\" style=\"text-align: center;\">\n",
       "                    Figure\n",
       "                </div>\n",
       "                <img src='data:image/png;base64,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' width=800.0/>\n",
       "            </div>\n",
       "        "
      ],
      "text/plain": [
       "Canvas(toolbar=Toolbar(toolitems=[('Home', 'Reset original view', 'home', 'home'), ('Back', 'Back to previous …"
      ]
     },
     "metadata": {},
     "output_type": "display_data"
    }
   ],
   "source": [
    "import matplotlib.pyplot as plt\n",
    "\n",
    "# Concatenando os DataFrames estacao_ssa_2003, estacao_ssa_2013, estacao_ssa_2023\n",
    "df_precipitacao = pd.concat([estacao_ssa_2003, estacao_ssa_2013, estacao_ssa_2023])\n",
    "\n",
    "# Substituindo '/' por '-' na coluna 'DATA (YYYY-MM-DD)'\n",
    "df_precipitacao['DATA (YYYY-MM-DD)'] = df_precipitacao['DATA (YYYY-MM-DD)'].str.replace('/', '-')\n",
    "\n",
    "# Convertendo a coluna 'DATA (YYYY-MM-DD)' para o formato datetime\n",
    "df_precipitacao['DATA (YYYY-MM-DD)'] = pd.to_datetime(df_precipitacao['DATA (YYYY-MM-DD)'], format=\"%Y-%m-%d\")\n",
    "\n",
    "# Ordenando o DataFrame pela coluna 'DATA (YYYY-MM-DD)'\n",
    "df_precipitacao = df_precipitacao.sort_values(by='DATA (YYYY-MM-DD)')\n",
    "\n",
    "# Filtrando dados para o mês de junho\n",
    "dados_junho = df_precipitacao[df_precipitacao['DATA (YYYY-MM-DD)'].dt.month == 6]\n",
    "\n",
    "# Agrupando por ano e somando as precipitações de junho\n",
    "acumulado_junho_por_ano = dados_junho.groupby(dados_junho['DATA (YYYY-MM-DD)'].dt.year)['PRECIPITAÇÃO TOTAL, HORÁRIO (mm)'].sum()\n",
    "\n",
    "# Redefinindo o índice para torná-lo numérico\n",
    "acumulado_junho_por_ano = acumulado_junho_por_ano.reset_index()\n",
    "\n",
    "# Criando o gráfico de barras para o acumulado de precipitação de junho por ano\n",
    "plt.figure(figsize=(8, 4))\n",
    "plt.bar(acumulado_junho_por_ano['DATA (YYYY-MM-DD)'], acumulado_junho_por_ano['PRECIPITAÇÃO TOTAL, HORÁRIO (mm)'], color='blue', alpha=0.7)\n",
    "plt.title('Acumulado de Precipitação em Junho (2003, 2013, 2023)')\n",
    "plt.xlabel('Ano')\n",
    "plt.ylabel('Acumulado de Precipitação (mm)')\n",
    "plt.show()\n"
   ]
  },
  {
   "cell_type": "markdown",
   "metadata": {},
   "source": [
    "3. Temperatura media de cada um dos dias de Março nos três anos."
   ]
  },
  {
   "cell_type": "code",
   "execution_count": null,
   "metadata": {},
   "outputs": [],
   "source": []
  },
  {
   "cell_type": "markdown",
   "metadata": {},
   "source": [
    "4. Temperatura máxima e mínima de cada uma das estações nos tres anos. Sendo:\n",
    "   - Verão (Janeiro, Fevereiro e Março)\n",
    "   - Outono (Abril, Maio e Junho) \n",
    "   - Inverno (Julho, Agosto e Setembro)\n",
    "   - Primavera (Outubro, Novembro e Dezembro)."
   ]
  },
  {
   "cell_type": "code",
   "execution_count": null,
   "metadata": {},
   "outputs": [],
   "source": []
  },
  {
   "cell_type": "markdown",
   "metadata": {},
   "source": [
    "5. Comportamente de temperatura media do dia 28 de Setembro em cada um dos intervalos do dia dos três anos. Sendo:\n",
    "   - Madrugada (00:00 a 06:00), \n",
    "   - Manha (06:00 a 12:00)\n",
    "   - Tarde (12:00 a 18:00)\n",
    "   - Noite (18:00 a 00:00)"
   ]
  },
  {
   "cell_type": "code",
   "execution_count": null,
   "metadata": {},
   "outputs": [],
   "source": []
  }
 ],
 "metadata": {
  "kernelspec": {
   "display_name": "residencia",
   "language": "python",
   "name": "python3"
  },
  "language_info": {
   "codemirror_mode": {
    "name": "ipython",
    "version": 3
   },
   "file_extension": ".py",
   "mimetype": "text/x-python",
   "name": "python",
   "nbconvert_exporter": "python",
   "pygments_lexer": "ipython3",
   "version": "3.11.7"
  }
 },
 "nbformat": 4,
 "nbformat_minor": 2
}
