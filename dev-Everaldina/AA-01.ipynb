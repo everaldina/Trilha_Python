{
 "cells": [
  {
   "cell_type": "markdown",
   "metadata": {},
   "source": [
    "# Primeira Avaliação Parcial: Avaliação Individual\n",
    "\n",
    "Neste módulo trabalhamos com os recursos da __NumPy__ para processar dados de tipo único de forma eficiente. Um exemplo deste tipo de dados são as imagens que podemos ser armazenadas como _ndarrays_ __NumPy__. O código a seguir gera uma imagem colorida, de 1000 por 1000 _pixels_, armazenada no formato __RGB__. Isto significa que, de cada _pixel_ armazenamos a intensidade de cor nos canais __R__ (_red_ ou vermelho), __G__ (green ou verde) e __B__ (blue o azul).  A intensidade da cor é dada por um inteiro de 8 _bits_ sem sinal."
   ]
  },
  {
   "cell_type": "code",
   "execution_count": 73,
   "metadata": {},
   "outputs": [
    {
     "name": "stdout",
     "output_type": "stream",
     "text": [
      "1.24.3\n"
     ]
    }
   ],
   "source": [
    "# importado a biblioteca numpy\n",
    "import numpy as np\n",
    "print(np.__version__)"
   ]
  },
  {
   "cell_type": "code",
   "execution_count": 74,
   "metadata": {},
   "outputs": [],
   "source": [
    "# Definindo a altura e a largura da imagem\n",
    "height = 1000  # altura ou o número de linhas da imagem\n",
    "width = 1000   # largura ou o número de colunas da imagem"
   ]
  },
  {
   "cell_type": "code",
   "execution_count": 75,
   "metadata": {},
   "outputs": [
    {
     "name": "stdout",
     "output_type": "stream",
     "text": [
      "Veja o forma da matriz criada: (1000, 1000, 3)\n",
      "Veja como fica a cor de um pixel: [ 39 247  11] ...\n",
      "Ou a componente vermelha dos 3 primeiro pixels da segunda linha: [154 108 172] ...\n",
      "Ou a componente verde dos 3 últimos pixels da segunda coluna: [241 157 227] ...\n"
     ]
    }
   ],
   "source": [
    "# gerando uma imagem aleatória de 1000 x 1000 pixels\n",
    "random_image = np.random.randint(0, 256, size=(height, width, 3), dtype=np.uint8)\n",
    "print(\"Veja o forma da matriz criada: {}\".format(random_image.shape))\n",
    "print(\"Veja como fica a cor de um pixel: {} ...\".format(random_image[0, 0]))\n",
    "print(\"Ou a componente vermelha dos 3 primeiro pixels da segunda linha: {} ...\".format(random_image[1, 0:3, 0]))\n",
    "print(\"Ou a componente verde dos 3 últimos pixels da segunda coluna: {} ...\".format(random_image[-3:, 1, 1]))"
   ]
  },
  {
   "cell_type": "markdown",
   "metadata": {},
   "source": [
    "## Exercício 1\n",
    "\n",
    "Crie uma função para a qual passamos como parâmetros a altura e a largura e retorna uma imagem, gerada de forma aleatória, em formato __RGB__, com estas dimensões. A imagem deve ser representada utilizando um _ndarray_ como o do exemplo anterior. Se a altura ou a largura não forme passadas como a imagem deve ser gerada com 720 linhas e 1280 colunas. "
   ]
  },
  {
   "cell_type": "code",
   "execution_count": 76,
   "metadata": {},
   "outputs": [],
   "source": [
    "# Implementar aqui\n",
    "def geradorImagens(altura = 720, largura = 1280):\n",
    "    imagem = np.random.randint(0, 256, size=(altura, largura, 3), dtype=np.uint8)\n",
    "    return imagem"
   ]
  },
  {
   "cell_type": "code",
   "execution_count": 77,
   "metadata": {},
   "outputs": [
    {
     "name": "stdout",
     "output_type": "stream",
     "text": [
      "(720, 1280, 3)\n",
      "(10, 1280, 3)\n",
      "(10, 10, 3)\n",
      "[[[142 100 138]\n",
      "  [232 105 197]\n",
      "  [214 142 238]\n",
      "  [ 11  91 118]\n",
      "  [140 181  86]]\n",
      "\n",
      " [[ 11 190 131]\n",
      "  [212 172 159]\n",
      "  [164  32  51]\n",
      "  [131 213 133]\n",
      "  [ 45  99 119]]\n",
      "\n",
      " [[205  18  82]\n",
      "  [ 69   7 214]\n",
      "  [ 20  11  82]\n",
      "  [202 107  68]\n",
      "  [171 231 147]]\n",
      "\n",
      " [[ 67  82  21]\n",
      "  [ 25 243 108]\n",
      "  [192  85 145]\n",
      "  [183  21 155]\n",
      "  [ 23 117 183]]\n",
      "\n",
      " [[214 234 145]\n",
      "  [215  90 113]\n",
      "  [202 167 200]\n",
      "  [ 27 209  19]\n",
      "  [102 204  19]]]\n"
     ]
    }
   ],
   "source": [
    "#teste\n",
    "print(geradorImagens().shape) # deve retornar (720, 1280, 3)\n",
    "print(geradorImagens(10).shape) # deve retornar (10, 1280, 3)\n",
    "print(geradorImagens(10,10).shape) # deve retornar (10, 10, 3)\n",
    "print(geradorImagens(5,5)) # deve retornar uma matriz 5x5x3"
   ]
  },
  {
   "cell_type": "markdown",
   "metadata": {},
   "source": [
    "Para simplificar o tratamento durante o processamento das imagens, frequentemente elas são convertidas e imagens em tons de cinza. Estas imagens contem, para cada pixel, uma única intensidade de cor representada como um inteiro de 8 _bits_ sem sinal. Para converter uma imagem __RGB__ em uma imagem em tons de cinza podemos utilizar dois métodos diferentes. \n",
    "\n",
    "1. Calculamos a intensidade da cor de cada _pixel_ como a média das intensidades dos canais __RGB_\n",
    "2. Os valores __RGB__ são convertidos para tons de cinza usando a fórmula __NTSC__: $ 0.299 \\times \\text{Vermelho} + 0.587 \\times \\text{Verde} + 0.114 \\times \\text{Azul} $. Esta fórmula representa de perto a percepção relativa da pessoa média sobre o brilho da luz vermelha, verde e azul."
   ]
  },
  {
   "cell_type": "markdown",
   "metadata": {},
   "source": [
    "## Exercício 2\n",
    "\n",
    "Crie uma função que recebe uma imagem __RGB__ e converte a mesma em tons de cinza. A função deve retornar então a nova imagem. Esta função. \n",
    "* Deve verificar se o argumento de entrada é de fato uma imagem __RGB__ com base no tipo e no atributo ``shape`` do _ndarray_. Casso o argumento esteja errado deve-se lançar uma exceção.\n",
    "* A função recebe como parâmetro de entrada a forma de conversão a ser utilizada: media dos canais ou __NTSC__. Por padrão o algoritmo de utilizado deve ser o __NTSC__.\n",
    "* A função deve utilizas as _ufunc_ e operações definidas na __NumPy_ de forma a minimizar o uso de laços no processamento dos _ndarrays_.  "
   ]
  },
  {
   "cell_type": "code",
   "execution_count": 78,
   "metadata": {},
   "outputs": [],
   "source": [
    "\n",
    "#implementar aqui\n",
    "def rgb2gray(imagem, conversao = \"NTSC\"):\n",
    "    \n",
    "    # verificação de parametros\n",
    "    shape = imagem.shape\n",
    "    if len(shape) != 3 or shape[2] != 3 or imagem.dtype != np.uint8:\n",
    "        raise ValueError(\"Parametro nao é uma imagme RGB no formato uint8\")\n",
    "    if conversao != \"NTSC\" and conversao != \"media\":\n",
    "        raise ValueError(\"Parametro conversao deve ser NTSC ou 'media' (media de canais)\")\n",
    "    \n",
    "    # conversao\n",
    "    if conversao == \"NTSC\":\n",
    "        imagem_convertida = (0.299 * imagem[:,:,0]) + (0.587 * imagem[:,:,1]) + (0.114 * imagem[:,:,2])\n",
    "    else:\n",
    "        imagem_convertida = np.mean(imagem, axis=2)\n",
    "    return imagem_convertida.astype(np.uint8)\n",
    "    \n",
    "    "
   ]
  },
  {
   "cell_type": "code",
   "execution_count": 79,
   "metadata": {},
   "outputs": [
    {
     "name": "stdout",
     "output_type": "stream",
     "text": [
      "Erro: Parametro conversao deve ser NTSC ou 'media' (media de canais)\n",
      "Erro: Parametro nao é uma imagme RGB no formato uint8\n",
      "Erro: Parametro nao é uma imagme RGB no formato uint8\n"
     ]
    }
   ],
   "source": [
    "# teste de exeções\n",
    "\n",
    "# tipo de converao invalido\n",
    "try:\n",
    "    rgb2gray(np.zeros((10,10,3), dtype=np.uint8), \"teste\")\n",
    "except Exception as e:\n",
    "    print(\"Erro: {}\".format(e))\n",
    "\n",
    "# imagem com dimensões invalidas\n",
    "try:\n",
    "    rgb2gray(np.zeros((10,10,4), dtype=np.uint8))\n",
    "except Exception as e:\n",
    "    print(\"Erro: {}\".format(e))\n",
    "    \n",
    "# imagem com tipo invalido\n",
    "try:\n",
    "    rgb2gray(np.zeros((10,10,3), dtype=np.float32))\n",
    "except Exception as e:\n",
    "    print(\"Erro: {}\".format(e))"
   ]
  },
  {
   "cell_type": "code",
   "execution_count": 80,
   "metadata": {},
   "outputs": [
    {
     "name": "stdout",
     "output_type": "stream",
     "text": [
      "RGB\n",
      "[[[ 60  97 144]\n",
      "  [174  48 211]]\n",
      "\n",
      " [[241 163 122]\n",
      "  [120  88 213]]]\n",
      "\n",
      "NTSC\n",
      "[[ 91 104]\n",
      " [181 111]]\n",
      "\n",
      "Media\n",
      "[[100 144]\n",
      " [175 140]]\n"
     ]
    }
   ],
   "source": [
    "# teste de conversa\n",
    "imagem = geradorImagens(2,2)\n",
    "print(\"RGB\")\n",
    "print(imagem)\n",
    "\n",
    "print(\"\\nNTSC\")\n",
    "imagem_cinza = rgb2gray(imagem, \"NTSC\")\n",
    "print(imagem_cinza)\n",
    "\n",
    "print(\"\\nMedia\")\n",
    "imagem_cinza = rgb2gray(imagem, \"media\")\n",
    "print(imagem_cinza)"
   ]
  },
  {
   "cell_type": "markdown",
   "metadata": {},
   "source": [
    "# Exercício 3 (Opcional, valendo ponto extra)\n",
    "\n",
    "Refaça a implementação da função anterior utilizando estruturas de repetição e implemente um teste de demonstre, usando uma imagem __RGB__ gerada de forma aleatória de 10.000 linhas por 10.000 colunas, o ganho de desempenho quando utilizamos as _ufunc_ e os operadores de __NumPy__. "
   ]
  },
  {
   "cell_type": "code",
   "execution_count": 81,
   "metadata": {},
   "outputs": [],
   "source": [
    "# gerando uma imagem aleatória de 10000 x 10000 pixels\n",
    "imagem = geradorImagens(10000,10000)"
   ]
  },
  {
   "cell_type": "code",
   "execution_count": 82,
   "metadata": {},
   "outputs": [],
   "source": [
    "#implementar aqui\n",
    "def rgb2gray_repeticao(imagem, conversao = \"NTSC\"):\n",
    "    \n",
    "    # verificação de parametros\n",
    "    shape = imagem.shape\n",
    "    if len(shape) != 3 or shape[2] != 3 or imagem.dtype != np.uint8:\n",
    "        raise ValueError(\"Parametro nao é uma imagme RGB no formato uint8\")\n",
    "    if conversao != \"NTSC\" and conversao != \"media\":\n",
    "        raise ValueError(\"Parametro conversao deve ser NTSC ou 'media' (media de canais)\")\n",
    "    \n",
    "    # conversao\n",
    "    if conversao == \"NTSC\":\n",
    "        for i in range(shape[0]):\n",
    "            for j in range(shape[1]):\n",
    "                imagem[i,j,0] = (0.299 * imagem[i,j,0]) + (0.587 * imagem[i,j,1]) + (0.114 * imagem[i,j,2])\n",
    "    else:\n",
    "        for i in range(shape[0]):\n",
    "            for j in range(shape[1]):\n",
    "                imagem[i,j,0] = (imagem[i,j,0] + imagem[i,j,1] + imagem[i,j,2])/3\n",
    "    return imagem[:,:,0].astype(np.uint8)"
   ]
  },
  {
   "cell_type": "markdown",
   "metadata": {},
   "source": [
    "### Comparação de desempenho\n",
    "\n",
    "1. Metodo NTSC"
   ]
  },
  {
   "cell_type": "code",
   "execution_count": 83,
   "metadata": {},
   "outputs": [
    {
     "name": "stdout",
     "output_type": "stream",
     "text": [
      "1.23 s ± 12.5 ms per loop (mean ± std. dev. of 2 runs, 2 loops each)\n"
     ]
    }
   ],
   "source": [
    "%timeit -n 2 -r 2 rgb2gray(imagem, \"NTSC\")\n",
    "imagem_cinza_ufunc = rgb2gray(imagem, \"NTSC\")"
   ]
  },
  {
   "cell_type": "code",
   "execution_count": 84,
   "metadata": {},
   "outputs": [
    {
     "ename": "KeyboardInterrupt",
     "evalue": "",
     "output_type": "error",
     "traceback": [
      "\u001b[0;31m---------------------------------------------------------------------------\u001b[0m",
      "\u001b[0;31mKeyboardInterrupt\u001b[0m                         Traceback (most recent call last)",
      "Cell \u001b[0;32mIn[84], line 1\u001b[0m\n\u001b[0;32m----> 1\u001b[0m get_ipython()\u001b[39m.\u001b[39mrun_line_magic(\u001b[39m'\u001b[39m\u001b[39mtimeit\u001b[39m\u001b[39m'\u001b[39m, \u001b[39m'\u001b[39m\u001b[39m-n 2 -r 2 rgb2gray_repeticao(imagem, \u001b[39m\u001b[39m\"\u001b[39m\u001b[39mNTSC\u001b[39m\u001b[39m\"\u001b[39m\u001b[39m)\u001b[39m\u001b[39m'\u001b[39m)\n\u001b[1;32m      2\u001b[0m imagem_cinza_repeticao \u001b[39m=\u001b[39m rgb2gray_repeticao(imagem, \u001b[39m\"\u001b[39m\u001b[39mNTSC\u001b[39m\u001b[39m\"\u001b[39m)\n",
      "File \u001b[0;32m~/anaconda3/lib/python3.11/site-packages/IPython/core/interactiveshell.py:2432\u001b[0m, in \u001b[0;36mInteractiveShell.run_line_magic\u001b[0;34m(self, magic_name, line, _stack_depth)\u001b[0m\n\u001b[1;32m   2430\u001b[0m     kwargs[\u001b[39m'\u001b[39m\u001b[39mlocal_ns\u001b[39m\u001b[39m'\u001b[39m] \u001b[39m=\u001b[39m \u001b[39mself\u001b[39m\u001b[39m.\u001b[39mget_local_scope(stack_depth)\n\u001b[1;32m   2431\u001b[0m \u001b[39mwith\u001b[39;00m \u001b[39mself\u001b[39m\u001b[39m.\u001b[39mbuiltin_trap:\n\u001b[0;32m-> 2432\u001b[0m     result \u001b[39m=\u001b[39m fn(\u001b[39m*\u001b[39margs, \u001b[39m*\u001b[39m\u001b[39m*\u001b[39mkwargs)\n\u001b[1;32m   2434\u001b[0m \u001b[39m# The code below prevents the output from being displayed\u001b[39;00m\n\u001b[1;32m   2435\u001b[0m \u001b[39m# when using magics with decorator @output_can_be_silenced\u001b[39;00m\n\u001b[1;32m   2436\u001b[0m \u001b[39m# when the last Python token in the expression is a ';'.\u001b[39;00m\n\u001b[1;32m   2437\u001b[0m \u001b[39mif\u001b[39;00m \u001b[39mgetattr\u001b[39m(fn, magic\u001b[39m.\u001b[39mMAGIC_OUTPUT_CAN_BE_SILENCED, \u001b[39mFalse\u001b[39;00m):\n",
      "File \u001b[0;32m~/anaconda3/lib/python3.11/site-packages/IPython/core/magics/execution.py:1189\u001b[0m, in \u001b[0;36mExecutionMagics.timeit\u001b[0;34m(self, line, cell, local_ns)\u001b[0m\n\u001b[1;32m   1186\u001b[0m         \u001b[39mif\u001b[39;00m time_number \u001b[39m>\u001b[39m\u001b[39m=\u001b[39m \u001b[39m0.2\u001b[39m:\n\u001b[1;32m   1187\u001b[0m             \u001b[39mbreak\u001b[39;00m\n\u001b[0;32m-> 1189\u001b[0m all_runs \u001b[39m=\u001b[39m timer\u001b[39m.\u001b[39mrepeat(repeat, number)\n\u001b[1;32m   1190\u001b[0m best \u001b[39m=\u001b[39m \u001b[39mmin\u001b[39m(all_runs) \u001b[39m/\u001b[39m number\n\u001b[1;32m   1191\u001b[0m worst \u001b[39m=\u001b[39m \u001b[39mmax\u001b[39m(all_runs) \u001b[39m/\u001b[39m number\n",
      "File \u001b[0;32m~/anaconda3/lib/python3.11/timeit.py:206\u001b[0m, in \u001b[0;36mTimer.repeat\u001b[0;34m(self, repeat, number)\u001b[0m\n\u001b[1;32m    204\u001b[0m r \u001b[39m=\u001b[39m []\n\u001b[1;32m    205\u001b[0m \u001b[39mfor\u001b[39;00m i \u001b[39min\u001b[39;00m \u001b[39mrange\u001b[39m(repeat):\n\u001b[0;32m--> 206\u001b[0m     t \u001b[39m=\u001b[39m \u001b[39mself\u001b[39m\u001b[39m.\u001b[39mtimeit(number)\n\u001b[1;32m    207\u001b[0m     r\u001b[39m.\u001b[39mappend(t)\n\u001b[1;32m    208\u001b[0m \u001b[39mreturn\u001b[39;00m r\n",
      "File \u001b[0;32m~/anaconda3/lib/python3.11/site-packages/IPython/core/magics/execution.py:173\u001b[0m, in \u001b[0;36mTimer.timeit\u001b[0;34m(self, number)\u001b[0m\n\u001b[1;32m    171\u001b[0m gc\u001b[39m.\u001b[39mdisable()\n\u001b[1;32m    172\u001b[0m \u001b[39mtry\u001b[39;00m:\n\u001b[0;32m--> 173\u001b[0m     timing \u001b[39m=\u001b[39m \u001b[39mself\u001b[39m\u001b[39m.\u001b[39minner(it, \u001b[39mself\u001b[39m\u001b[39m.\u001b[39mtimer)\n\u001b[1;32m    174\u001b[0m \u001b[39mfinally\u001b[39;00m:\n\u001b[1;32m    175\u001b[0m     \u001b[39mif\u001b[39;00m gcold:\n",
      "File \u001b[0;32m<magic-timeit>:1\u001b[0m, in \u001b[0;36minner\u001b[0;34m(_it, _timer)\u001b[0m\n",
      "Cell \u001b[0;32mIn[82], line 15\u001b[0m, in \u001b[0;36mrgb2gray_repeticao\u001b[0;34m(imagem, conversao)\u001b[0m\n\u001b[1;32m     13\u001b[0m     \u001b[39mfor\u001b[39;00m i \u001b[39min\u001b[39;00m \u001b[39mrange\u001b[39m(shape[\u001b[39m0\u001b[39m]):\n\u001b[1;32m     14\u001b[0m         \u001b[39mfor\u001b[39;00m j \u001b[39min\u001b[39;00m \u001b[39mrange\u001b[39m(shape[\u001b[39m1\u001b[39m]):\n\u001b[0;32m---> 15\u001b[0m             imagem[i,j,\u001b[39m0\u001b[39m] \u001b[39m=\u001b[39m (\u001b[39m0.299\u001b[39m \u001b[39m*\u001b[39m imagem[i,j,\u001b[39m0\u001b[39m]) \u001b[39m+\u001b[39m (\u001b[39m0.587\u001b[39m \u001b[39m*\u001b[39m imagem[i,j,\u001b[39m1\u001b[39m]) \u001b[39m+\u001b[39m (\u001b[39m0.114\u001b[39m \u001b[39m*\u001b[39m imagem[i,j,\u001b[39m2\u001b[39m])\n\u001b[1;32m     16\u001b[0m \u001b[39melse\u001b[39;00m:\n\u001b[1;32m     17\u001b[0m     \u001b[39mfor\u001b[39;00m i \u001b[39min\u001b[39;00m \u001b[39mrange\u001b[39m(shape[\u001b[39m0\u001b[39m]):\n",
      "\u001b[0;31mKeyboardInterrupt\u001b[0m: "
     ]
    }
   ],
   "source": [
    "%timeit -n 2 -r 2 rgb2gray_repeticao(imagem, \"NTSC\")\n",
    "imagem_cinza_repeticao = rgb2gray_repeticao(imagem, \"NTSC\")"
   ]
  },
  {
   "cell_type": "code",
   "execution_count": null,
   "metadata": {},
   "outputs": [],
   "source": [
    "# teste de igualdade\n",
    "print(np.allclose(imagem_cinza_ufunc, imagem_cinza_repeticao))"
   ]
  },
  {
   "cell_type": "markdown",
   "metadata": {},
   "source": [
    "2. Metodo Media de canais"
   ]
  },
  {
   "cell_type": "code",
   "execution_count": null,
   "metadata": {},
   "outputs": [],
   "source": [
    "%timeit -n 2 -r 2 rgb2gray(imagem, \"media\")\n",
    "imagem_cinza_ufunc = rgb2gray(imagem, \"media\")"
   ]
  },
  {
   "cell_type": "code",
   "execution_count": null,
   "metadata": {},
   "outputs": [],
   "source": [
    "%timeit -n 2 -r 2 rgb2gray_repeticao(imagem, \"media\")\n",
    "imagem_cinza_repeticao = rgb2gray_repeticao(imagem, \"media\")"
   ]
  },
  {
   "cell_type": "code",
   "execution_count": null,
   "metadata": {},
   "outputs": [],
   "source": [
    "# teste de igualdade\n",
    "print(np.allclose(imagem_cinza_ufunc, imagem_cinza_repeticao))"
   ]
  },
  {
   "cell_type": "markdown",
   "metadata": {},
   "source": [
    "## Respostas\n",
    "Faça suas implementações neste notebook e envie  mesmo via __Moodle__ até o final do prazo. "
   ]
  }
 ],
 "metadata": {
  "kernelspec": {
   "display_name": "Python 3 (ipykernel)",
   "language": "python",
   "name": "python3"
  },
  "language_info": {
   "codemirror_mode": {
    "name": "ipython",
    "version": 3
   },
   "file_extension": ".py",
   "mimetype": "text/x-python",
   "name": "python",
   "nbconvert_exporter": "python",
   "pygments_lexer": "ipython3",
   "version": "3.11.5"
  }
 },
 "nbformat": 4,
 "nbformat_minor": 2
}
