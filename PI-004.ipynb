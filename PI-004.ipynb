{
 "cells": [
  {
   "cell_type": "markdown",
   "metadata": {},
   "source": [
    "# Comparação desempenho de funções nativas numpy"
   ]
  },
  {
   "cell_type": "code",
   "execution_count": 1,
   "metadata": {},
   "outputs": [],
   "source": [
    "from DataFruta_V1.ListaSalarios import ListaSalarios\n",
    "from DataFruta_V1.NotasTurma import NotasTurma\n",
    "\n",
    "numero_alunos = 1000 # linhas\n",
    "numero_credito = 1000 # colunas\n",
    "\n",
    "notas = NotasTurma(numero_alunos, numero_credito)\n",
    "notas.geraDados()\n",
    "\n",
    "# pega as notas do primeiro aluno para ser os dados da lista de salarios\n",
    "lista_salarios = ListaSalarios(notas.getNotasAluno())\n"
   ]
  },
  {
   "cell_type": "markdown",
   "metadata": {},
   "source": [
    "## Médias e medidas de valor central"
   ]
  },
  {
   "cell_type": "markdown",
   "metadata": {},
   "source": [
    "### Média aritmética"
   ]
  },
  {
   "cell_type": "code",
   "execution_count": 2,
   "metadata": {},
   "outputs": [
    {
     "name": "stdout",
     "output_type": "stream",
     "text": [
      "123 µs ± 11.3 µs per loop (mean ± std. dev. of 7 runs, 10,000 loops each)\n",
      "Media dos salario = 4.9380599999999975\n"
     ]
    }
   ],
   "source": [
    "# usando sem metodos numpy\n",
    "%timeit lista_salarios.mediaAritmetica()\n",
    "print(\"Media dos salario = \" + str(lista_salarios.mediaAritmetica()))"
   ]
  },
  {
   "cell_type": "code",
   "execution_count": 3,
   "metadata": {},
   "outputs": [
    {
     "name": "stdout",
     "output_type": "stream",
     "text": [
      "6.67 µs ± 325 ns per loop (mean ± std. dev. of 7 runs, 100,000 loops each)\n",
      "Media dos salario = 4.938059999999999\n"
     ]
    }
   ],
   "source": [
    "# usando metodos nativos numpy\n",
    "%timeit notas.mediaAritmeticaAluno()\n",
    "print(\"Media dos salario = \" + str(notas.mediaAritmeticaAluno()))"
   ]
  },
  {
   "cell_type": "markdown",
   "metadata": {},
   "source": [
    "### Media geométrica"
   ]
  },
  {
   "cell_type": "code",
   "execution_count": 4,
   "metadata": {},
   "outputs": [
    {
     "name": "stdout",
     "output_type": "stream",
     "text": [
      "128 µs ± 4.88 µs per loop (mean ± std. dev. of 7 runs, 10,000 loops each)\n",
      "Media geometrica dos salario = 0.0\n"
     ]
    }
   ],
   "source": [
    "# usando sem metodos numpy\n",
    "%timeit lista_salarios.mediaGeometrica()\n",
    "print(\"Media geometrica dos salario = \" + str(lista_salarios.mediaGeometrica()))"
   ]
  },
  {
   "cell_type": "code",
   "execution_count": 5,
   "metadata": {},
   "outputs": [
    {
     "name": "stdout",
     "output_type": "stream",
     "text": [
      "8.46 µs ± 639 ns per loop (mean ± std. dev. of 7 runs, 100,000 loops each)\n",
      "Media geometrica dos salario = 0.0\n"
     ]
    }
   ],
   "source": [
    "# usando metodos numpy\n",
    "%timeit notas.mediaGeometricaAluno()\n",
    "print(\"Media geometrica dos salario = \" + str(notas.mediaGeometricaAluno()))"
   ]
  },
  {
   "cell_type": "markdown",
   "metadata": {},
   "source": [
    "### Media harmonica"
   ]
  },
  {
   "cell_type": "code",
   "execution_count": 6,
   "metadata": {},
   "outputs": [
    {
     "name": "stderr",
     "output_type": "stream",
     "text": [
      "c:\\Users\\evera\\Documents\\workspace\\Trilha_Python\\DataFruta_V1\\ListaSalarios.py:138: RuntimeWarning: divide by zero encountered in scalar divide\n",
      "  soma += 1 / i\n"
     ]
    },
    {
     "name": "stdout",
     "output_type": "stream",
     "text": [
      "222 µs ± 35 µs per loop (mean ± std. dev. of 7 runs, 1,000 loops each)\n",
      "Media harmonica dos salario = 0.0\n"
     ]
    }
   ],
   "source": [
    "# usando sem metodos numpy\n",
    "%timeit lista_salarios.mediaHarmonica()\n",
    "print(\"Media harmonica dos salario = \" + str(lista_salarios.mediaHarmonica()))"
   ]
  },
  {
   "cell_type": "code",
   "execution_count": 7,
   "metadata": {},
   "outputs": [
    {
     "name": "stderr",
     "output_type": "stream",
     "text": [
      "c:\\Users\\evera\\Documents\\workspace\\Trilha_Python\\DataFruta_V1\\NotasTurma.py:113: RuntimeWarning: divide by zero encountered in divide\n",
      "  return len(self.__notas[index]) / np.sum(1/self.__notas[index])\n"
     ]
    },
    {
     "name": "stdout",
     "output_type": "stream",
     "text": [
      "14.5 µs ± 837 ns per loop (mean ± std. dev. of 7 runs, 100,000 loops each)\n",
      "Media harmonica dos salario = 0.0\n"
     ]
    }
   ],
   "source": [
    "# usando metodos numpy\n",
    "%timeit notas.mediaHarmonicaAluno()\n",
    "print(\"Media harmonica dos salario = \" + str(notas.mediaHarmonicaAluno()))"
   ]
  },
  {
   "cell_type": "markdown",
   "metadata": {},
   "source": [
    "### Mediana"
   ]
  },
  {
   "cell_type": "code",
   "execution_count": 8,
   "metadata": {},
   "outputs": [
    {
     "name": "stdout",
     "output_type": "stream",
     "text": [
      "16.5 µs ± 889 ns per loop (mean ± std. dev. of 7 runs, 100,000 loops each)\n",
      "Mediana dos salario = 4.865\n"
     ]
    }
   ],
   "source": [
    "# usando sem metodos numpy\n",
    "%timeit lista_salarios.mediana()\n",
    "print(\"Mediana dos salario = \" + str(lista_salarios.mediana()))"
   ]
  },
  {
   "cell_type": "code",
   "execution_count": 9,
   "metadata": {},
   "outputs": [
    {
     "name": "stdout",
     "output_type": "stream",
     "text": [
      "36.8 µs ± 3.56 µs per loop (mean ± std. dev. of 7 runs, 10,000 loops each)\n",
      "Mediana dos salario = 4.865\n"
     ]
    }
   ],
   "source": [
    "# usando metodos numpy\n",
    "%timeit notas.medianaAluno()\n",
    "print(\"Mediana dos salario = \" + str(notas.medianaAluno()))"
   ]
  },
  {
   "cell_type": "markdown",
   "metadata": {},
   "source": [
    "### Mediana inferior"
   ]
  },
  {
   "cell_type": "code",
   "execution_count": 10,
   "metadata": {},
   "outputs": [
    {
     "name": "stdout",
     "output_type": "stream",
     "text": [
      "277 µs ± 16.8 µs per loop (mean ± std. dev. of 7 runs, 1,000 loops each)\n",
      "Mediana inferior dos salario = 2.47\n"
     ]
    }
   ],
   "source": [
    "# usando sem metodos numpy\n",
    "%timeit lista_salarios.medianaInferior()\n",
    "print(\"Mediana inferior dos salario = \" + str(lista_salarios.medianaInferior()))"
   ]
  },
  {
   "cell_type": "code",
   "execution_count": 11,
   "metadata": {},
   "outputs": [
    {
     "name": "stdout",
     "output_type": "stream",
     "text": [
      "121 µs ± 4.11 µs per loop (mean ± std. dev. of 7 runs, 10,000 loops each)\n",
      "Mediana inferior dos salario = 2.47\n"
     ]
    }
   ],
   "source": [
    "# usando metodos numpy\n",
    "%timeit notas.medianaInferiorAluno()\n",
    "print(\"Mediana inferior dos salario = \" + str(notas.medianaInferiorAluno()))"
   ]
  },
  {
   "cell_type": "markdown",
   "metadata": {},
   "source": [
    "### Mediana superior"
   ]
  },
  {
   "cell_type": "code",
   "execution_count": 12,
   "metadata": {},
   "outputs": [
    {
     "name": "stdout",
     "output_type": "stream",
     "text": [
      "273 µs ± 11.5 µs per loop (mean ± std. dev. of 7 runs, 1,000 loops each)\n",
      "Mediana superior dos salario = 7.37\n"
     ]
    }
   ],
   "source": [
    "# usando sem metodos numpy\n",
    "%timeit lista_salarios.medianaSuperior()\n",
    "print(\"Mediana superior dos salario = \" + str(lista_salarios.medianaSuperior()))"
   ]
  },
  {
   "cell_type": "code",
   "execution_count": 13,
   "metadata": {},
   "outputs": [
    {
     "name": "stdout",
     "output_type": "stream",
     "text": [
      "125 µs ± 9.19 µs per loop (mean ± std. dev. of 7 runs, 10,000 loops each)\n",
      "Mediana superior dos salario = 7.37\n"
     ]
    }
   ],
   "source": [
    "# usando metodos numpy\n",
    "%timeit notas.medianaSuperiorAluno()\n",
    "print(\"Mediana superior dos salario = \" + str(notas.medianaSuperiorAluno()))"
   ]
  },
  {
   "cell_type": "markdown",
   "metadata": {},
   "source": [
    "## Medidas de espalhamento"
   ]
  },
  {
   "cell_type": "markdown",
   "metadata": {},
   "source": [
    "### Desvio padrao populacional"
   ]
  },
  {
   "cell_type": "code",
   "execution_count": 14,
   "metadata": {},
   "outputs": [
    {
     "name": "stdout",
     "output_type": "stream",
     "text": [
      "442 µs ± 63 µs per loop (mean ± std. dev. of 7 runs, 1,000 loops each)\n",
      "Desvio populacional dos salario = 2.8657394571733166\n"
     ]
    }
   ],
   "source": [
    "# usando sem metodos numpy\n",
    "%timeit lista_salarios.desvioPadraoPopulacional()\n",
    "print(\"Desvio populacional dos salario = \" + str(lista_salarios.desvioPadraoPopulacional()))"
   ]
  },
  {
   "cell_type": "code",
   "execution_count": 15,
   "metadata": {},
   "outputs": [
    {
     "name": "stdout",
     "output_type": "stream",
     "text": [
      "35 µs ± 3.75 µs per loop (mean ± std. dev. of 7 runs, 10,000 loops each)\n",
      "Desvio populacional dos salario = 2.865739457173314\n"
     ]
    }
   ],
   "source": [
    "# usando metodos numpy\n",
    "%timeit notas.desvioPadraoPopulacionalAluno()\n",
    "print(\"Desvio populacional dos salario = \" + str(notas.desvioPadraoPopulacionalAluno()))"
   ]
  },
  {
   "cell_type": "markdown",
   "metadata": {},
   "source": [
    "### Variancia populacional"
   ]
  },
  {
   "cell_type": "code",
   "execution_count": 16,
   "metadata": {},
   "outputs": [
    {
     "name": "stdout",
     "output_type": "stream",
     "text": [
      "546 µs ± 88.6 µs per loop (mean ± std. dev. of 7 runs, 1,000 loops each)\n",
      "Variancia populacional dos salario = 8.212462636400016\n"
     ]
    }
   ],
   "source": [
    "# usando sem metodos numpy\n",
    "%timeit lista_salarios.varianciaPopulacional()\n",
    "print(\"Variancia populacional dos salario = \" + str(lista_salarios.varianciaPopulacional()))"
   ]
  },
  {
   "cell_type": "code",
   "execution_count": 17,
   "metadata": {},
   "outputs": [
    {
     "name": "stdout",
     "output_type": "stream",
     "text": [
      "29.2 µs ± 2.84 µs per loop (mean ± std. dev. of 7 runs, 10,000 loops each)\n",
      "Variancia populacional dos salario = 8.2124626364\n"
     ]
    }
   ],
   "source": [
    "# usando metodos numpy\n",
    "%timeit notas.varianciaPopulacionalAluno()\n",
    "print(\"Variancia populacional dos salario = \" + str(notas.varianciaPopulacionalAluno()))"
   ]
  },
  {
   "cell_type": "markdown",
   "metadata": {},
   "source": [
    "### Desvio padrao amostral"
   ]
  },
  {
   "cell_type": "code",
   "execution_count": 18,
   "metadata": {},
   "outputs": [
    {
     "name": "stdout",
     "output_type": "stream",
     "text": [
      "437 µs ± 39.5 µs per loop (mean ± std. dev. of 7 runs, 1,000 loops each)\n",
      "Desvio amostral dos salario = 2.8671734024505278\n"
     ]
    }
   ],
   "source": [
    "# usando sem metodos numpy\n",
    "%timeit lista_salarios.desvioPadraoAmostral()\n",
    "print(\"Desvio amostral dos salario = \" + str(lista_salarios.desvioPadraoAmostral()))"
   ]
  },
  {
   "cell_type": "code",
   "execution_count": 19,
   "metadata": {},
   "outputs": [
    {
     "name": "stdout",
     "output_type": "stream",
     "text": [
      "29.7 µs ± 2.97 µs per loop (mean ± std. dev. of 7 runs, 10,000 loops each)\n",
      "Desvio amostral dos salario = 2.867173402450525\n"
     ]
    }
   ],
   "source": [
    "# usando metodos numpy\n",
    "%timeit notas.desvioPadraoAmostralAluno()\n",
    "print(\"Desvio amostral dos salario = \" + str(notas.desvioPadraoAmostralAluno()))"
   ]
  },
  {
   "cell_type": "markdown",
   "metadata": {},
   "source": [
    "### Variancia amostral"
   ]
  },
  {
   "cell_type": "code",
   "execution_count": 22,
   "metadata": {},
   "outputs": [
    {
     "name": "stdout",
     "output_type": "stream",
     "text": [
      "422 µs ± 18.8 µs per loop (mean ± std. dev. of 7 runs, 1,000 loops each)\n",
      "Variancia amostral dos salario = 8.220683319719736\n"
     ]
    }
   ],
   "source": [
    "# usando sem metodos numpy\n",
    "%timeit lista_salarios.varianciaAmostral()\n",
    "print(\"Variancia amostral dos salario = \" + str(lista_salarios.varianciaAmostral()))"
   ]
  },
  {
   "cell_type": "code",
   "execution_count": 23,
   "metadata": {},
   "outputs": [
    {
     "name": "stdout",
     "output_type": "stream",
     "text": [
      "26.9 µs ± 1.43 µs per loop (mean ± std. dev. of 7 runs, 10,000 loops each)\n",
      "Variancia amostral dos salario = 8.22068331971972\n"
     ]
    }
   ],
   "source": [
    "# usando metodos numpy\n",
    "%timeit notas.varianciaAmostralAluno()\n",
    "print(\"Variancia amostral dos salario = \" + str(notas.varianciaAmostralAluno()))"
   ]
  }
 ],
 "metadata": {
  "kernelspec": {
   "display_name": "residencia",
   "language": "python",
   "name": "python3"
  },
  "language_info": {
   "codemirror_mode": {
    "name": "ipython",
    "version": 3
   },
   "file_extension": ".py",
   "mimetype": "text/x-python",
   "name": "python",
   "nbconvert_exporter": "python",
   "pygments_lexer": "ipython3",
   "version": "3.11.5"
  }
 },
 "nbformat": 4,
 "nbformat_minor": 2
}
