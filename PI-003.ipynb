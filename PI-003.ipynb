{
 "cells": [
  {
   "cell_type": "markdown",
   "metadata": {},
   "source": [
    "# Comparação entre medidas estatisticas feitas com numpy e lista nativa do python"
   ]
  },
  {
   "cell_type": "code",
   "execution_count": 12,
   "metadata": {},
   "outputs": [],
   "source": [
    "from DataFruta_V1.ListaSalarios import ListaSalarios\n",
    "import numpy as np\n",
    "\n",
    "tamanho = 1000\n",
    "\n",
    "salarios = ListaSalarios.geraListaSalarios(tamanho)\n",
    "\n",
    "lista_salarios = salarios.lista"
   ]
  },
  {
   "cell_type": "markdown",
   "metadata": {},
   "source": [
    "## Médias e medidas de valor central"
   ]
  },
  {
   "cell_type": "markdown",
   "metadata": {},
   "source": [
    "### Média aritmética"
   ]
  },
  {
   "cell_type": "code",
   "execution_count": 13,
   "metadata": {},
   "outputs": [
    {
     "name": "stdout",
     "output_type": "stream",
     "text": [
      "103 µs ± 6.38 µs per loop (mean ± std. dev. of 7 runs, 10,000 loops each)\n",
      "Media dos salario = 5700.137827403773\n"
     ]
    }
   ],
   "source": [
    "# usando sem metodos numpy\n",
    "%timeit salarios.mediaAritmetica()\n",
    "print(\"Media dos salario = \" + str(salarios.mediaAritmetica()))"
   ]
  },
  {
   "cell_type": "code",
   "execution_count": 14,
   "metadata": {},
   "outputs": [
    {
     "name": "stdout",
     "output_type": "stream",
     "text": [
      "7.64 µs ± 389 ns per loop (mean ± std. dev. of 7 runs, 100,000 loops each)\n",
      "Media dos salario = 5700.137827403758\n"
     ]
    }
   ],
   "source": [
    "# usando metodos numpy\n",
    "%timeit np.mean(lista_salarios)\n",
    "print(\"Media dos salario = \" + str(np.mean(lista_salarios)))"
   ]
  },
  {
   "cell_type": "markdown",
   "metadata": {},
   "source": [
    "### Media geométrica"
   ]
  },
  {
   "cell_type": "code",
   "execution_count": 15,
   "metadata": {},
   "outputs": [
    {
     "name": "stderr",
     "output_type": "stream",
     "text": [
      "c:\\Users\\evera\\Documents\\workspace\\Trilha_Python\\DataFruta_V1\\ListaSalarios.py:125: RuntimeWarning: overflow encountered in scalar multiply\n",
      "  produto *= i\n"
     ]
    },
    {
     "name": "stdout",
     "output_type": "stream",
     "text": [
      "142 µs ± 16.7 µs per loop (mean ± std. dev. of 7 runs, 10,000 loops each)\n",
      "Media geometrica dos salario = inf\n"
     ]
    }
   ],
   "source": [
    "# usando sem metodos numpy\n",
    "%timeit salarios.mediaGeometrica()\n",
    "print(\"Media geometrica dos salario = \" + str(salarios.mediaGeometrica()))"
   ]
  },
  {
   "cell_type": "code",
   "execution_count": 16,
   "metadata": {},
   "outputs": [
    {
     "name": "stdout",
     "output_type": "stream",
     "text": [
      "12.2 µs ± 1.49 µs per loop (mean ± std. dev. of 7 runs, 100,000 loops each)\n",
      "Media geometrica dos salario = inf\n"
     ]
    }
   ],
   "source": [
    "# usando metodos numpy\n",
    "%timeit np.prod(lista_salarios)**(1/len(lista_salarios))\n",
    "print(\"Media geometrica dos salario = \" + str(np.prod(lista_salarios)**(1/len(lista_salarios))))"
   ]
  },
  {
   "cell_type": "markdown",
   "metadata": {},
   "source": [
    "### Media harmonica"
   ]
  },
  {
   "cell_type": "code",
   "execution_count": 17,
   "metadata": {},
   "outputs": [
    {
     "name": "stdout",
     "output_type": "stream",
     "text": [
      "207 µs ± 12.2 µs per loop (mean ± std. dev. of 7 runs, 10,000 loops each)\n",
      "Media harmonica dos salario = 4310.529895667538\n"
     ]
    }
   ],
   "source": [
    "# usando sem metodos numpy\n",
    "%timeit salarios.mediaHarmonica()\n",
    "print(\"Media harmonica dos salario = \" + str(salarios.mediaHarmonica()))"
   ]
  },
  {
   "cell_type": "code",
   "execution_count": 18,
   "metadata": {},
   "outputs": [
    {
     "name": "stdout",
     "output_type": "stream",
     "text": [
      "10.9 µs ± 569 ns per loop (mean ± std. dev. of 7 runs, 100,000 loops each)\n",
      "Media harmonica dos salario = 4310.52989566754\n"
     ]
    }
   ],
   "source": [
    "# usando metodos numpy\n",
    "%timeit len(lista_salarios) / np.sum(1/np.array(lista_salarios))\n",
    "print(\"Media harmonica dos salario = \" + str(len(lista_salarios) / np.sum(1/np.array(lista_salarios))))"
   ]
  },
  {
   "cell_type": "markdown",
   "metadata": {},
   "source": [
    "### Mediana"
   ]
  },
  {
   "cell_type": "code",
   "execution_count": 37,
   "metadata": {},
   "outputs": [
    {
     "name": "stdout",
     "output_type": "stream",
     "text": [
      "16.4 µs ± 820 ns per loop (mean ± std. dev. of 7 runs, 100,000 loops each)\n",
      "Mediana dos salario = 5710.341638400105\n"
     ]
    }
   ],
   "source": [
    "# usando sem metodos numpy\n",
    "%timeit salarios.mediana()\n",
    "print(\"Mediana dos salario = \" + str(salarios.mediana()))"
   ]
  },
  {
   "cell_type": "code",
   "execution_count": 38,
   "metadata": {},
   "outputs": [
    {
     "name": "stdout",
     "output_type": "stream",
     "text": [
      "33.6 µs ± 2.59 µs per loop (mean ± std. dev. of 7 runs, 10,000 loops each)\n",
      "Mediana dos salario = 5710.341638400105\n"
     ]
    }
   ],
   "source": [
    "# usando metodos numpy\n",
    "%timeit np.median(lista_salarios)\n",
    "print(\"Mediana dos salario = \" + str(np.median(lista_salarios)))"
   ]
  },
  {
   "cell_type": "markdown",
   "metadata": {},
   "source": [
    "### Mediana inferior"
   ]
  },
  {
   "cell_type": "code",
   "execution_count": 22,
   "metadata": {},
   "outputs": [
    {
     "name": "stdout",
     "output_type": "stream",
     "text": [
      "269 µs ± 24.6 µs per loop (mean ± std. dev. of 7 runs, 1,000 loops each)\n",
      "Mediana inferior dos salario = 3572.581391293322\n"
     ]
    }
   ],
   "source": [
    "# usando sem metodos numpy\n",
    "%timeit salarios.medianaInferior()\n",
    "print(\"Mediana inferior dos salario = \" + str(salarios.medianaInferior()))"
   ]
  },
  {
   "cell_type": "code",
   "execution_count": 23,
   "metadata": {},
   "outputs": [
    {
     "name": "stdout",
     "output_type": "stream",
     "text": [
      "119 µs ± 5.59 µs per loop (mean ± std. dev. of 7 runs, 10,000 loops each)\n",
      "Mediana inferior dos salario = 3572.301220300151\n"
     ]
    }
   ],
   "source": [
    "# usando metodos numpy\n",
    "%timeit np.percentile(lista_salarios, 25)\n",
    "print(\"Mediana inferior dos salario = \" + str(np.percentile(lista_salarios, 25)))"
   ]
  },
  {
   "cell_type": "markdown",
   "metadata": {},
   "source": [
    "### Mediana superior"
   ]
  },
  {
   "cell_type": "code",
   "execution_count": 24,
   "metadata": {},
   "outputs": [
    {
     "name": "stdout",
     "output_type": "stream",
     "text": [
      "277 µs ± 28.9 µs per loop (mean ± std. dev. of 7 runs, 1,000 loops each)\n",
      "Mediana superior dos salario = 8082.598657311342\n"
     ]
    }
   ],
   "source": [
    "# usando sem metodos numpy\n",
    "%timeit salarios.medianaSuperior()\n",
    "print(\"Mediana superior dos salario = \" + str(salarios.medianaSuperior()))"
   ]
  },
  {
   "cell_type": "code",
   "execution_count": 26,
   "metadata": {},
   "outputs": [
    {
     "name": "stdout",
     "output_type": "stream",
     "text": [
      "128 µs ± 6.77 µs per loop (mean ± std. dev. of 7 runs, 10,000 loops each)\n",
      "Mediana superior dos salario = 8074.981613190894\n"
     ]
    }
   ],
   "source": [
    "# usando metodos numpy\n",
    "%timeit np.percentile(lista_salarios, 75)\n",
    "print(\"Mediana superior dos salario = \" + str(np.percentile(lista_salarios, 75)))"
   ]
  },
  {
   "cell_type": "markdown",
   "metadata": {},
   "source": [
    "## Medidas de espalhamento"
   ]
  },
  {
   "cell_type": "markdown",
   "metadata": {},
   "source": [
    "### Desvio padrao populacional"
   ]
  },
  {
   "cell_type": "code",
   "execution_count": 29,
   "metadata": {},
   "outputs": [
    {
     "name": "stdout",
     "output_type": "stream",
     "text": [
      "421 µs ± 32 µs per loop (mean ± std. dev. of 7 runs, 1,000 loops each)\n",
      "Desvio populacional dos salario = 2536.5054176237713\n"
     ]
    }
   ],
   "source": [
    "# usando sem metodos numpy\n",
    "%timeit salarios.desvioPadraoPopulacional()\n",
    "print(\"Desvio populacional dos salario = \" + str(salarios.desvioPadraoPopulacional()))"
   ]
  },
  {
   "cell_type": "code",
   "execution_count": 30,
   "metadata": {},
   "outputs": [
    {
     "name": "stdout",
     "output_type": "stream",
     "text": [
      "37.3 µs ± 8.3 µs per loop (mean ± std. dev. of 7 runs, 10,000 loops each)\n",
      "Desvio populacional dos salario = 2536.5054176237722\n"
     ]
    }
   ],
   "source": [
    "# usando metodos numpy\n",
    "%timeit np.std(lista_salarios)\n",
    "print(\"Desvio populacional dos salario = \" + str(np.std(lista_salarios)))"
   ]
  },
  {
   "cell_type": "markdown",
   "metadata": {},
   "source": [
    "### Variancia populacional"
   ]
  },
  {
   "cell_type": "code",
   "execution_count": 31,
   "metadata": {},
   "outputs": [
    {
     "name": "stdout",
     "output_type": "stream",
     "text": [
      "401 µs ± 17.4 µs per loop (mean ± std. dev. of 7 runs, 1,000 loops each)\n",
      "Variancia populacional dos salario = 6433859.733634743\n"
     ]
    }
   ],
   "source": [
    "# usando sem metodos numpy\n",
    "%timeit salarios.varianciaPopulacional()\n",
    "print(\"Variancia populacional dos salario = \" + str(salarios.varianciaPopulacional()))"
   ]
  },
  {
   "cell_type": "code",
   "execution_count": 32,
   "metadata": {},
   "outputs": [
    {
     "name": "stdout",
     "output_type": "stream",
     "text": [
      "26 µs ± 1.64 µs per loop (mean ± std. dev. of 7 runs, 10,000 loops each)\n",
      "Variancia populacional dos salario = 6433859.733634747\n"
     ]
    }
   ],
   "source": [
    "# usando metodos numpy\n",
    "%timeit np.var(lista_salarios)\n",
    "print(\"Variancia populacional dos salario = \" + str(np.var(lista_salarios)))"
   ]
  },
  {
   "cell_type": "markdown",
   "metadata": {},
   "source": [
    "### Desvio padrao amostral"
   ]
  },
  {
   "cell_type": "code",
   "execution_count": 33,
   "metadata": {},
   "outputs": [
    {
     "name": "stdout",
     "output_type": "stream",
     "text": [
      "419 µs ± 41.9 µs per loop (mean ± std. dev. of 7 runs, 1,000 loops each)\n",
      "Desvio amostral dos salario = 2537.774622315467\n"
     ]
    }
   ],
   "source": [
    "# usando sem metodos numpy\n",
    "%timeit salarios.desvioPadraoAmostral()\n",
    "print(\"Desvio amostral dos salario = \" + str(salarios.desvioPadraoAmostral()))"
   ]
  },
  {
   "cell_type": "code",
   "execution_count": 34,
   "metadata": {},
   "outputs": [
    {
     "name": "stdout",
     "output_type": "stream",
     "text": [
      "29.5 µs ± 3.41 µs per loop (mean ± std. dev. of 7 runs, 10,000 loops each)\n",
      "Desvio amostral dos salario = 2537.7746223154677\n"
     ]
    }
   ],
   "source": [
    "# usando metodos numpy\n",
    "%timeit np.std(lista_salarios, ddof=1)\n",
    "print(\"Desvio amostral dos salario = \" + str(np.std(lista_salarios, ddof=1)))"
   ]
  },
  {
   "cell_type": "markdown",
   "metadata": {},
   "source": [
    "### Variancia amostral"
   ]
  },
  {
   "cell_type": "code",
   "execution_count": 35,
   "metadata": {},
   "outputs": [
    {
     "name": "stdout",
     "output_type": "stream",
     "text": [
      "424 µs ± 35.4 µs per loop (mean ± std. dev. of 7 runs, 1,000 loops each)\n",
      "Variancia amostral dos salario = 6440300.033668411\n"
     ]
    }
   ],
   "source": [
    "# usando sem metodos numpy\n",
    "%timeit salarios.varianciaAmostral()\n",
    "print(\"Variancia amostral dos salario = \" + str(salarios.varianciaAmostral()))"
   ]
  },
  {
   "cell_type": "code",
   "execution_count": 36,
   "metadata": {},
   "outputs": [
    {
     "name": "stdout",
     "output_type": "stream",
     "text": [
      "27 µs ± 1.91 µs per loop (mean ± std. dev. of 7 runs, 10,000 loops each)\n",
      "Variancia amostral dos salario = 6440300.033668415\n"
     ]
    }
   ],
   "source": [
    "# usando metodos numpy\n",
    "%timeit np.var(lista_salarios, ddof=1)\n",
    "print(\"Variancia amostral dos salario = \" + str(np.var(lista_salarios, ddof=1)))"
   ]
  },
  {
   "cell_type": "markdown",
   "metadata": {},
   "source": [
    "## Resultados\n",
    "\n",
    "> Com execeção da mediana, ao usar numpy os resultados foram obtidos de forma muito mais rapida. Esse resultado em espcifico pode ser devido ao numero pequeno de elementos na lista.\n",
    "> \n",
    "> Abaixo uma tabela com os tempos de execução para uma lista com 1000 elementos.\n",
    "\n",
    "| Metodo | Tempo Lista | Tempo Numpy |\n",
    "| ------ | ----------- | ----------- |\n",
    "| Média aritmética | 103 µs | 7.64 µs |\n",
    "| Média geométrica | 142 µs | 12.2 µs |\n",
    "| Média harmonica | 207 µs | 10.9 µs |\n",
    "| Mediana | 16.4 µs | 33.6 µs |\n",
    "| Mediana inferior | 269 µs | 119 µs |\n",
    "| Mediana superior | 277 µs | 128 µs |\n",
    "| Desvio padrao populacional | 421 µs | 37.3 µs |\n",
    "| Variancia populacional | 401 µs | 26 µs |\n",
    "| Desvio padrao amostral | 419 µs | 29.5 µs |\n",
    "| Variancia amostral | 424 µs | 27 µs  |\n"
   ]
  }
 ],
 "metadata": {
  "kernelspec": {
   "display_name": "residencia",
   "language": "python",
   "name": "python3"
  },
  "language_info": {
   "codemirror_mode": {
    "name": "ipython",
    "version": 3
   },
   "file_extension": ".py",
   "mimetype": "text/x-python",
   "name": "python",
   "nbconvert_exporter": "python",
   "pygments_lexer": "ipython3",
   "version": "3.11.5"
  }
 },
 "nbformat": 4,
 "nbformat_minor": 2
}
